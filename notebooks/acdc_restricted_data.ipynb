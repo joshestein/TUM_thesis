{
 "cells": [
  {
   "cell_type": "code",
   "execution_count": 1,
   "metadata": {
    "collapsed": false
   },
   "outputs": [],
   "source": [
    "import importlib\n",
    "import os\n",
    "import sys\n",
    "import tomllib\n",
    "from pathlib import Path\n",
    "from pprint import pprint\n",
    "\n",
    "import torch\n",
    "import wandb\n",
    "from monai.losses import DiceLoss\n",
    "from monai.metrics import DiceMetric, HausdorffDistanceMetric\n",
    "from monai.networks.layers import Norm\n",
    "from monai.networks.nets import UNet\n",
    "from monai.utils import set_determinism\n",
    "from torch.utils.data import DataLoader, random_split\n",
    "\n",
    "from src.datasets.acdc_dataset import ACDCDataset\n",
    "from src.train import train\n",
    "from src.transforms import get_transforms\n",
    "from src.utils import find_optimal_learning_rate, setup_dirs\n",
    "from src.visualization import visualize_loss_curves, visualize_predictions\n",
    "\n",
    "sys.path.insert(0, \"..\")"
   ]
  },
  {
   "cell_type": "code",
   "execution_count": 2,
   "outputs": [
    {
     "name": "stdout",
     "output_type": "stream",
     "text": [
      "{'hyperparameters': {'batch_size': 1,\n",
      "                     'epochs': 100,\n",
      "                     'learning_rate': 1e-05,\n",
      "                     'percentage_data': 1.0,\n",
      "                     'seed': 42,\n",
      "                     'validation_split': 0.8}}\n"
     ]
    }
   ],
   "source": [
    "root_dir = Path(os.getcwd()).parent\n",
    "data_dir, log_dir, root_out_dir = setup_dirs(root_dir)\n",
    "data_dir = data_dir / \"ACDC\" / \"database\"\n",
    "\n",
    "with open(root_dir / \"config.toml\", \"rb\") as file:\n",
    "    config = tomllib.load(file)\n",
    "\n",
    "pprint(config)\n",
    "batch_size = config[\"hyperparameters\"].get(\"batch_size\", 4)\n",
    "epochs = config[\"hyperparameters\"].get(\"epochs\", 100)\n",
    "learning_rate = config[\"hyperparameters\"].get(\"learning_rate\", 1e-5)\n",
    "percentage_data = config[\"hyperparameters\"].get(\"percentage_data\", 1.0)\n",
    "validation_split = config[\"hyperparameters\"].get(\"validation_split\", 0.8)\n",
    "\n",
    "set_determinism(seed=config[\"hyperparameters\"][\"seed\"])"
   ],
   "metadata": {
    "collapsed": false
   }
  },
  {
   "cell_type": "code",
   "execution_count": 3,
   "outputs": [],
   "source": [
    "importlib.reload(sys.modules[\"src.transforms\"])\n",
    "\n",
    "train_transforms = get_transforms()"
   ],
   "metadata": {
    "collapsed": false
   }
  },
  {
   "cell_type": "code",
   "execution_count": 4,
   "outputs": [],
   "source": [
    "device = torch.device(\"cuda\") if torch.cuda.is_available() else torch.device(\"cpu\")\n",
    "model = UNet(\n",
    "    spatial_dims=3,\n",
    "    in_channels=1,\n",
    "    out_channels=4,\n",
    "    # channels=(26, 52, 104, 208, 416),\n",
    "    channels=(16, 32, 64, 128, 256),\n",
    "    strides=(2, 2, 2, 2),\n",
    "    norm=Norm.BATCH,\n",
    "    # num_res_units=4,\n",
    "    # dropout=0.5,\n",
    ").to(device)\n",
    "\n",
    "loss_function = DiceLoss(to_onehot_y=True, softmax=True)\n",
    "# TODO: weight decay check\n",
    "optimizer = torch.optim.Adam(model.parameters())\n",
    "\n",
    "metrics = {\n",
    "    \"dice\": DiceMetric(include_background=False, reduction=\"mean\"),\n",
    "    \"dice_with_background\": DiceMetric(include_background=True, reduction=\"mean\"),\n",
    "    \"hausdorff\": HausdorffDistanceMetric(include_background=False, reduction=\"mean\"),\n",
    "    \"dice_per_label\": DiceMetric(include_background=False, reduction=\"mean_batch\"),\n",
    "    \"dice_per_label_with_background\": DiceMetric(include_background=True, reduction=\"mean_batch\"),\n",
    "    \"hausdorff_per_label\": HausdorffDistanceMetric(include_background=False, reduction=\"mean_batch\"),\n",
    "}"
   ],
   "metadata": {
    "collapsed": false
   }
  },
  {
   "cell_type": "code",
   "execution_count": 5,
   "outputs": [
    {
     "name": "stdout",
     "output_type": "stream",
     "text": [
      "Computing optimal learning rate, iteration 1/100\n"
     ]
    },
    {
     "name": "stderr",
     "output_type": "stream",
     "text": [
      "/Users/joshstein/Documents/thesis/code/.venv/lib/python3.11/site-packages/torch/_tensor.py:1295: UserWarning: TypedStorage is deprecated. It will be removed in the future and UntypedStorage will be the only storage class. This should only matter to you if you are using storages directly.  To access UntypedStorage directly, use tensor.untyped_storage() instead of tensor.storage()\n",
      "  ret = func(*args, **kwargs)\n",
      "/Users/joshstein/Documents/thesis/code/.venv/lib/python3.11/site-packages/monai/data/__init__.py:127: UserWarning: TypedStorage is deprecated. It will be removed in the future and UntypedStorage will be the only storage class. This should only matter to you if you are using storages directly.  To access UntypedStorage directly, use tensor.untyped_storage() instead of tensor.storage()\n",
      "  if storage.is_cuda:\n",
      "/Users/joshstein/Documents/thesis/code/.venv/lib/python3.11/site-packages/monai/data/__init__.py:120: UserWarning: TypedStorage is deprecated. It will be removed in the future and UntypedStorage will be the only storage class. This should only matter to you if you are using storages directly.  To access UntypedStorage directly, use tensor.untyped_storage() instead of tensor.storage()\n",
      "  t = cls([], dtype=storage.dtype, device=storage.device)\n"
     ]
    },
    {
     "name": "stdout",
     "output_type": "stream",
     "text": [
      "Computing optimal learning rate, iteration 2/100\n",
      "Computing optimal learning rate, iteration 3/100\n",
      "Computing optimal learning rate, iteration 4/100\n",
      "Computing optimal learning rate, iteration 5/100\n",
      "Computing optimal learning rate, iteration 6/100\n",
      "Computing optimal learning rate, iteration 7/100\n",
      "Computing optimal learning rate, iteration 8/100\n",
      "Computing optimal learning rate, iteration 9/100\n",
      "Computing optimal learning rate, iteration 10/100\n",
      "Computing optimal learning rate, iteration 11/100\n",
      "Computing optimal learning rate, iteration 12/100\n",
      "Computing optimal learning rate, iteration 13/100\n",
      "Computing optimal learning rate, iteration 14/100\n",
      "Computing optimal learning rate, iteration 15/100\n",
      "Computing optimal learning rate, iteration 16/100\n",
      "Computing optimal learning rate, iteration 17/100\n",
      "Computing optimal learning rate, iteration 18/100\n",
      "Computing optimal learning rate, iteration 19/100\n",
      "Computing optimal learning rate, iteration 20/100\n",
      "Computing optimal learning rate, iteration 21/100\n",
      "Computing optimal learning rate, iteration 22/100\n",
      "Computing optimal learning rate, iteration 23/100\n",
      "Computing optimal learning rate, iteration 24/100\n",
      "Computing optimal learning rate, iteration 25/100\n",
      "Computing optimal learning rate, iteration 26/100\n",
      "Computing optimal learning rate, iteration 27/100\n",
      "Computing optimal learning rate, iteration 28/100\n",
      "Computing optimal learning rate, iteration 29/100\n",
      "Computing optimal learning rate, iteration 30/100\n",
      "Computing optimal learning rate, iteration 31/100\n",
      "Computing optimal learning rate, iteration 32/100\n",
      "Computing optimal learning rate, iteration 33/100\n",
      "Computing optimal learning rate, iteration 34/100\n",
      "Computing optimal learning rate, iteration 35/100\n",
      "Computing optimal learning rate, iteration 36/100\n",
      "Computing optimal learning rate, iteration 37/100\n",
      "Computing optimal learning rate, iteration 38/100\n",
      "Computing optimal learning rate, iteration 39/100\n",
      "Computing optimal learning rate, iteration 40/100\n",
      "Computing optimal learning rate, iteration 41/100\n",
      "Computing optimal learning rate, iteration 42/100\n",
      "Computing optimal learning rate, iteration 43/100\n",
      "Computing optimal learning rate, iteration 44/100\n",
      "Computing optimal learning rate, iteration 45/100\n",
      "Computing optimal learning rate, iteration 46/100\n",
      "Computing optimal learning rate, iteration 47/100\n",
      "Computing optimal learning rate, iteration 48/100\n",
      "Computing optimal learning rate, iteration 49/100\n",
      "Computing optimal learning rate, iteration 50/100\n",
      "Computing optimal learning rate, iteration 51/100\n",
      "Computing optimal learning rate, iteration 52/100\n",
      "Computing optimal learning rate, iteration 53/100\n",
      "Computing optimal learning rate, iteration 54/100\n",
      "Computing optimal learning rate, iteration 55/100\n",
      "Computing optimal learning rate, iteration 56/100\n",
      "Computing optimal learning rate, iteration 57/100\n",
      "Computing optimal learning rate, iteration 58/100\n",
      "Computing optimal learning rate, iteration 59/100\n",
      "Computing optimal learning rate, iteration 60/100\n",
      "Computing optimal learning rate, iteration 61/100\n",
      "Computing optimal learning rate, iteration 62/100\n",
      "Computing optimal learning rate, iteration 63/100\n",
      "Computing optimal learning rate, iteration 64/100\n",
      "Computing optimal learning rate, iteration 65/100\n",
      "Computing optimal learning rate, iteration 66/100\n",
      "Computing optimal learning rate, iteration 67/100\n",
      "Computing optimal learning rate, iteration 68/100\n",
      "Computing optimal learning rate, iteration 69/100\n",
      "Computing optimal learning rate, iteration 70/100\n",
      "Computing optimal learning rate, iteration 71/100\n",
      "Computing optimal learning rate, iteration 72/100\n",
      "Computing optimal learning rate, iteration 73/100\n",
      "Computing optimal learning rate, iteration 74/100\n",
      "Computing optimal learning rate, iteration 75/100\n",
      "Computing optimal learning rate, iteration 76/100\n",
      "Computing optimal learning rate, iteration 77/100\n",
      "Computing optimal learning rate, iteration 78/100\n",
      "Computing optimal learning rate, iteration 79/100\n",
      "Computing optimal learning rate, iteration 80/100\n",
      "Computing optimal learning rate, iteration 81/100\n",
      "Computing optimal learning rate, iteration 82/100\n",
      "Computing optimal learning rate, iteration 83/100\n",
      "Computing optimal learning rate, iteration 84/100\n",
      "Computing optimal learning rate, iteration 85/100\n",
      "Computing optimal learning rate, iteration 86/100\n",
      "Computing optimal learning rate, iteration 87/100\n",
      "Computing optimal learning rate, iteration 88/100\n",
      "Computing optimal learning rate, iteration 89/100\n",
      "Computing optimal learning rate, iteration 90/100\n",
      "Computing optimal learning rate, iteration 91/100\n",
      "Computing optimal learning rate, iteration 92/100\n",
      "Computing optimal learning rate, iteration 93/100\n",
      "Computing optimal learning rate, iteration 94/100\n",
      "Computing optimal learning rate, iteration 95/100\n",
      "Computing optimal learning rate, iteration 96/100\n",
      "Computing optimal learning rate, iteration 97/100\n",
      "Computing optimal learning rate, iteration 98/100\n",
      "Computing optimal learning rate, iteration 99/100\n",
      "Computing optimal learning rate, iteration 100/100\n",
      "Resetting model and optimizer\n",
      "Optimal learning rate found: 0.0006892612104349696\n"
     ]
    }
   ],
   "source": [
    "full_dataset_loader = DataLoader(\n",
    "    ACDCDataset(\n",
    "        data_dir=data_dir, train=True, transform=train_transforms, percentage_data=1\n",
    "    ),\n",
    "    batch_size=batch_size,\n",
    "    shuffle=True,\n",
    "    num_workers=1,\n",
    ")\n",
    "\n",
    "# Find the optimal learning rate using the full dataset\n",
    "# Use the config learning rate as a midpoint.\n",
    "optimal_learning_rate = find_optimal_learning_rate(\n",
    "    model=model,\n",
    "    optimizer=optimizer,\n",
    "    criterion=loss_function,\n",
    "    device=device,\n",
    "    train_loader=full_dataset_loader,\n",
    "    start_lr=learning_rate / 100,\n",
    "    end_lr=learning_rate * 100,\n",
    "    iterations=100,\n",
    ")\n",
    "\n",
    "if optimal_learning_rate is None:\n",
    "    print(\"Optimal learning rate not found, using default learning rate.\")\n",
    "    optimal_learning_rate = learning_rate\n",
    "else:\n",
    "    print(f\"Optimal learning rate found: {optimal_learning_rate}\")\n",
    "\n",
    "for group in optimizer.param_groups:\n",
    "    group[\"lr\"] = optimal_learning_rate\n",
    "\n",
    "config[\"hyperparameters\"][\"optimal_learning_rate\"] = optimal_learning_rate"
   ],
   "metadata": {
    "collapsed": false
   }
  },
  {
   "cell_type": "code",
   "execution_count": 6,
   "outputs": [],
   "source": [
    "def get_train_dataloaders(dataset: torch.utils.data.Dataset):\n",
    "    total_training_number = len(dataset)\n",
    "    train_size = int(validation_split * total_training_number)\n",
    "    test_size = total_training_number - train_size\n",
    "\n",
    "    train_ds, val_ds = random_split(dataset, [train_size, test_size])\n",
    "    train_loader = DataLoader(\n",
    "        train_ds, batch_size=batch_size, shuffle=True, num_workers=1\n",
    "    )\n",
    "    val_loader = DataLoader(val_ds, batch_size=batch_size, shuffle=True, num_workers=1)\n",
    "\n",
    "    return train_loader, val_loader"
   ],
   "metadata": {
    "collapsed": false
   }
  },
  {
   "cell_type": "code",
   "execution_count": null,
   "outputs": [
    {
     "name": "stderr",
     "output_type": "stream",
     "text": [
      "\u001B[34m\u001B[1mwandb\u001B[0m: Currently logged in as: \u001B[33mjosh-stein\u001B[0m. Use \u001B[1m`wandb login --relogin`\u001B[0m to force relogin\n"
     ]
    },
    {
     "data": {
      "text/plain": "VBox(children=(Label(value='Waiting for wandb.init()...\\r'), FloatProgress(value=0.01669572708196938, max=1.0)…",
      "application/vnd.jupyter.widget-view+json": {
       "version_major": 2,
       "version_minor": 0,
       "model_id": "0896c7b2f7cd483e8f66af897afb6278"
      }
     },
     "metadata": {},
     "output_type": "display_data"
    },
    {
     "data": {
      "text/plain": "<IPython.core.display.HTML object>",
      "text/html": "wandb version 0.14.0 is available!  To upgrade, please run:\n $ pip install wandb --upgrade"
     },
     "metadata": {},
     "output_type": "display_data"
    },
    {
     "data": {
      "text/plain": "<IPython.core.display.HTML object>",
      "text/html": "Tracking run with wandb version 0.13.10"
     },
     "metadata": {},
     "output_type": "display_data"
    },
    {
     "data": {
      "text/plain": "<IPython.core.display.HTML object>",
      "text/html": "Run data is saved locally in <code>/Users/joshstein/Documents/thesis/code/logs/wandb/run-20230324_114103-loia50mw</code>"
     },
     "metadata": {},
     "output_type": "display_data"
    },
    {
     "data": {
      "text/plain": "<IPython.core.display.HTML object>",
      "text/html": "Syncing run <strong><a href='https://wandb.ai/josh-stein/acdc-3D-UNet-baseline/runs/loia50mw' target=\"_blank\">dazzling-shape-37</a></strong> to <a href='https://wandb.ai/josh-stein/acdc-3D-UNet-baseline' target=\"_blank\">Weights & Biases</a> (<a href='https://wandb.me/run' target=\"_blank\">docs</a>)<br/>"
     },
     "metadata": {},
     "output_type": "display_data"
    },
    {
     "data": {
      "text/plain": "<IPython.core.display.HTML object>",
      "text/html": " View project at <a href='https://wandb.ai/josh-stein/acdc-3D-UNet-baseline' target=\"_blank\">https://wandb.ai/josh-stein/acdc-3D-UNet-baseline</a>"
     },
     "metadata": {},
     "output_type": "display_data"
    },
    {
     "data": {
      "text/plain": "<IPython.core.display.HTML object>",
      "text/html": " View run at <a href='https://wandb.ai/josh-stein/acdc-3D-UNet-baseline/runs/loia50mw' target=\"_blank\">https://wandb.ai/josh-stein/acdc-3D-UNet-baseline/runs/loia50mw</a>"
     },
     "metadata": {},
     "output_type": "display_data"
    },
    {
     "name": "stdout",
     "output_type": "stream",
     "text": [
      "----------\n",
      "epoch 1/100\n"
     ]
    },
    {
     "name": "stderr",
     "output_type": "stream",
     "text": [
      "/Users/joshstein/Documents/thesis/code/.venv/lib/python3.11/site-packages/torch/_tensor.py:1295: UserWarning: TypedStorage is deprecated. It will be removed in the future and UntypedStorage will be the only storage class. This should only matter to you if you are using storages directly.  To access UntypedStorage directly, use tensor.untyped_storage() instead of tensor.storage()\n",
      "  ret = func(*args, **kwargs)\n",
      "/Users/joshstein/Documents/thesis/code/.venv/lib/python3.11/site-packages/monai/data/__init__.py:127: UserWarning: TypedStorage is deprecated. It will be removed in the future and UntypedStorage will be the only storage class. This should only matter to you if you are using storages directly.  To access UntypedStorage directly, use tensor.untyped_storage() instead of tensor.storage()\n",
      "  if storage.is_cuda:\n",
      "/Users/joshstein/Documents/thesis/code/.venv/lib/python3.11/site-packages/monai/data/__init__.py:120: UserWarning: TypedStorage is deprecated. It will be removed in the future and UntypedStorage will be the only storage class. This should only matter to you if you are using storages directly.  To access UntypedStorage directly, use tensor.untyped_storage() instead of tensor.storage()\n",
      "  t = cls([], dtype=storage.dtype, device=storage.device)\n"
     ]
    },
    {
     "name": "stdout",
     "output_type": "stream",
     "text": [
      "1/16, train_loss: 0.8747\n",
      "2/16, train_loss: 0.8703\n",
      "3/16, train_loss: 0.8761\n",
      "4/16, train_loss: 0.8704\n",
      "5/16, train_loss: 0.8575\n",
      "6/16, train_loss: 0.8600\n",
      "7/16, train_loss: 0.8628\n",
      "8/16, train_loss: 0.8472\n",
      "9/16, train_loss: 0.8401\n",
      "10/16, train_loss: 0.8435\n",
      "11/16, train_loss: 0.8590\n",
      "12/16, train_loss: 0.8322\n",
      "13/16, train_loss: 0.8378\n",
      "14/16, train_loss: 0.8359\n",
      "15/16, train_loss: 0.8384\n",
      "16/16, train_loss: 0.8256\n",
      "epoch 1 average loss: 0.8520\n",
      "----------\n",
      "epoch 2/100\n"
     ]
    },
    {
     "name": "stderr",
     "output_type": "stream",
     "text": [
      "/Users/joshstein/Documents/thesis/code/.venv/lib/python3.11/site-packages/torch/_tensor.py:1295: UserWarning: TypedStorage is deprecated. It will be removed in the future and UntypedStorage will be the only storage class. This should only matter to you if you are using storages directly.  To access UntypedStorage directly, use tensor.untyped_storage() instead of tensor.storage()\n",
      "  ret = func(*args, **kwargs)\n",
      "/Users/joshstein/Documents/thesis/code/.venv/lib/python3.11/site-packages/monai/data/__init__.py:127: UserWarning: TypedStorage is deprecated. It will be removed in the future and UntypedStorage will be the only storage class. This should only matter to you if you are using storages directly.  To access UntypedStorage directly, use tensor.untyped_storage() instead of tensor.storage()\n",
      "  if storage.is_cuda:\n"
     ]
    },
    {
     "name": "stdout",
     "output_type": "stream",
     "text": [
      "1/16, train_loss: 0.8255\n",
      "2/16, train_loss: 0.8142\n",
      "3/16, train_loss: 0.8364\n",
      "4/16, train_loss: 0.7951\n",
      "5/16, train_loss: 0.8194\n",
      "6/16, train_loss: 0.8311\n",
      "7/16, train_loss: 0.7958\n",
      "8/16, train_loss: 0.8102\n",
      "9/16, train_loss: 0.7982\n",
      "10/16, train_loss: 0.8118\n",
      "11/16, train_loss: 0.8069\n",
      "12/16, train_loss: 0.8045\n",
      "13/16, train_loss: 0.7925\n",
      "14/16, train_loss: 0.7832\n",
      "15/16, train_loss: 0.7922\n",
      "16/16, train_loss: 0.7771\n",
      "epoch 2 average loss: 0.8059\n",
      "----------\n",
      "epoch 3/100\n"
     ]
    },
    {
     "name": "stderr",
     "output_type": "stream",
     "text": [
      "/Users/joshstein/Documents/thesis/code/.venv/lib/python3.11/site-packages/torch/_tensor.py:1295: UserWarning: TypedStorage is deprecated. It will be removed in the future and UntypedStorage will be the only storage class. This should only matter to you if you are using storages directly.  To access UntypedStorage directly, use tensor.untyped_storage() instead of tensor.storage()\n",
      "  ret = func(*args, **kwargs)\n",
      "/Users/joshstein/Documents/thesis/code/.venv/lib/python3.11/site-packages/monai/data/__init__.py:127: UserWarning: TypedStorage is deprecated. It will be removed in the future and UntypedStorage will be the only storage class. This should only matter to you if you are using storages directly.  To access UntypedStorage directly, use tensor.untyped_storage() instead of tensor.storage()\n",
      "  if storage.is_cuda:\n"
     ]
    },
    {
     "name": "stdout",
     "output_type": "stream",
     "text": [
      "1/16, train_loss: 0.7862\n",
      "2/16, train_loss: 0.7850\n",
      "3/16, train_loss: 0.7769\n",
      "4/16, train_loss: 0.7669\n",
      "5/16, train_loss: 0.7700\n",
      "6/16, train_loss: 0.7524\n",
      "7/16, train_loss: 0.7555\n",
      "8/16, train_loss: 0.7734\n",
      "9/16, train_loss: 0.7641\n",
      "10/16, train_loss: 0.7365\n",
      "11/16, train_loss: 0.7369\n",
      "12/16, train_loss: 0.7276\n",
      "13/16, train_loss: 0.7730\n",
      "14/16, train_loss: 0.7569\n",
      "15/16, train_loss: 0.7488\n",
      "16/16, train_loss: 0.7263\n",
      "epoch 3 average loss: 0.7585\n",
      "----------\n",
      "epoch 4/100\n"
     ]
    },
    {
     "name": "stderr",
     "output_type": "stream",
     "text": [
      "/Users/joshstein/Documents/thesis/code/.venv/lib/python3.11/site-packages/torch/_tensor.py:1295: UserWarning: TypedStorage is deprecated. It will be removed in the future and UntypedStorage will be the only storage class. This should only matter to you if you are using storages directly.  To access UntypedStorage directly, use tensor.untyped_storage() instead of tensor.storage()\n",
      "  ret = func(*args, **kwargs)\n",
      "/Users/joshstein/Documents/thesis/code/.venv/lib/python3.11/site-packages/monai/data/__init__.py:127: UserWarning: TypedStorage is deprecated. It will be removed in the future and UntypedStorage will be the only storage class. This should only matter to you if you are using storages directly.  To access UntypedStorage directly, use tensor.untyped_storage() instead of tensor.storage()\n",
      "  if storage.is_cuda:\n"
     ]
    },
    {
     "name": "stdout",
     "output_type": "stream",
     "text": [
      "1/16, train_loss: 0.7253\n",
      "2/16, train_loss: 0.7367\n",
      "3/16, train_loss: 0.7075\n",
      "4/16, train_loss: 0.7500\n",
      "5/16, train_loss: 0.7340\n",
      "6/16, train_loss: 0.7314\n",
      "7/16, train_loss: 0.7021\n",
      "8/16, train_loss: 0.7032\n",
      "9/16, train_loss: 0.7094\n",
      "10/16, train_loss: 0.6772\n",
      "11/16, train_loss: 0.7003\n",
      "12/16, train_loss: 0.6939\n",
      "13/16, train_loss: 0.7319\n",
      "14/16, train_loss: 0.6978\n",
      "15/16, train_loss: 0.6860\n",
      "16/16, train_loss: 0.6787\n",
      "epoch 4 average loss: 0.7103\n",
      "----------\n",
      "epoch 5/100\n"
     ]
    },
    {
     "name": "stderr",
     "output_type": "stream",
     "text": [
      "/Users/joshstein/Documents/thesis/code/.venv/lib/python3.11/site-packages/torch/_tensor.py:1295: UserWarning: TypedStorage is deprecated. It will be removed in the future and UntypedStorage will be the only storage class. This should only matter to you if you are using storages directly.  To access UntypedStorage directly, use tensor.untyped_storage() instead of tensor.storage()\n",
      "  ret = func(*args, **kwargs)\n",
      "/Users/joshstein/Documents/thesis/code/.venv/lib/python3.11/site-packages/monai/data/__init__.py:127: UserWarning: TypedStorage is deprecated. It will be removed in the future and UntypedStorage will be the only storage class. This should only matter to you if you are using storages directly.  To access UntypedStorage directly, use tensor.untyped_storage() instead of tensor.storage()\n",
      "  if storage.is_cuda:\n"
     ]
    },
    {
     "name": "stdout",
     "output_type": "stream",
     "text": [
      "1/16, train_loss: 0.6756\n",
      "2/16, train_loss: 0.6585\n",
      "3/16, train_loss: 0.6841\n",
      "4/16, train_loss: 0.6686\n",
      "5/16, train_loss: 0.6940\n",
      "6/16, train_loss: 0.7081\n",
      "7/16, train_loss: 0.6608\n",
      "8/16, train_loss: 0.6465\n",
      "9/16, train_loss: 0.6237\n",
      "10/16, train_loss: 0.6399\n",
      "11/16, train_loss: 0.6311\n",
      "12/16, train_loss: 0.6489\n",
      "13/16, train_loss: 0.6347\n",
      "14/16, train_loss: 0.6507\n",
      "15/16, train_loss: 0.6425\n",
      "16/16, train_loss: 0.6130\n",
      "epoch 5 average loss: 0.6550\n"
     ]
    },
    {
     "name": "stderr",
     "output_type": "stream",
     "text": [
      "/Users/joshstein/Documents/thesis/code/.venv/lib/python3.11/site-packages/torch/_tensor.py:1295: UserWarning: TypedStorage is deprecated. It will be removed in the future and UntypedStorage will be the only storage class. This should only matter to you if you are using storages directly.  To access UntypedStorage directly, use tensor.untyped_storage() instead of tensor.storage()\n",
      "  ret = func(*args, **kwargs)\n",
      "/Users/joshstein/Documents/thesis/code/.venv/lib/python3.11/site-packages/monai/data/__init__.py:127: UserWarning: TypedStorage is deprecated. It will be removed in the future and UntypedStorage will be the only storage class. This should only matter to you if you are using storages directly.  To access UntypedStorage directly, use tensor.untyped_storage() instead of tensor.storage()\n",
      "  if storage.is_cuda:\n"
     ]
    },
    {
     "name": "stdout",
     "output_type": "stream",
     "text": [
      "New best metric found: 0.46490246057510376\n",
      "current epoch: 5 current mean dice: 0.4649\n",
      "best mean dice: 0.4649 at epoch: 5\n",
      "----------\n",
      "epoch 6/100\n"
     ]
    },
    {
     "name": "stderr",
     "output_type": "stream",
     "text": [
      "/Users/joshstein/Documents/thesis/code/.venv/lib/python3.11/site-packages/torch/_tensor.py:1295: UserWarning: TypedStorage is deprecated. It will be removed in the future and UntypedStorage will be the only storage class. This should only matter to you if you are using storages directly.  To access UntypedStorage directly, use tensor.untyped_storage() instead of tensor.storage()\n",
      "  ret = func(*args, **kwargs)\n",
      "/Users/joshstein/Documents/thesis/code/.venv/lib/python3.11/site-packages/monai/data/__init__.py:127: UserWarning: TypedStorage is deprecated. It will be removed in the future and UntypedStorage will be the only storage class. This should only matter to you if you are using storages directly.  To access UntypedStorage directly, use tensor.untyped_storage() instead of tensor.storage()\n",
      "  if storage.is_cuda:\n"
     ]
    },
    {
     "name": "stdout",
     "output_type": "stream",
     "text": [
      "1/16, train_loss: 0.6164\n",
      "2/16, train_loss: 0.5931\n",
      "3/16, train_loss: 0.6678\n",
      "4/16, train_loss: 0.5891\n",
      "5/16, train_loss: 0.6111\n",
      "6/16, train_loss: 0.6052\n",
      "7/16, train_loss: 0.6099\n",
      "8/16, train_loss: 0.6024\n",
      "9/16, train_loss: 0.5830\n",
      "10/16, train_loss: 0.5556\n",
      "11/16, train_loss: 0.5994\n",
      "12/16, train_loss: 0.5657\n",
      "13/16, train_loss: 0.6033\n",
      "14/16, train_loss: 0.5536\n",
      "15/16, train_loss: 0.5386\n",
      "16/16, train_loss: 0.6528\n",
      "epoch 6 average loss: 0.5967\n",
      "----------\n",
      "epoch 7/100\n"
     ]
    },
    {
     "name": "stderr",
     "output_type": "stream",
     "text": [
      "/Users/joshstein/Documents/thesis/code/.venv/lib/python3.11/site-packages/torch/_tensor.py:1295: UserWarning: TypedStorage is deprecated. It will be removed in the future and UntypedStorage will be the only storage class. This should only matter to you if you are using storages directly.  To access UntypedStorage directly, use tensor.untyped_storage() instead of tensor.storage()\n",
      "  ret = func(*args, **kwargs)\n",
      "/Users/joshstein/Documents/thesis/code/.venv/lib/python3.11/site-packages/monai/data/__init__.py:127: UserWarning: TypedStorage is deprecated. It will be removed in the future and UntypedStorage will be the only storage class. This should only matter to you if you are using storages directly.  To access UntypedStorage directly, use tensor.untyped_storage() instead of tensor.storage()\n",
      "  if storage.is_cuda:\n"
     ]
    },
    {
     "name": "stdout",
     "output_type": "stream",
     "text": [
      "1/16, train_loss: 0.5360\n",
      "2/16, train_loss: 0.5630\n",
      "3/16, train_loss: 0.5721\n",
      "4/16, train_loss: 0.5381\n",
      "5/16, train_loss: 0.5211\n",
      "6/16, train_loss: 0.4975\n",
      "7/16, train_loss: 0.5446\n",
      "8/16, train_loss: 0.5415\n",
      "9/16, train_loss: 0.5442\n",
      "10/16, train_loss: 0.6023\n",
      "11/16, train_loss: 0.5088\n",
      "12/16, train_loss: 0.4991\n",
      "13/16, train_loss: 0.5161\n",
      "14/16, train_loss: 0.5442\n",
      "15/16, train_loss: 0.5202\n",
      "16/16, train_loss: 0.6072\n",
      "epoch 7 average loss: 0.5410\n",
      "----------\n",
      "epoch 8/100\n"
     ]
    },
    {
     "name": "stderr",
     "output_type": "stream",
     "text": [
      "/Users/joshstein/Documents/thesis/code/.venv/lib/python3.11/site-packages/torch/_tensor.py:1295: UserWarning: TypedStorage is deprecated. It will be removed in the future and UntypedStorage will be the only storage class. This should only matter to you if you are using storages directly.  To access UntypedStorage directly, use tensor.untyped_storage() instead of tensor.storage()\n",
      "  ret = func(*args, **kwargs)\n",
      "/Users/joshstein/Documents/thesis/code/.venv/lib/python3.11/site-packages/monai/data/__init__.py:127: UserWarning: TypedStorage is deprecated. It will be removed in the future and UntypedStorage will be the only storage class. This should only matter to you if you are using storages directly.  To access UntypedStorage directly, use tensor.untyped_storage() instead of tensor.storage()\n",
      "  if storage.is_cuda:\n"
     ]
    },
    {
     "name": "stdout",
     "output_type": "stream",
     "text": [
      "1/16, train_loss: 0.5062\n",
      "2/16, train_loss: 0.4969\n",
      "3/16, train_loss: 0.4547\n",
      "4/16, train_loss: 0.5174\n",
      "5/16, train_loss: 0.5855\n",
      "6/16, train_loss: 0.4493\n",
      "7/16, train_loss: 0.4655\n",
      "8/16, train_loss: 0.4623\n",
      "9/16, train_loss: 0.4804\n",
      "10/16, train_loss: 0.5383\n",
      "11/16, train_loss: 0.4705\n",
      "12/16, train_loss: 0.4582\n",
      "13/16, train_loss: 0.4334\n",
      "14/16, train_loss: 0.4366\n",
      "15/16, train_loss: 0.5726\n",
      "16/16, train_loss: 0.4454\n",
      "epoch 8 average loss: 0.4858\n",
      "----------\n",
      "epoch 9/100\n"
     ]
    },
    {
     "name": "stderr",
     "output_type": "stream",
     "text": [
      "/Users/joshstein/Documents/thesis/code/.venv/lib/python3.11/site-packages/torch/_tensor.py:1295: UserWarning: TypedStorage is deprecated. It will be removed in the future and UntypedStorage will be the only storage class. This should only matter to you if you are using storages directly.  To access UntypedStorage directly, use tensor.untyped_storage() instead of tensor.storage()\n",
      "  ret = func(*args, **kwargs)\n",
      "/Users/joshstein/Documents/thesis/code/.venv/lib/python3.11/site-packages/monai/data/__init__.py:127: UserWarning: TypedStorage is deprecated. It will be removed in the future and UntypedStorage will be the only storage class. This should only matter to you if you are using storages directly.  To access UntypedStorage directly, use tensor.untyped_storage() instead of tensor.storage()\n",
      "  if storage.is_cuda:\n"
     ]
    },
    {
     "name": "stdout",
     "output_type": "stream",
     "text": [
      "1/16, train_loss: 0.4061\n",
      "2/16, train_loss: 0.4131\n",
      "3/16, train_loss: 0.4406\n",
      "4/16, train_loss: 0.4658\n",
      "5/16, train_loss: 0.3841\n",
      "6/16, train_loss: 0.3967\n",
      "7/16, train_loss: 0.4331\n",
      "8/16, train_loss: 0.5749\n",
      "9/16, train_loss: 0.4289\n",
      "10/16, train_loss: 0.4268\n",
      "11/16, train_loss: 0.3810\n",
      "12/16, train_loss: 0.4040\n",
      "13/16, train_loss: 0.3937\n",
      "14/16, train_loss: 0.4377\n",
      "15/16, train_loss: 0.4402\n",
      "16/16, train_loss: 0.4015\n",
      "epoch 9 average loss: 0.4268\n",
      "----------\n",
      "epoch 10/100\n"
     ]
    },
    {
     "name": "stderr",
     "output_type": "stream",
     "text": [
      "/Users/joshstein/Documents/thesis/code/.venv/lib/python3.11/site-packages/torch/_tensor.py:1295: UserWarning: TypedStorage is deprecated. It will be removed in the future and UntypedStorage will be the only storage class. This should only matter to you if you are using storages directly.  To access UntypedStorage directly, use tensor.untyped_storage() instead of tensor.storage()\n",
      "  ret = func(*args, **kwargs)\n",
      "/Users/joshstein/Documents/thesis/code/.venv/lib/python3.11/site-packages/monai/data/__init__.py:127: UserWarning: TypedStorage is deprecated. It will be removed in the future and UntypedStorage will be the only storage class. This should only matter to you if you are using storages directly.  To access UntypedStorage directly, use tensor.untyped_storage() instead of tensor.storage()\n",
      "  if storage.is_cuda:\n"
     ]
    },
    {
     "name": "stdout",
     "output_type": "stream",
     "text": [
      "1/16, train_loss: 0.3569\n",
      "2/16, train_loss: 0.4164\n",
      "3/16, train_loss: 0.3730\n",
      "4/16, train_loss: 0.4048\n",
      "5/16, train_loss: 0.3568\n",
      "6/16, train_loss: 0.3554\n",
      "7/16, train_loss: 0.3647\n",
      "8/16, train_loss: 0.3635\n",
      "9/16, train_loss: 0.3983\n",
      "10/16, train_loss: 0.3862\n",
      "11/16, train_loss: 0.3557\n",
      "12/16, train_loss: 0.6242\n",
      "13/16, train_loss: 0.3348\n",
      "14/16, train_loss: 0.3651\n",
      "15/16, train_loss: 0.4292\n",
      "16/16, train_loss: 0.3294\n",
      "epoch 10 average loss: 0.3884\n"
     ]
    },
    {
     "name": "stderr",
     "output_type": "stream",
     "text": [
      "/Users/joshstein/Documents/thesis/code/.venv/lib/python3.11/site-packages/torch/_tensor.py:1295: UserWarning: TypedStorage is deprecated. It will be removed in the future and UntypedStorage will be the only storage class. This should only matter to you if you are using storages directly.  To access UntypedStorage directly, use tensor.untyped_storage() instead of tensor.storage()\n",
      "  ret = func(*args, **kwargs)\n",
      "/Users/joshstein/Documents/thesis/code/.venv/lib/python3.11/site-packages/monai/data/__init__.py:127: UserWarning: TypedStorage is deprecated. It will be removed in the future and UntypedStorage will be the only storage class. This should only matter to you if you are using storages directly.  To access UntypedStorage directly, use tensor.untyped_storage() instead of tensor.storage()\n",
      "  if storage.is_cuda:\n"
     ]
    },
    {
     "name": "stdout",
     "output_type": "stream",
     "text": [
      "New best metric found: 0.6150364279747009\n",
      "current epoch: 10 current mean dice: 0.6150\n",
      "best mean dice: 0.6150 at epoch: 10\n",
      "----------\n",
      "epoch 11/100\n"
     ]
    },
    {
     "name": "stderr",
     "output_type": "stream",
     "text": [
      "/Users/joshstein/Documents/thesis/code/.venv/lib/python3.11/site-packages/torch/_tensor.py:1295: UserWarning: TypedStorage is deprecated. It will be removed in the future and UntypedStorage will be the only storage class. This should only matter to you if you are using storages directly.  To access UntypedStorage directly, use tensor.untyped_storage() instead of tensor.storage()\n",
      "  ret = func(*args, **kwargs)\n",
      "/Users/joshstein/Documents/thesis/code/.venv/lib/python3.11/site-packages/monai/data/__init__.py:127: UserWarning: TypedStorage is deprecated. It will be removed in the future and UntypedStorage will be the only storage class. This should only matter to you if you are using storages directly.  To access UntypedStorage directly, use tensor.untyped_storage() instead of tensor.storage()\n",
      "  if storage.is_cuda:\n"
     ]
    },
    {
     "name": "stdout",
     "output_type": "stream",
     "text": [
      "1/16, train_loss: 0.3585\n",
      "2/16, train_loss: 0.4578\n",
      "3/16, train_loss: 0.4204\n",
      "4/16, train_loss: 0.3437\n",
      "5/16, train_loss: 0.4059\n",
      "6/16, train_loss: 0.3282\n",
      "7/16, train_loss: 0.4852\n",
      "8/16, train_loss: 0.3206\n",
      "9/16, train_loss: 0.3300\n",
      "10/16, train_loss: 0.3539\n",
      "11/16, train_loss: 0.3100\n",
      "12/16, train_loss: 0.3173\n",
      "13/16, train_loss: 0.3046\n",
      "14/16, train_loss: 0.2954\n",
      "15/16, train_loss: 0.4062\n",
      "16/16, train_loss: 0.3930\n",
      "epoch 11 average loss: 0.3644\n",
      "----------\n",
      "epoch 12/100\n"
     ]
    },
    {
     "name": "stderr",
     "output_type": "stream",
     "text": [
      "/Users/joshstein/Documents/thesis/code/.venv/lib/python3.11/site-packages/torch/_tensor.py:1295: UserWarning: TypedStorage is deprecated. It will be removed in the future and UntypedStorage will be the only storage class. This should only matter to you if you are using storages directly.  To access UntypedStorage directly, use tensor.untyped_storage() instead of tensor.storage()\n",
      "  ret = func(*args, **kwargs)\n",
      "/Users/joshstein/Documents/thesis/code/.venv/lib/python3.11/site-packages/monai/data/__init__.py:127: UserWarning: TypedStorage is deprecated. It will be removed in the future and UntypedStorage will be the only storage class. This should only matter to you if you are using storages directly.  To access UntypedStorage directly, use tensor.untyped_storage() instead of tensor.storage()\n",
      "  if storage.is_cuda:\n"
     ]
    },
    {
     "name": "stdout",
     "output_type": "stream",
     "text": [
      "1/16, train_loss: 0.4612\n",
      "2/16, train_loss: 0.2887\n",
      "3/16, train_loss: 0.2819\n",
      "4/16, train_loss: 0.2740\n",
      "5/16, train_loss: 0.3567\n",
      "6/16, train_loss: 0.2865\n",
      "7/16, train_loss: 0.3185\n",
      "8/16, train_loss: 0.3590\n",
      "9/16, train_loss: 0.2673\n",
      "10/16, train_loss: 0.2856\n",
      "11/16, train_loss: 0.3673\n",
      "12/16, train_loss: 0.3554\n",
      "13/16, train_loss: 0.2971\n",
      "14/16, train_loss: 0.2926\n",
      "15/16, train_loss: 0.4157\n",
      "16/16, train_loss: 0.2768\n",
      "epoch 12 average loss: 0.3240\n",
      "----------\n",
      "epoch 13/100\n"
     ]
    },
    {
     "name": "stderr",
     "output_type": "stream",
     "text": [
      "/Users/joshstein/Documents/thesis/code/.venv/lib/python3.11/site-packages/torch/_tensor.py:1295: UserWarning: TypedStorage is deprecated. It will be removed in the future and UntypedStorage will be the only storage class. This should only matter to you if you are using storages directly.  To access UntypedStorage directly, use tensor.untyped_storage() instead of tensor.storage()\n",
      "  ret = func(*args, **kwargs)\n",
      "/Users/joshstein/Documents/thesis/code/.venv/lib/python3.11/site-packages/monai/data/__init__.py:127: UserWarning: TypedStorage is deprecated. It will be removed in the future and UntypedStorage will be the only storage class. This should only matter to you if you are using storages directly.  To access UntypedStorage directly, use tensor.untyped_storage() instead of tensor.storage()\n",
      "  if storage.is_cuda:\n"
     ]
    },
    {
     "name": "stdout",
     "output_type": "stream",
     "text": [
      "1/16, train_loss: 0.2476\n",
      "2/16, train_loss: 0.4012\n",
      "3/16, train_loss: 0.4652\n",
      "4/16, train_loss: 0.2849\n",
      "5/16, train_loss: 0.2431\n",
      "6/16, train_loss: 0.2702\n",
      "7/16, train_loss: 0.3675\n",
      "8/16, train_loss: 0.2699\n",
      "9/16, train_loss: 0.2408\n",
      "10/16, train_loss: 0.2438\n",
      "11/16, train_loss: 0.3130\n",
      "12/16, train_loss: 0.2327\n",
      "13/16, train_loss: 0.2454\n",
      "14/16, train_loss: 0.2657\n",
      "15/16, train_loss: 0.2655\n",
      "16/16, train_loss: 0.2563\n",
      "epoch 13 average loss: 0.2883\n",
      "----------\n",
      "epoch 14/100\n"
     ]
    },
    {
     "name": "stderr",
     "output_type": "stream",
     "text": [
      "/Users/joshstein/Documents/thesis/code/.venv/lib/python3.11/site-packages/torch/_tensor.py:1295: UserWarning: TypedStorage is deprecated. It will be removed in the future and UntypedStorage will be the only storage class. This should only matter to you if you are using storages directly.  To access UntypedStorage directly, use tensor.untyped_storage() instead of tensor.storage()\n",
      "  ret = func(*args, **kwargs)\n",
      "/Users/joshstein/Documents/thesis/code/.venv/lib/python3.11/site-packages/monai/data/__init__.py:127: UserWarning: TypedStorage is deprecated. It will be removed in the future and UntypedStorage will be the only storage class. This should only matter to you if you are using storages directly.  To access UntypedStorage directly, use tensor.untyped_storage() instead of tensor.storage()\n",
      "  if storage.is_cuda:\n"
     ]
    },
    {
     "name": "stdout",
     "output_type": "stream",
     "text": [
      "1/16, train_loss: 0.3485\n",
      "2/16, train_loss: 0.3651\n",
      "3/16, train_loss: 0.3711\n",
      "4/16, train_loss: 0.3901\n",
      "5/16, train_loss: 0.2493\n",
      "6/16, train_loss: 0.3090\n",
      "7/16, train_loss: 0.2859\n",
      "8/16, train_loss: 0.2747\n",
      "9/16, train_loss: 0.3108\n",
      "10/16, train_loss: 0.2442\n",
      "11/16, train_loss: 0.2802\n",
      "12/16, train_loss: 0.2584\n",
      "13/16, train_loss: 0.2706\n",
      "14/16, train_loss: 0.2436\n",
      "15/16, train_loss: 0.2495\n",
      "16/16, train_loss: 0.2182\n",
      "epoch 14 average loss: 0.2918\n",
      "----------\n",
      "epoch 15/100\n"
     ]
    },
    {
     "name": "stderr",
     "output_type": "stream",
     "text": [
      "/Users/joshstein/Documents/thesis/code/.venv/lib/python3.11/site-packages/torch/_tensor.py:1295: UserWarning: TypedStorage is deprecated. It will be removed in the future and UntypedStorage will be the only storage class. This should only matter to you if you are using storages directly.  To access UntypedStorage directly, use tensor.untyped_storage() instead of tensor.storage()\n",
      "  ret = func(*args, **kwargs)\n",
      "/Users/joshstein/Documents/thesis/code/.venv/lib/python3.11/site-packages/monai/data/__init__.py:127: UserWarning: TypedStorage is deprecated. It will be removed in the future and UntypedStorage will be the only storage class. This should only matter to you if you are using storages directly.  To access UntypedStorage directly, use tensor.untyped_storage() instead of tensor.storage()\n",
      "  if storage.is_cuda:\n"
     ]
    },
    {
     "name": "stdout",
     "output_type": "stream",
     "text": [
      "1/16, train_loss: 0.2287\n",
      "2/16, train_loss: 0.4208\n",
      "3/16, train_loss: 0.2426\n",
      "4/16, train_loss: 0.2917\n",
      "5/16, train_loss: 0.2818\n",
      "6/16, train_loss: 0.3201\n",
      "7/16, train_loss: 0.3797\n",
      "8/16, train_loss: 0.2442\n",
      "9/16, train_loss: 0.3215\n",
      "10/16, train_loss: 0.2899\n",
      "11/16, train_loss: 0.2385\n",
      "12/16, train_loss: 0.3809\n",
      "13/16, train_loss: 0.2610\n",
      "14/16, train_loss: 0.2248\n",
      "15/16, train_loss: 0.2408\n",
      "16/16, train_loss: 0.2309\n",
      "epoch 15 average loss: 0.2874\n"
     ]
    },
    {
     "name": "stderr",
     "output_type": "stream",
     "text": [
      "/Users/joshstein/Documents/thesis/code/.venv/lib/python3.11/site-packages/torch/_tensor.py:1295: UserWarning: TypedStorage is deprecated. It will be removed in the future and UntypedStorage will be the only storage class. This should only matter to you if you are using storages directly.  To access UntypedStorage directly, use tensor.untyped_storage() instead of tensor.storage()\n",
      "  ret = func(*args, **kwargs)\n",
      "/Users/joshstein/Documents/thesis/code/.venv/lib/python3.11/site-packages/monai/data/__init__.py:127: UserWarning: TypedStorage is deprecated. It will be removed in the future and UntypedStorage will be the only storage class. This should only matter to you if you are using storages directly.  To access UntypedStorage directly, use tensor.untyped_storage() instead of tensor.storage()\n",
      "  if storage.is_cuda:\n"
     ]
    },
    {
     "name": "stdout",
     "output_type": "stream",
     "text": [
      "current epoch: 15 current mean dice: 0.5871\n",
      "best mean dice: 0.6150 at epoch: 10\n",
      "----------\n",
      "epoch 16/100\n"
     ]
    },
    {
     "name": "stderr",
     "output_type": "stream",
     "text": [
      "/Users/joshstein/Documents/thesis/code/.venv/lib/python3.11/site-packages/torch/_tensor.py:1295: UserWarning: TypedStorage is deprecated. It will be removed in the future and UntypedStorage will be the only storage class. This should only matter to you if you are using storages directly.  To access UntypedStorage directly, use tensor.untyped_storage() instead of tensor.storage()\n",
      "  ret = func(*args, **kwargs)\n",
      "/Users/joshstein/Documents/thesis/code/.venv/lib/python3.11/site-packages/monai/data/__init__.py:127: UserWarning: TypedStorage is deprecated. It will be removed in the future and UntypedStorage will be the only storage class. This should only matter to you if you are using storages directly.  To access UntypedStorage directly, use tensor.untyped_storage() instead of tensor.storage()\n",
      "  if storage.is_cuda:\n"
     ]
    },
    {
     "name": "stdout",
     "output_type": "stream",
     "text": [
      "1/16, train_loss: 0.2338\n",
      "2/16, train_loss: 0.2135\n",
      "3/16, train_loss: 0.2541\n",
      "4/16, train_loss: 0.2219\n",
      "5/16, train_loss: 0.2161\n",
      "6/16, train_loss: 0.2898\n",
      "7/16, train_loss: 0.2100\n",
      "8/16, train_loss: 0.3534\n",
      "9/16, train_loss: 0.2230\n",
      "10/16, train_loss: 0.2781\n",
      "11/16, train_loss: 0.4634\n",
      "12/16, train_loss: 0.2834\n",
      "13/16, train_loss: 0.2262\n",
      "14/16, train_loss: 0.2177\n",
      "15/16, train_loss: 0.2515\n",
      "16/16, train_loss: 0.3504\n",
      "epoch 16 average loss: 0.2679\n",
      "----------\n",
      "epoch 17/100\n"
     ]
    },
    {
     "name": "stderr",
     "output_type": "stream",
     "text": [
      "/Users/joshstein/Documents/thesis/code/.venv/lib/python3.11/site-packages/torch/_tensor.py:1295: UserWarning: TypedStorage is deprecated. It will be removed in the future and UntypedStorage will be the only storage class. This should only matter to you if you are using storages directly.  To access UntypedStorage directly, use tensor.untyped_storage() instead of tensor.storage()\n",
      "  ret = func(*args, **kwargs)\n",
      "/Users/joshstein/Documents/thesis/code/.venv/lib/python3.11/site-packages/monai/data/__init__.py:127: UserWarning: TypedStorage is deprecated. It will be removed in the future and UntypedStorage will be the only storage class. This should only matter to you if you are using storages directly.  To access UntypedStorage directly, use tensor.untyped_storage() instead of tensor.storage()\n",
      "  if storage.is_cuda:\n"
     ]
    },
    {
     "name": "stdout",
     "output_type": "stream",
     "text": [
      "1/16, train_loss: 0.2127\n",
      "2/16, train_loss: 0.2574\n",
      "3/16, train_loss: 0.2874\n",
      "4/16, train_loss: 0.2123\n",
      "5/16, train_loss: 0.2337\n",
      "6/16, train_loss: 0.2298\n",
      "7/16, train_loss: 0.1961\n",
      "8/16, train_loss: 0.2644\n",
      "9/16, train_loss: 0.2470\n",
      "10/16, train_loss: 0.2249\n",
      "11/16, train_loss: 0.3653\n",
      "12/16, train_loss: 0.2185\n",
      "13/16, train_loss: 0.2234\n",
      "14/16, train_loss: 0.2824\n",
      "15/16, train_loss: 0.2102\n",
      "16/16, train_loss: 0.3785\n",
      "epoch 17 average loss: 0.2528\n",
      "----------\n",
      "epoch 18/100\n"
     ]
    },
    {
     "name": "stderr",
     "output_type": "stream",
     "text": [
      "/Users/joshstein/Documents/thesis/code/.venv/lib/python3.11/site-packages/torch/_tensor.py:1295: UserWarning: TypedStorage is deprecated. It will be removed in the future and UntypedStorage will be the only storage class. This should only matter to you if you are using storages directly.  To access UntypedStorage directly, use tensor.untyped_storage() instead of tensor.storage()\n",
      "  ret = func(*args, **kwargs)\n",
      "/Users/joshstein/Documents/thesis/code/.venv/lib/python3.11/site-packages/monai/data/__init__.py:127: UserWarning: TypedStorage is deprecated. It will be removed in the future and UntypedStorage will be the only storage class. This should only matter to you if you are using storages directly.  To access UntypedStorage directly, use tensor.untyped_storage() instead of tensor.storage()\n",
      "  if storage.is_cuda:\n"
     ]
    },
    {
     "name": "stdout",
     "output_type": "stream",
     "text": [
      "1/16, train_loss: 0.2060\n",
      "2/16, train_loss: 0.2202\n",
      "3/16, train_loss: 0.2926\n",
      "4/16, train_loss: 0.2024\n",
      "5/16, train_loss: 0.3211\n",
      "6/16, train_loss: 0.3202\n",
      "7/16, train_loss: 0.1835\n",
      "8/16, train_loss: 0.1956\n",
      "9/16, train_loss: 0.2026\n",
      "10/16, train_loss: 0.2553\n",
      "11/16, train_loss: 0.2027\n",
      "12/16, train_loss: 0.1984\n",
      "13/16, train_loss: 0.3385\n",
      "14/16, train_loss: 0.2222\n",
      "15/16, train_loss: 0.2379\n",
      "16/16, train_loss: 0.2318\n",
      "epoch 18 average loss: 0.2394\n",
      "----------\n",
      "epoch 19/100\n"
     ]
    },
    {
     "name": "stderr",
     "output_type": "stream",
     "text": [
      "/Users/joshstein/Documents/thesis/code/.venv/lib/python3.11/site-packages/torch/_tensor.py:1295: UserWarning: TypedStorage is deprecated. It will be removed in the future and UntypedStorage will be the only storage class. This should only matter to you if you are using storages directly.  To access UntypedStorage directly, use tensor.untyped_storage() instead of tensor.storage()\n",
      "  ret = func(*args, **kwargs)\n",
      "/Users/joshstein/Documents/thesis/code/.venv/lib/python3.11/site-packages/monai/data/__init__.py:127: UserWarning: TypedStorage is deprecated. It will be removed in the future and UntypedStorage will be the only storage class. This should only matter to you if you are using storages directly.  To access UntypedStorage directly, use tensor.untyped_storage() instead of tensor.storage()\n",
      "  if storage.is_cuda:\n"
     ]
    },
    {
     "name": "stdout",
     "output_type": "stream",
     "text": [
      "1/16, train_loss: 0.2528\n",
      "2/16, train_loss: 0.1929\n",
      "3/16, train_loss: 0.3571\n",
      "4/16, train_loss: 0.2043\n",
      "5/16, train_loss: 0.2084\n",
      "6/16, train_loss: 0.2266\n",
      "7/16, train_loss: 0.2564\n",
      "8/16, train_loss: 0.2203\n",
      "9/16, train_loss: 0.1902\n",
      "10/16, train_loss: 0.2727\n",
      "11/16, train_loss: 0.2171\n",
      "12/16, train_loss: 0.3221\n",
      "13/16, train_loss: 0.1824\n",
      "14/16, train_loss: 0.2195\n",
      "15/16, train_loss: 0.2222\n",
      "16/16, train_loss: 0.2104\n",
      "epoch 19 average loss: 0.2347\n",
      "----------\n",
      "epoch 20/100\n"
     ]
    },
    {
     "name": "stderr",
     "output_type": "stream",
     "text": [
      "/Users/joshstein/Documents/thesis/code/.venv/lib/python3.11/site-packages/torch/_tensor.py:1295: UserWarning: TypedStorage is deprecated. It will be removed in the future and UntypedStorage will be the only storage class. This should only matter to you if you are using storages directly.  To access UntypedStorage directly, use tensor.untyped_storage() instead of tensor.storage()\n",
      "  ret = func(*args, **kwargs)\n",
      "/Users/joshstein/Documents/thesis/code/.venv/lib/python3.11/site-packages/monai/data/__init__.py:127: UserWarning: TypedStorage is deprecated. It will be removed in the future and UntypedStorage will be the only storage class. This should only matter to you if you are using storages directly.  To access UntypedStorage directly, use tensor.untyped_storage() instead of tensor.storage()\n",
      "  if storage.is_cuda:\n"
     ]
    },
    {
     "name": "stdout",
     "output_type": "stream",
     "text": [
      "1/16, train_loss: 0.3025\n",
      "2/16, train_loss: 0.2468\n",
      "3/16, train_loss: 0.1897\n",
      "4/16, train_loss: 0.2094\n",
      "5/16, train_loss: 0.3545\n",
      "6/16, train_loss: 0.2034\n",
      "7/16, train_loss: 0.1879\n",
      "8/16, train_loss: 0.1693\n",
      "9/16, train_loss: 0.2307\n",
      "10/16, train_loss: 0.2055\n",
      "11/16, train_loss: 0.2640\n",
      "12/16, train_loss: 0.3072\n",
      "13/16, train_loss: 0.2017\n",
      "14/16, train_loss: 0.2070\n",
      "15/16, train_loss: 0.2113\n",
      "16/16, train_loss: 0.2284\n",
      "epoch 20 average loss: 0.2325\n"
     ]
    },
    {
     "name": "stderr",
     "output_type": "stream",
     "text": [
      "/Users/joshstein/Documents/thesis/code/.venv/lib/python3.11/site-packages/torch/_tensor.py:1295: UserWarning: TypedStorage is deprecated. It will be removed in the future and UntypedStorage will be the only storage class. This should only matter to you if you are using storages directly.  To access UntypedStorage directly, use tensor.untyped_storage() instead of tensor.storage()\n",
      "  ret = func(*args, **kwargs)\n",
      "/Users/joshstein/Documents/thesis/code/.venv/lib/python3.11/site-packages/monai/data/__init__.py:127: UserWarning: TypedStorage is deprecated. It will be removed in the future and UntypedStorage will be the only storage class. This should only matter to you if you are using storages directly.  To access UntypedStorage directly, use tensor.untyped_storage() instead of tensor.storage()\n",
      "  if storage.is_cuda:\n"
     ]
    },
    {
     "name": "stdout",
     "output_type": "stream",
     "text": [
      "current epoch: 20 current mean dice: 0.5893\n",
      "best mean dice: 0.6150 at epoch: 10\n",
      "----------\n",
      "epoch 21/100\n"
     ]
    },
    {
     "name": "stderr",
     "output_type": "stream",
     "text": [
      "/Users/joshstein/Documents/thesis/code/.venv/lib/python3.11/site-packages/torch/_tensor.py:1295: UserWarning: TypedStorage is deprecated. It will be removed in the future and UntypedStorage will be the only storage class. This should only matter to you if you are using storages directly.  To access UntypedStorage directly, use tensor.untyped_storage() instead of tensor.storage()\n",
      "  ret = func(*args, **kwargs)\n",
      "/Users/joshstein/Documents/thesis/code/.venv/lib/python3.11/site-packages/monai/data/__init__.py:127: UserWarning: TypedStorage is deprecated. It will be removed in the future and UntypedStorage will be the only storage class. This should only matter to you if you are using storages directly.  To access UntypedStorage directly, use tensor.untyped_storage() instead of tensor.storage()\n",
      "  if storage.is_cuda:\n"
     ]
    },
    {
     "name": "stdout",
     "output_type": "stream",
     "text": [
      "1/16, train_loss: 0.1794\n",
      "2/16, train_loss: 0.1710\n",
      "3/16, train_loss: 0.1981\n",
      "4/16, train_loss: 0.1834\n",
      "5/16, train_loss: 0.2045\n",
      "6/16, train_loss: 0.2053\n",
      "7/16, train_loss: 0.3004\n",
      "8/16, train_loss: 0.2494\n",
      "9/16, train_loss: 0.2009\n",
      "10/16, train_loss: 0.1901\n",
      "11/16, train_loss: 0.2379\n",
      "12/16, train_loss: 0.1847\n",
      "13/16, train_loss: 0.2289\n",
      "14/16, train_loss: 0.1937\n",
      "15/16, train_loss: 0.2930\n",
      "16/16, train_loss: 0.1849\n",
      "epoch 21 average loss: 0.2129\n",
      "----------\n",
      "epoch 22/100\n"
     ]
    },
    {
     "name": "stderr",
     "output_type": "stream",
     "text": [
      "/Users/joshstein/Documents/thesis/code/.venv/lib/python3.11/site-packages/torch/_tensor.py:1295: UserWarning: TypedStorage is deprecated. It will be removed in the future and UntypedStorage will be the only storage class. This should only matter to you if you are using storages directly.  To access UntypedStorage directly, use tensor.untyped_storage() instead of tensor.storage()\n",
      "  ret = func(*args, **kwargs)\n",
      "/Users/joshstein/Documents/thesis/code/.venv/lib/python3.11/site-packages/monai/data/__init__.py:127: UserWarning: TypedStorage is deprecated. It will be removed in the future and UntypedStorage will be the only storage class. This should only matter to you if you are using storages directly.  To access UntypedStorage directly, use tensor.untyped_storage() instead of tensor.storage()\n",
      "  if storage.is_cuda:\n"
     ]
    },
    {
     "name": "stdout",
     "output_type": "stream",
     "text": [
      "1/16, train_loss: 0.2666\n",
      "2/16, train_loss: 0.1794\n",
      "3/16, train_loss: 0.2346\n",
      "4/16, train_loss: 0.1751\n",
      "5/16, train_loss: 0.1887\n",
      "6/16, train_loss: 0.1896\n",
      "7/16, train_loss: 0.1813\n",
      "8/16, train_loss: 0.1810\n",
      "9/16, train_loss: 0.2204\n",
      "10/16, train_loss: 0.2155\n",
      "11/16, train_loss: 0.1906\n",
      "12/16, train_loss: 0.1889\n",
      "13/16, train_loss: 0.2195\n",
      "14/16, train_loss: 0.1679\n",
      "15/16, train_loss: 0.2909\n",
      "16/16, train_loss: 0.1860\n",
      "epoch 22 average loss: 0.2048\n",
      "----------\n",
      "epoch 23/100\n"
     ]
    },
    {
     "name": "stderr",
     "output_type": "stream",
     "text": [
      "/Users/joshstein/Documents/thesis/code/.venv/lib/python3.11/site-packages/torch/_tensor.py:1295: UserWarning: TypedStorage is deprecated. It will be removed in the future and UntypedStorage will be the only storage class. This should only matter to you if you are using storages directly.  To access UntypedStorage directly, use tensor.untyped_storage() instead of tensor.storage()\n",
      "  ret = func(*args, **kwargs)\n",
      "/Users/joshstein/Documents/thesis/code/.venv/lib/python3.11/site-packages/monai/data/__init__.py:127: UserWarning: TypedStorage is deprecated. It will be removed in the future and UntypedStorage will be the only storage class. This should only matter to you if you are using storages directly.  To access UntypedStorage directly, use tensor.untyped_storage() instead of tensor.storage()\n",
      "  if storage.is_cuda:\n"
     ]
    },
    {
     "name": "stdout",
     "output_type": "stream",
     "text": [
      "1/16, train_loss: 0.2008\n",
      "2/16, train_loss: 0.1862\n",
      "3/16, train_loss: 0.1649\n",
      "4/16, train_loss: 0.2033\n",
      "5/16, train_loss: 0.1952\n",
      "6/16, train_loss: 0.1917\n",
      "7/16, train_loss: 0.1644\n",
      "8/16, train_loss: 0.2739\n",
      "9/16, train_loss: 0.2925\n",
      "10/16, train_loss: 0.1628\n",
      "11/16, train_loss: 0.1612\n",
      "12/16, train_loss: 0.1751\n",
      "13/16, train_loss: 0.2287\n",
      "14/16, train_loss: 0.2134\n",
      "15/16, train_loss: 0.1899\n",
      "16/16, train_loss: 0.1919\n",
      "epoch 23 average loss: 0.1997\n",
      "----------\n",
      "epoch 24/100\n"
     ]
    },
    {
     "name": "stderr",
     "output_type": "stream",
     "text": [
      "/Users/joshstein/Documents/thesis/code/.venv/lib/python3.11/site-packages/torch/_tensor.py:1295: UserWarning: TypedStorage is deprecated. It will be removed in the future and UntypedStorage will be the only storage class. This should only matter to you if you are using storages directly.  To access UntypedStorage directly, use tensor.untyped_storage() instead of tensor.storage()\n",
      "  ret = func(*args, **kwargs)\n",
      "/Users/joshstein/Documents/thesis/code/.venv/lib/python3.11/site-packages/monai/data/__init__.py:127: UserWarning: TypedStorage is deprecated. It will be removed in the future and UntypedStorage will be the only storage class. This should only matter to you if you are using storages directly.  To access UntypedStorage directly, use tensor.untyped_storage() instead of tensor.storage()\n",
      "  if storage.is_cuda:\n"
     ]
    },
    {
     "name": "stdout",
     "output_type": "stream",
     "text": [
      "1/16, train_loss: 0.1768\n",
      "2/16, train_loss: 0.1858\n",
      "3/16, train_loss: 0.2840\n",
      "4/16, train_loss: 0.2401\n",
      "5/16, train_loss: 0.1675\n",
      "6/16, train_loss: 0.1808\n",
      "7/16, train_loss: 0.1860\n",
      "8/16, train_loss: 0.3325\n",
      "9/16, train_loss: 0.2115\n",
      "10/16, train_loss: 0.2243\n",
      "11/16, train_loss: 0.1756\n",
      "12/16, train_loss: 0.2156\n",
      "13/16, train_loss: 0.1833\n",
      "14/16, train_loss: 0.1949\n",
      "15/16, train_loss: 0.2986\n",
      "16/16, train_loss: 0.2278\n",
      "epoch 24 average loss: 0.2178\n",
      "----------\n",
      "epoch 25/100\n"
     ]
    },
    {
     "name": "stderr",
     "output_type": "stream",
     "text": [
      "/Users/joshstein/Documents/thesis/code/.venv/lib/python3.11/site-packages/torch/_tensor.py:1295: UserWarning: TypedStorage is deprecated. It will be removed in the future and UntypedStorage will be the only storage class. This should only matter to you if you are using storages directly.  To access UntypedStorage directly, use tensor.untyped_storage() instead of tensor.storage()\n",
      "  ret = func(*args, **kwargs)\n",
      "/Users/joshstein/Documents/thesis/code/.venv/lib/python3.11/site-packages/monai/data/__init__.py:127: UserWarning: TypedStorage is deprecated. It will be removed in the future and UntypedStorage will be the only storage class. This should only matter to you if you are using storages directly.  To access UntypedStorage directly, use tensor.untyped_storage() instead of tensor.storage()\n",
      "  if storage.is_cuda:\n"
     ]
    },
    {
     "name": "stdout",
     "output_type": "stream",
     "text": [
      "1/16, train_loss: 0.1928\n",
      "2/16, train_loss: 0.1547\n",
      "3/16, train_loss: 0.2716\n",
      "4/16, train_loss: 0.1585\n",
      "5/16, train_loss: 0.1956\n",
      "6/16, train_loss: 0.2015\n",
      "7/16, train_loss: 0.2896\n",
      "8/16, train_loss: 0.2246\n",
      "9/16, train_loss: 0.2208\n",
      "10/16, train_loss: 0.1616\n",
      "11/16, train_loss: 0.1814\n",
      "12/16, train_loss: 0.1940\n",
      "13/16, train_loss: 0.1803\n",
      "14/16, train_loss: 0.1684\n",
      "15/16, train_loss: 0.1956\n",
      "16/16, train_loss: 0.1759\n",
      "epoch 25 average loss: 0.1979\n"
     ]
    },
    {
     "name": "stderr",
     "output_type": "stream",
     "text": [
      "/Users/joshstein/Documents/thesis/code/.venv/lib/python3.11/site-packages/torch/_tensor.py:1295: UserWarning: TypedStorage is deprecated. It will be removed in the future and UntypedStorage will be the only storage class. This should only matter to you if you are using storages directly.  To access UntypedStorage directly, use tensor.untyped_storage() instead of tensor.storage()\n",
      "  ret = func(*args, **kwargs)\n",
      "/Users/joshstein/Documents/thesis/code/.venv/lib/python3.11/site-packages/monai/data/__init__.py:127: UserWarning: TypedStorage is deprecated. It will be removed in the future and UntypedStorage will be the only storage class. This should only matter to you if you are using storages directly.  To access UntypedStorage directly, use tensor.untyped_storage() instead of tensor.storage()\n",
      "  if storage.is_cuda:\n"
     ]
    },
    {
     "name": "stdout",
     "output_type": "stream",
     "text": [
      "New best metric found: 0.6343564987182617\n",
      "current epoch: 25 current mean dice: 0.6344\n",
      "best mean dice: 0.6344 at epoch: 25\n",
      "----------\n",
      "epoch 26/100\n"
     ]
    },
    {
     "name": "stderr",
     "output_type": "stream",
     "text": [
      "/Users/joshstein/Documents/thesis/code/.venv/lib/python3.11/site-packages/torch/_tensor.py:1295: UserWarning: TypedStorage is deprecated. It will be removed in the future and UntypedStorage will be the only storage class. This should only matter to you if you are using storages directly.  To access UntypedStorage directly, use tensor.untyped_storage() instead of tensor.storage()\n",
      "  ret = func(*args, **kwargs)\n",
      "/Users/joshstein/Documents/thesis/code/.venv/lib/python3.11/site-packages/monai/data/__init__.py:127: UserWarning: TypedStorage is deprecated. It will be removed in the future and UntypedStorage will be the only storage class. This should only matter to you if you are using storages directly.  To access UntypedStorage directly, use tensor.untyped_storage() instead of tensor.storage()\n",
      "  if storage.is_cuda:\n"
     ]
    },
    {
     "name": "stdout",
     "output_type": "stream",
     "text": [
      "1/16, train_loss: 0.1849\n",
      "2/16, train_loss: 0.3357\n",
      "3/16, train_loss: 0.2879\n",
      "4/16, train_loss: 0.1801\n",
      "5/16, train_loss: 0.2187\n",
      "6/16, train_loss: 0.2006\n",
      "7/16, train_loss: 0.1918\n",
      "8/16, train_loss: 0.1757\n",
      "9/16, train_loss: 0.1621\n",
      "10/16, train_loss: 0.2289\n",
      "11/16, train_loss: 0.2351\n",
      "12/16, train_loss: 0.1763\n",
      "13/16, train_loss: 0.2475\n",
      "14/16, train_loss: 0.1592\n",
      "15/16, train_loss: 0.1750\n",
      "16/16, train_loss: 0.2171\n",
      "epoch 26 average loss: 0.2110\n",
      "----------\n",
      "epoch 27/100\n"
     ]
    },
    {
     "name": "stderr",
     "output_type": "stream",
     "text": [
      "/Users/joshstein/Documents/thesis/code/.venv/lib/python3.11/site-packages/torch/_tensor.py:1295: UserWarning: TypedStorage is deprecated. It will be removed in the future and UntypedStorage will be the only storage class. This should only matter to you if you are using storages directly.  To access UntypedStorage directly, use tensor.untyped_storage() instead of tensor.storage()\n",
      "  ret = func(*args, **kwargs)\n",
      "/Users/joshstein/Documents/thesis/code/.venv/lib/python3.11/site-packages/monai/data/__init__.py:127: UserWarning: TypedStorage is deprecated. It will be removed in the future and UntypedStorage will be the only storage class. This should only matter to you if you are using storages directly.  To access UntypedStorage directly, use tensor.untyped_storage() instead of tensor.storage()\n",
      "  if storage.is_cuda:\n"
     ]
    },
    {
     "name": "stdout",
     "output_type": "stream",
     "text": [
      "1/16, train_loss: 0.1906\n",
      "2/16, train_loss: 0.1927\n",
      "3/16, train_loss: 0.1448\n",
      "4/16, train_loss: 0.1665\n",
      "5/16, train_loss: 0.2156\n",
      "6/16, train_loss: 0.2500\n",
      "7/16, train_loss: 0.1639\n",
      "8/16, train_loss: 0.1749\n",
      "9/16, train_loss: 0.2179\n",
      "10/16, train_loss: 0.1786\n",
      "11/16, train_loss: 0.1612\n",
      "12/16, train_loss: 0.1724\n",
      "13/16, train_loss: 0.2411\n",
      "14/16, train_loss: 0.3718\n",
      "15/16, train_loss: 0.3001\n",
      "16/16, train_loss: 0.1659\n",
      "epoch 27 average loss: 0.2067\n",
      "----------\n",
      "epoch 28/100\n"
     ]
    },
    {
     "name": "stderr",
     "output_type": "stream",
     "text": [
      "/Users/joshstein/Documents/thesis/code/.venv/lib/python3.11/site-packages/torch/_tensor.py:1295: UserWarning: TypedStorage is deprecated. It will be removed in the future and UntypedStorage will be the only storage class. This should only matter to you if you are using storages directly.  To access UntypedStorage directly, use tensor.untyped_storage() instead of tensor.storage()\n",
      "  ret = func(*args, **kwargs)\n",
      "/Users/joshstein/Documents/thesis/code/.venv/lib/python3.11/site-packages/monai/data/__init__.py:127: UserWarning: TypedStorage is deprecated. It will be removed in the future and UntypedStorage will be the only storage class. This should only matter to you if you are using storages directly.  To access UntypedStorage directly, use tensor.untyped_storage() instead of tensor.storage()\n",
      "  if storage.is_cuda:\n"
     ]
    },
    {
     "name": "stdout",
     "output_type": "stream",
     "text": [
      "1/16, train_loss: 0.1861\n",
      "2/16, train_loss: 0.1807\n",
      "3/16, train_loss: 0.1888\n",
      "4/16, train_loss: 0.1890\n",
      "5/16, train_loss: 0.1747\n",
      "6/16, train_loss: 0.2750\n",
      "7/16, train_loss: 0.2026\n",
      "8/16, train_loss: 0.1438\n",
      "9/16, train_loss: 0.1984\n",
      "10/16, train_loss: 0.1736\n",
      "11/16, train_loss: 0.1840\n",
      "12/16, train_loss: 0.1566\n",
      "13/16, train_loss: 0.1571\n",
      "14/16, train_loss: 0.2760\n",
      "15/16, train_loss: 0.2042\n",
      "16/16, train_loss: 0.1714\n",
      "epoch 28 average loss: 0.1914\n",
      "----------\n",
      "epoch 29/100\n"
     ]
    },
    {
     "name": "stderr",
     "output_type": "stream",
     "text": [
      "/Users/joshstein/Documents/thesis/code/.venv/lib/python3.11/site-packages/torch/_tensor.py:1295: UserWarning: TypedStorage is deprecated. It will be removed in the future and UntypedStorage will be the only storage class. This should only matter to you if you are using storages directly.  To access UntypedStorage directly, use tensor.untyped_storage() instead of tensor.storage()\n",
      "  ret = func(*args, **kwargs)\n",
      "/Users/joshstein/Documents/thesis/code/.venv/lib/python3.11/site-packages/monai/data/__init__.py:127: UserWarning: TypedStorage is deprecated. It will be removed in the future and UntypedStorage will be the only storage class. This should only matter to you if you are using storages directly.  To access UntypedStorage directly, use tensor.untyped_storage() instead of tensor.storage()\n",
      "  if storage.is_cuda:\n"
     ]
    },
    {
     "name": "stdout",
     "output_type": "stream",
     "text": [
      "1/16, train_loss: 0.2603\n",
      "2/16, train_loss: 0.1584\n",
      "3/16, train_loss: 0.2161\n",
      "4/16, train_loss: 0.1480\n",
      "5/16, train_loss: 0.1679\n",
      "6/16, train_loss: 0.2736\n",
      "7/16, train_loss: 0.1702\n",
      "8/16, train_loss: 0.1643\n",
      "9/16, train_loss: 0.1450\n",
      "10/16, train_loss: 0.1956\n",
      "11/16, train_loss: 0.2131\n",
      "12/16, train_loss: 0.1925\n",
      "13/16, train_loss: 0.2344\n",
      "14/16, train_loss: 0.2098\n",
      "15/16, train_loss: 0.1810\n",
      "16/16, train_loss: 0.1541\n",
      "epoch 29 average loss: 0.1928\n",
      "----------\n",
      "epoch 30/100\n"
     ]
    },
    {
     "name": "stderr",
     "output_type": "stream",
     "text": [
      "/Users/joshstein/Documents/thesis/code/.venv/lib/python3.11/site-packages/torch/_tensor.py:1295: UserWarning: TypedStorage is deprecated. It will be removed in the future and UntypedStorage will be the only storage class. This should only matter to you if you are using storages directly.  To access UntypedStorage directly, use tensor.untyped_storage() instead of tensor.storage()\n",
      "  ret = func(*args, **kwargs)\n",
      "/Users/joshstein/Documents/thesis/code/.venv/lib/python3.11/site-packages/monai/data/__init__.py:127: UserWarning: TypedStorage is deprecated. It will be removed in the future and UntypedStorage will be the only storage class. This should only matter to you if you are using storages directly.  To access UntypedStorage directly, use tensor.untyped_storage() instead of tensor.storage()\n",
      "  if storage.is_cuda:\n"
     ]
    },
    {
     "name": "stdout",
     "output_type": "stream",
     "text": [
      "1/16, train_loss: 0.1650\n",
      "2/16, train_loss: 0.2593\n",
      "3/16, train_loss: 0.1662\n",
      "4/16, train_loss: 0.2608\n",
      "5/16, train_loss: 0.1602\n",
      "6/16, train_loss: 0.1585\n",
      "7/16, train_loss: 0.2807\n",
      "8/16, train_loss: 0.2050\n",
      "9/16, train_loss: 0.2693\n",
      "10/16, train_loss: 0.1712\n",
      "11/16, train_loss: 0.2209\n",
      "12/16, train_loss: 0.2322\n",
      "13/16, train_loss: 0.1982\n",
      "14/16, train_loss: 0.1970\n",
      "15/16, train_loss: 0.1987\n",
      "16/16, train_loss: 0.2759\n",
      "epoch 30 average loss: 0.2137\n"
     ]
    },
    {
     "name": "stderr",
     "output_type": "stream",
     "text": [
      "/Users/joshstein/Documents/thesis/code/.venv/lib/python3.11/site-packages/torch/_tensor.py:1295: UserWarning: TypedStorage is deprecated. It will be removed in the future and UntypedStorage will be the only storage class. This should only matter to you if you are using storages directly.  To access UntypedStorage directly, use tensor.untyped_storage() instead of tensor.storage()\n",
      "  ret = func(*args, **kwargs)\n",
      "/Users/joshstein/Documents/thesis/code/.venv/lib/python3.11/site-packages/monai/data/__init__.py:127: UserWarning: TypedStorage is deprecated. It will be removed in the future and UntypedStorage will be the only storage class. This should only matter to you if you are using storages directly.  To access UntypedStorage directly, use tensor.untyped_storage() instead of tensor.storage()\n",
      "  if storage.is_cuda:\n"
     ]
    },
    {
     "name": "stdout",
     "output_type": "stream",
     "text": [
      "current epoch: 30 current mean dice: 0.5985\n",
      "best mean dice: 0.6344 at epoch: 25\n",
      "----------\n",
      "epoch 31/100\n"
     ]
    },
    {
     "name": "stderr",
     "output_type": "stream",
     "text": [
      "/Users/joshstein/Documents/thesis/code/.venv/lib/python3.11/site-packages/torch/_tensor.py:1295: UserWarning: TypedStorage is deprecated. It will be removed in the future and UntypedStorage will be the only storage class. This should only matter to you if you are using storages directly.  To access UntypedStorage directly, use tensor.untyped_storage() instead of tensor.storage()\n",
      "  ret = func(*args, **kwargs)\n",
      "/Users/joshstein/Documents/thesis/code/.venv/lib/python3.11/site-packages/monai/data/__init__.py:127: UserWarning: TypedStorage is deprecated. It will be removed in the future and UntypedStorage will be the only storage class. This should only matter to you if you are using storages directly.  To access UntypedStorage directly, use tensor.untyped_storage() instead of tensor.storage()\n",
      "  if storage.is_cuda:\n"
     ]
    },
    {
     "name": "stdout",
     "output_type": "stream",
     "text": [
      "1/16, train_loss: 0.2612\n",
      "2/16, train_loss: 0.1839\n",
      "3/16, train_loss: 0.1742\n",
      "4/16, train_loss: 0.2048\n",
      "5/16, train_loss: 0.2271\n",
      "6/16, train_loss: 0.1524\n",
      "7/16, train_loss: 0.1809\n",
      "8/16, train_loss: 0.2101\n",
      "9/16, train_loss: 0.2223\n",
      "10/16, train_loss: 0.1641\n",
      "11/16, train_loss: 0.1672\n",
      "12/16, train_loss: 0.1705\n",
      "13/16, train_loss: 0.1592\n",
      "14/16, train_loss: 0.1384\n",
      "15/16, train_loss: 0.1575\n",
      "16/16, train_loss: 0.3308\n",
      "epoch 31 average loss: 0.1940\n",
      "----------\n",
      "epoch 32/100\n"
     ]
    },
    {
     "name": "stderr",
     "output_type": "stream",
     "text": [
      "/Users/joshstein/Documents/thesis/code/.venv/lib/python3.11/site-packages/torch/_tensor.py:1295: UserWarning: TypedStorage is deprecated. It will be removed in the future and UntypedStorage will be the only storage class. This should only matter to you if you are using storages directly.  To access UntypedStorage directly, use tensor.untyped_storage() instead of tensor.storage()\n",
      "  ret = func(*args, **kwargs)\n",
      "/Users/joshstein/Documents/thesis/code/.venv/lib/python3.11/site-packages/monai/data/__init__.py:127: UserWarning: TypedStorage is deprecated. It will be removed in the future and UntypedStorage will be the only storage class. This should only matter to you if you are using storages directly.  To access UntypedStorage directly, use tensor.untyped_storage() instead of tensor.storage()\n",
      "  if storage.is_cuda:\n"
     ]
    },
    {
     "name": "stdout",
     "output_type": "stream",
     "text": [
      "1/16, train_loss: 0.1965\n",
      "2/16, train_loss: 0.2176\n",
      "3/16, train_loss: 0.1873\n",
      "4/16, train_loss: 0.2507\n",
      "5/16, train_loss: 0.2205\n",
      "6/16, train_loss: 0.1568\n",
      "7/16, train_loss: 0.2278\n",
      "8/16, train_loss: 0.1618\n",
      "9/16, train_loss: 0.2474\n",
      "10/16, train_loss: 0.1739\n",
      "11/16, train_loss: 0.1601\n",
      "12/16, train_loss: 0.2239\n",
      "13/16, train_loss: 0.1658\n",
      "14/16, train_loss: 0.1396\n",
      "15/16, train_loss: 0.3149\n",
      "16/16, train_loss: 0.1559\n",
      "epoch 32 average loss: 0.2000\n",
      "----------\n",
      "epoch 33/100\n"
     ]
    },
    {
     "name": "stderr",
     "output_type": "stream",
     "text": [
      "/Users/joshstein/Documents/thesis/code/.venv/lib/python3.11/site-packages/torch/_tensor.py:1295: UserWarning: TypedStorage is deprecated. It will be removed in the future and UntypedStorage will be the only storage class. This should only matter to you if you are using storages directly.  To access UntypedStorage directly, use tensor.untyped_storage() instead of tensor.storage()\n",
      "  ret = func(*args, **kwargs)\n",
      "/Users/joshstein/Documents/thesis/code/.venv/lib/python3.11/site-packages/monai/data/__init__.py:127: UserWarning: TypedStorage is deprecated. It will be removed in the future and UntypedStorage will be the only storage class. This should only matter to you if you are using storages directly.  To access UntypedStorage directly, use tensor.untyped_storage() instead of tensor.storage()\n",
      "  if storage.is_cuda:\n"
     ]
    },
    {
     "name": "stdout",
     "output_type": "stream",
     "text": [
      "1/16, train_loss: 0.1660\n",
      "2/16, train_loss: 0.2620\n",
      "3/16, train_loss: 0.1694\n",
      "4/16, train_loss: 0.2074\n",
      "5/16, train_loss: 0.1627\n",
      "6/16, train_loss: 0.2949\n",
      "7/16, train_loss: 0.1406\n",
      "8/16, train_loss: 0.2639\n",
      "9/16, train_loss: 0.1453\n",
      "10/16, train_loss: 0.1425\n",
      "11/16, train_loss: 0.1710\n",
      "12/16, train_loss: 0.1654\n",
      "13/16, train_loss: 0.1776\n",
      "14/16, train_loss: 0.1532\n",
      "15/16, train_loss: 0.1964\n",
      "16/16, train_loss: 0.1627\n",
      "epoch 33 average loss: 0.1863\n",
      "----------\n",
      "epoch 34/100\n"
     ]
    },
    {
     "name": "stderr",
     "output_type": "stream",
     "text": [
      "/Users/joshstein/Documents/thesis/code/.venv/lib/python3.11/site-packages/torch/_tensor.py:1295: UserWarning: TypedStorage is deprecated. It will be removed in the future and UntypedStorage will be the only storage class. This should only matter to you if you are using storages directly.  To access UntypedStorage directly, use tensor.untyped_storage() instead of tensor.storage()\n",
      "  ret = func(*args, **kwargs)\n",
      "/Users/joshstein/Documents/thesis/code/.venv/lib/python3.11/site-packages/monai/data/__init__.py:127: UserWarning: TypedStorage is deprecated. It will be removed in the future and UntypedStorage will be the only storage class. This should only matter to you if you are using storages directly.  To access UntypedStorage directly, use tensor.untyped_storage() instead of tensor.storage()\n",
      "  if storage.is_cuda:\n"
     ]
    },
    {
     "name": "stdout",
     "output_type": "stream",
     "text": [
      "1/16, train_loss: 0.1955\n",
      "2/16, train_loss: 0.1736\n",
      "3/16, train_loss: 0.1428\n",
      "4/16, train_loss: 0.1536\n",
      "5/16, train_loss: 0.1298\n",
      "6/16, train_loss: 0.1774\n",
      "7/16, train_loss: 0.1746\n",
      "8/16, train_loss: 0.1910\n",
      "9/16, train_loss: 0.2050\n",
      "10/16, train_loss: 0.1345\n",
      "11/16, train_loss: 0.1665\n",
      "12/16, train_loss: 0.2324\n",
      "13/16, train_loss: 0.2193\n",
      "14/16, train_loss: 0.2022\n",
      "15/16, train_loss: 0.1396\n",
      "16/16, train_loss: 0.2553\n",
      "epoch 34 average loss: 0.1808\n",
      "----------\n",
      "epoch 35/100\n"
     ]
    },
    {
     "name": "stderr",
     "output_type": "stream",
     "text": [
      "/Users/joshstein/Documents/thesis/code/.venv/lib/python3.11/site-packages/torch/_tensor.py:1295: UserWarning: TypedStorage is deprecated. It will be removed in the future and UntypedStorage will be the only storage class. This should only matter to you if you are using storages directly.  To access UntypedStorage directly, use tensor.untyped_storage() instead of tensor.storage()\n",
      "  ret = func(*args, **kwargs)\n",
      "/Users/joshstein/Documents/thesis/code/.venv/lib/python3.11/site-packages/monai/data/__init__.py:127: UserWarning: TypedStorage is deprecated. It will be removed in the future and UntypedStorage will be the only storage class. This should only matter to you if you are using storages directly.  To access UntypedStorage directly, use tensor.untyped_storage() instead of tensor.storage()\n",
      "  if storage.is_cuda:\n"
     ]
    },
    {
     "name": "stdout",
     "output_type": "stream",
     "text": [
      "1/16, train_loss: 0.1416\n",
      "2/16, train_loss: 0.1645\n",
      "3/16, train_loss: 0.1840\n",
      "4/16, train_loss: 0.1534\n",
      "5/16, train_loss: 0.1746\n",
      "6/16, train_loss: 0.1456\n",
      "7/16, train_loss: 0.2068\n",
      "8/16, train_loss: 0.1794\n",
      "9/16, train_loss: 0.1820\n",
      "10/16, train_loss: 0.1829\n",
      "11/16, train_loss: 0.2128\n",
      "12/16, train_loss: 0.1444\n",
      "13/16, train_loss: 0.2739\n",
      "14/16, train_loss: 0.1694\n",
      "15/16, train_loss: 0.1734\n",
      "16/16, train_loss: 0.2194\n",
      "epoch 35 average loss: 0.1818\n"
     ]
    },
    {
     "name": "stderr",
     "output_type": "stream",
     "text": [
      "/Users/joshstein/Documents/thesis/code/.venv/lib/python3.11/site-packages/torch/_tensor.py:1295: UserWarning: TypedStorage is deprecated. It will be removed in the future and UntypedStorage will be the only storage class. This should only matter to you if you are using storages directly.  To access UntypedStorage directly, use tensor.untyped_storage() instead of tensor.storage()\n",
      "  ret = func(*args, **kwargs)\n",
      "/Users/joshstein/Documents/thesis/code/.venv/lib/python3.11/site-packages/monai/data/__init__.py:127: UserWarning: TypedStorage is deprecated. It will be removed in the future and UntypedStorage will be the only storage class. This should only matter to you if you are using storages directly.  To access UntypedStorage directly, use tensor.untyped_storage() instead of tensor.storage()\n",
      "  if storage.is_cuda:\n"
     ]
    },
    {
     "name": "stdout",
     "output_type": "stream",
     "text": [
      "New best metric found: 0.6647969484329224\n",
      "current epoch: 35 current mean dice: 0.6648\n",
      "best mean dice: 0.6648 at epoch: 35\n",
      "----------\n",
      "epoch 36/100\n"
     ]
    },
    {
     "name": "stderr",
     "output_type": "stream",
     "text": [
      "/Users/joshstein/Documents/thesis/code/.venv/lib/python3.11/site-packages/torch/_tensor.py:1295: UserWarning: TypedStorage is deprecated. It will be removed in the future and UntypedStorage will be the only storage class. This should only matter to you if you are using storages directly.  To access UntypedStorage directly, use tensor.untyped_storage() instead of tensor.storage()\n",
      "  ret = func(*args, **kwargs)\n",
      "/Users/joshstein/Documents/thesis/code/.venv/lib/python3.11/site-packages/monai/data/__init__.py:127: UserWarning: TypedStorage is deprecated. It will be removed in the future and UntypedStorage will be the only storage class. This should only matter to you if you are using storages directly.  To access UntypedStorage directly, use tensor.untyped_storage() instead of tensor.storage()\n",
      "  if storage.is_cuda:\n"
     ]
    },
    {
     "name": "stdout",
     "output_type": "stream",
     "text": [
      "1/16, train_loss: 0.1731\n",
      "2/16, train_loss: 0.1729\n",
      "3/16, train_loss: 0.1719\n",
      "4/16, train_loss: 0.1579\n",
      "5/16, train_loss: 0.1553\n",
      "6/16, train_loss: 0.2433\n",
      "7/16, train_loss: 0.1552\n",
      "8/16, train_loss: 0.1718\n",
      "9/16, train_loss: 0.1929\n",
      "10/16, train_loss: 0.1428\n",
      "11/16, train_loss: 0.1788\n",
      "12/16, train_loss: 0.2281\n",
      "13/16, train_loss: 0.1450\n",
      "14/16, train_loss: 0.1580\n",
      "15/16, train_loss: 0.1653\n",
      "16/16, train_loss: 0.1580\n",
      "epoch 36 average loss: 0.1731\n",
      "----------\n",
      "epoch 37/100\n"
     ]
    },
    {
     "name": "stderr",
     "output_type": "stream",
     "text": [
      "/Users/joshstein/Documents/thesis/code/.venv/lib/python3.11/site-packages/torch/_tensor.py:1295: UserWarning: TypedStorage is deprecated. It will be removed in the future and UntypedStorage will be the only storage class. This should only matter to you if you are using storages directly.  To access UntypedStorage directly, use tensor.untyped_storage() instead of tensor.storage()\n",
      "  ret = func(*args, **kwargs)\n",
      "/Users/joshstein/Documents/thesis/code/.venv/lib/python3.11/site-packages/monai/data/__init__.py:127: UserWarning: TypedStorage is deprecated. It will be removed in the future and UntypedStorage will be the only storage class. This should only matter to you if you are using storages directly.  To access UntypedStorage directly, use tensor.untyped_storage() instead of tensor.storage()\n",
      "  if storage.is_cuda:\n"
     ]
    },
    {
     "name": "stdout",
     "output_type": "stream",
     "text": [
      "1/16, train_loss: 0.1628\n",
      "2/16, train_loss: 0.2299\n",
      "3/16, train_loss: 0.1987\n",
      "4/16, train_loss: 0.1679\n",
      "5/16, train_loss: 0.1475\n",
      "6/16, train_loss: 0.1420\n",
      "7/16, train_loss: 0.1401\n",
      "8/16, train_loss: 0.1395\n",
      "9/16, train_loss: 0.1815\n",
      "10/16, train_loss: 0.1440\n",
      "11/16, train_loss: 0.1623\n",
      "12/16, train_loss: 0.1387\n",
      "13/16, train_loss: 0.1864\n",
      "14/16, train_loss: 0.1493\n",
      "15/16, train_loss: 0.1462\n",
      "16/16, train_loss: 0.1615\n",
      "epoch 37 average loss: 0.1624\n",
      "----------\n",
      "epoch 38/100\n"
     ]
    },
    {
     "name": "stderr",
     "output_type": "stream",
     "text": [
      "/Users/joshstein/Documents/thesis/code/.venv/lib/python3.11/site-packages/torch/_tensor.py:1295: UserWarning: TypedStorage is deprecated. It will be removed in the future and UntypedStorage will be the only storage class. This should only matter to you if you are using storages directly.  To access UntypedStorage directly, use tensor.untyped_storage() instead of tensor.storage()\n",
      "  ret = func(*args, **kwargs)\n",
      "/Users/joshstein/Documents/thesis/code/.venv/lib/python3.11/site-packages/monai/data/__init__.py:127: UserWarning: TypedStorage is deprecated. It will be removed in the future and UntypedStorage will be the only storage class. This should only matter to you if you are using storages directly.  To access UntypedStorage directly, use tensor.untyped_storage() instead of tensor.storage()\n",
      "  if storage.is_cuda:\n"
     ]
    },
    {
     "name": "stdout",
     "output_type": "stream",
     "text": [
      "1/16, train_loss: 0.2500\n",
      "2/16, train_loss: 0.1459\n",
      "3/16, train_loss: 0.1262\n",
      "4/16, train_loss: 0.1586\n",
      "5/16, train_loss: 0.2091\n",
      "6/16, train_loss: 0.1609\n",
      "7/16, train_loss: 0.1377\n",
      "8/16, train_loss: 0.1807\n",
      "9/16, train_loss: 0.1666\n",
      "10/16, train_loss: 0.1625\n",
      "11/16, train_loss: 0.1910\n",
      "12/16, train_loss: 0.1273\n",
      "13/16, train_loss: 0.1321\n",
      "14/16, train_loss: 0.2044\n",
      "15/16, train_loss: 0.1378\n",
      "16/16, train_loss: 0.1781\n",
      "epoch 38 average loss: 0.1668\n",
      "----------\n",
      "epoch 39/100\n"
     ]
    },
    {
     "name": "stderr",
     "output_type": "stream",
     "text": [
      "/Users/joshstein/Documents/thesis/code/.venv/lib/python3.11/site-packages/torch/_tensor.py:1295: UserWarning: TypedStorage is deprecated. It will be removed in the future and UntypedStorage will be the only storage class. This should only matter to you if you are using storages directly.  To access UntypedStorage directly, use tensor.untyped_storage() instead of tensor.storage()\n",
      "  ret = func(*args, **kwargs)\n",
      "/Users/joshstein/Documents/thesis/code/.venv/lib/python3.11/site-packages/monai/data/__init__.py:127: UserWarning: TypedStorage is deprecated. It will be removed in the future and UntypedStorage will be the only storage class. This should only matter to you if you are using storages directly.  To access UntypedStorage directly, use tensor.untyped_storage() instead of tensor.storage()\n",
      "  if storage.is_cuda:\n"
     ]
    },
    {
     "name": "stdout",
     "output_type": "stream",
     "text": [
      "1/16, train_loss: 0.2566\n",
      "2/16, train_loss: 0.1482\n",
      "3/16, train_loss: 0.1451\n",
      "4/16, train_loss: 0.1227\n",
      "5/16, train_loss: 0.1622\n",
      "6/16, train_loss: 0.1442\n",
      "7/16, train_loss: 0.1908\n",
      "8/16, train_loss: 0.1927\n",
      "9/16, train_loss: 0.1323\n",
      "10/16, train_loss: 0.1867\n",
      "11/16, train_loss: 0.1466\n",
      "12/16, train_loss: 0.1333\n",
      "13/16, train_loss: 0.2111\n",
      "14/16, train_loss: 0.1429\n",
      "15/16, train_loss: 0.1518\n",
      "16/16, train_loss: 0.1519\n",
      "epoch 39 average loss: 0.1637\n",
      "----------\n",
      "epoch 40/100\n"
     ]
    },
    {
     "name": "stderr",
     "output_type": "stream",
     "text": [
      "/Users/joshstein/Documents/thesis/code/.venv/lib/python3.11/site-packages/torch/_tensor.py:1295: UserWarning: TypedStorage is deprecated. It will be removed in the future and UntypedStorage will be the only storage class. This should only matter to you if you are using storages directly.  To access UntypedStorage directly, use tensor.untyped_storage() instead of tensor.storage()\n",
      "  ret = func(*args, **kwargs)\n",
      "/Users/joshstein/Documents/thesis/code/.venv/lib/python3.11/site-packages/monai/data/__init__.py:127: UserWarning: TypedStorage is deprecated. It will be removed in the future and UntypedStorage will be the only storage class. This should only matter to you if you are using storages directly.  To access UntypedStorage directly, use tensor.untyped_storage() instead of tensor.storage()\n",
      "  if storage.is_cuda:\n"
     ]
    },
    {
     "name": "stdout",
     "output_type": "stream",
     "text": [
      "1/16, train_loss: 0.1705\n",
      "2/16, train_loss: 0.1553\n",
      "3/16, train_loss: 0.1132\n",
      "4/16, train_loss: 0.1822\n",
      "5/16, train_loss: 0.2391\n",
      "6/16, train_loss: 0.1750\n",
      "7/16, train_loss: 0.1471\n",
      "8/16, train_loss: 0.1219\n",
      "9/16, train_loss: 0.1624\n",
      "10/16, train_loss: 0.1430\n",
      "11/16, train_loss: 0.1782\n",
      "12/16, train_loss: 0.1753\n",
      "13/16, train_loss: 0.1698\n",
      "14/16, train_loss: 0.1516\n",
      "15/16, train_loss: 0.1348\n",
      "16/16, train_loss: 0.1425\n",
      "epoch 40 average loss: 0.1601\n"
     ]
    },
    {
     "name": "stderr",
     "output_type": "stream",
     "text": [
      "/Users/joshstein/Documents/thesis/code/.venv/lib/python3.11/site-packages/torch/_tensor.py:1295: UserWarning: TypedStorage is deprecated. It will be removed in the future and UntypedStorage will be the only storage class. This should only matter to you if you are using storages directly.  To access UntypedStorage directly, use tensor.untyped_storage() instead of tensor.storage()\n",
      "  ret = func(*args, **kwargs)\n",
      "/Users/joshstein/Documents/thesis/code/.venv/lib/python3.11/site-packages/monai/data/__init__.py:127: UserWarning: TypedStorage is deprecated. It will be removed in the future and UntypedStorage will be the only storage class. This should only matter to you if you are using storages directly.  To access UntypedStorage directly, use tensor.untyped_storage() instead of tensor.storage()\n",
      "  if storage.is_cuda:\n"
     ]
    },
    {
     "name": "stdout",
     "output_type": "stream",
     "text": [
      "New best metric found: 0.681476891040802\n",
      "current epoch: 40 current mean dice: 0.6815\n",
      "best mean dice: 0.6815 at epoch: 40\n",
      "----------\n",
      "epoch 41/100\n"
     ]
    },
    {
     "name": "stderr",
     "output_type": "stream",
     "text": [
      "/Users/joshstein/Documents/thesis/code/.venv/lib/python3.11/site-packages/torch/_tensor.py:1295: UserWarning: TypedStorage is deprecated. It will be removed in the future and UntypedStorage will be the only storage class. This should only matter to you if you are using storages directly.  To access UntypedStorage directly, use tensor.untyped_storage() instead of tensor.storage()\n",
      "  ret = func(*args, **kwargs)\n",
      "/Users/joshstein/Documents/thesis/code/.venv/lib/python3.11/site-packages/monai/data/__init__.py:127: UserWarning: TypedStorage is deprecated. It will be removed in the future and UntypedStorage will be the only storage class. This should only matter to you if you are using storages directly.  To access UntypedStorage directly, use tensor.untyped_storage() instead of tensor.storage()\n",
      "  if storage.is_cuda:\n"
     ]
    },
    {
     "name": "stdout",
     "output_type": "stream",
     "text": [
      "1/16, train_loss: 0.1299\n",
      "2/16, train_loss: 0.1960\n",
      "3/16, train_loss: 0.1531\n",
      "4/16, train_loss: 0.1363\n",
      "5/16, train_loss: 0.2927\n",
      "6/16, train_loss: 0.1462\n",
      "7/16, train_loss: 0.1493\n",
      "8/16, train_loss: 0.1708\n",
      "9/16, train_loss: 0.1480\n",
      "10/16, train_loss: 0.1665\n",
      "11/16, train_loss: 0.1445\n",
      "12/16, train_loss: 0.1522\n",
      "13/16, train_loss: 0.2120\n",
      "14/16, train_loss: 0.1612\n",
      "15/16, train_loss: 0.1327\n",
      "16/16, train_loss: 0.1419\n",
      "epoch 41 average loss: 0.1646\n",
      "----------\n",
      "epoch 42/100\n"
     ]
    },
    {
     "name": "stderr",
     "output_type": "stream",
     "text": [
      "/Users/joshstein/Documents/thesis/code/.venv/lib/python3.11/site-packages/torch/_tensor.py:1295: UserWarning: TypedStorage is deprecated. It will be removed in the future and UntypedStorage will be the only storage class. This should only matter to you if you are using storages directly.  To access UntypedStorage directly, use tensor.untyped_storage() instead of tensor.storage()\n",
      "  ret = func(*args, **kwargs)\n",
      "/Users/joshstein/Documents/thesis/code/.venv/lib/python3.11/site-packages/monai/data/__init__.py:127: UserWarning: TypedStorage is deprecated. It will be removed in the future and UntypedStorage will be the only storage class. This should only matter to you if you are using storages directly.  To access UntypedStorage directly, use tensor.untyped_storage() instead of tensor.storage()\n",
      "  if storage.is_cuda:\n"
     ]
    },
    {
     "name": "stdout",
     "output_type": "stream",
     "text": [
      "1/16, train_loss: 0.1416\n",
      "2/16, train_loss: 0.1251\n",
      "3/16, train_loss: 0.1372\n",
      "4/16, train_loss: 0.1482\n",
      "5/16, train_loss: 0.1946\n",
      "6/16, train_loss: 0.1614\n",
      "7/16, train_loss: 0.1219\n",
      "8/16, train_loss: 0.2404\n",
      "9/16, train_loss: 0.1739\n",
      "10/16, train_loss: 0.1234\n",
      "11/16, train_loss: 0.1802\n",
      "12/16, train_loss: 0.1399\n",
      "13/16, train_loss: 0.1510\n",
      "14/16, train_loss: 0.1296\n",
      "15/16, train_loss: 0.1425\n",
      "16/16, train_loss: 0.1721\n",
      "epoch 42 average loss: 0.1552\n",
      "----------\n",
      "epoch 43/100\n"
     ]
    },
    {
     "name": "stderr",
     "output_type": "stream",
     "text": [
      "/Users/joshstein/Documents/thesis/code/.venv/lib/python3.11/site-packages/torch/_tensor.py:1295: UserWarning: TypedStorage is deprecated. It will be removed in the future and UntypedStorage will be the only storage class. This should only matter to you if you are using storages directly.  To access UntypedStorage directly, use tensor.untyped_storage() instead of tensor.storage()\n",
      "  ret = func(*args, **kwargs)\n",
      "/Users/joshstein/Documents/thesis/code/.venv/lib/python3.11/site-packages/monai/data/__init__.py:127: UserWarning: TypedStorage is deprecated. It will be removed in the future and UntypedStorage will be the only storage class. This should only matter to you if you are using storages directly.  To access UntypedStorage directly, use tensor.untyped_storage() instead of tensor.storage()\n",
      "  if storage.is_cuda:\n"
     ]
    },
    {
     "name": "stdout",
     "output_type": "stream",
     "text": [
      "1/16, train_loss: 0.1435\n",
      "2/16, train_loss: 0.1913\n",
      "3/16, train_loss: 0.1961\n",
      "4/16, train_loss: 0.1491\n",
      "5/16, train_loss: 0.1458\n",
      "6/16, train_loss: 0.1304\n",
      "7/16, train_loss: 0.1271\n",
      "8/16, train_loss: 0.2748\n",
      "9/16, train_loss: 0.1224\n",
      "10/16, train_loss: 0.1821\n",
      "11/16, train_loss: 0.1405\n",
      "12/16, train_loss: 0.1688\n",
      "13/16, train_loss: 0.1812\n",
      "14/16, train_loss: 0.1541\n",
      "15/16, train_loss: 0.1271\n",
      "16/16, train_loss: 0.1537\n",
      "epoch 43 average loss: 0.1617\n",
      "----------\n",
      "epoch 44/100\n"
     ]
    },
    {
     "name": "stderr",
     "output_type": "stream",
     "text": [
      "/Users/joshstein/Documents/thesis/code/.venv/lib/python3.11/site-packages/torch/_tensor.py:1295: UserWarning: TypedStorage is deprecated. It will be removed in the future and UntypedStorage will be the only storage class. This should only matter to you if you are using storages directly.  To access UntypedStorage directly, use tensor.untyped_storage() instead of tensor.storage()\n",
      "  ret = func(*args, **kwargs)\n",
      "/Users/joshstein/Documents/thesis/code/.venv/lib/python3.11/site-packages/monai/data/__init__.py:127: UserWarning: TypedStorage is deprecated. It will be removed in the future and UntypedStorage will be the only storage class. This should only matter to you if you are using storages directly.  To access UntypedStorage directly, use tensor.untyped_storage() instead of tensor.storage()\n",
      "  if storage.is_cuda:\n"
     ]
    },
    {
     "name": "stdout",
     "output_type": "stream",
     "text": [
      "1/16, train_loss: 0.1405\n",
      "2/16, train_loss: 0.1603\n",
      "3/16, train_loss: 0.1459\n",
      "4/16, train_loss: 0.1502\n",
      "5/16, train_loss: 0.1817\n",
      "6/16, train_loss: 0.1293\n",
      "7/16, train_loss: 0.1402\n",
      "8/16, train_loss: 0.2003\n",
      "9/16, train_loss: 0.2446\n",
      "10/16, train_loss: 0.1534\n",
      "11/16, train_loss: 0.1321\n",
      "12/16, train_loss: 0.1596\n",
      "13/16, train_loss: 0.1286\n",
      "14/16, train_loss: 0.1790\n",
      "15/16, train_loss: 0.1326\n",
      "16/16, train_loss: 0.1342\n",
      "epoch 44 average loss: 0.1570\n",
      "----------\n",
      "epoch 45/100\n"
     ]
    },
    {
     "name": "stderr",
     "output_type": "stream",
     "text": [
      "/Users/joshstein/Documents/thesis/code/.venv/lib/python3.11/site-packages/torch/_tensor.py:1295: UserWarning: TypedStorage is deprecated. It will be removed in the future and UntypedStorage will be the only storage class. This should only matter to you if you are using storages directly.  To access UntypedStorage directly, use tensor.untyped_storage() instead of tensor.storage()\n",
      "  ret = func(*args, **kwargs)\n",
      "/Users/joshstein/Documents/thesis/code/.venv/lib/python3.11/site-packages/monai/data/__init__.py:127: UserWarning: TypedStorage is deprecated. It will be removed in the future and UntypedStorage will be the only storage class. This should only matter to you if you are using storages directly.  To access UntypedStorage directly, use tensor.untyped_storage() instead of tensor.storage()\n",
      "  if storage.is_cuda:\n"
     ]
    },
    {
     "name": "stdout",
     "output_type": "stream",
     "text": [
      "1/16, train_loss: 0.1491\n",
      "2/16, train_loss: 0.1536\n",
      "3/16, train_loss: 0.1503\n",
      "4/16, train_loss: 0.1108\n",
      "5/16, train_loss: 0.1777\n",
      "6/16, train_loss: 0.1880\n",
      "7/16, train_loss: 0.1308\n",
      "8/16, train_loss: 0.1772\n",
      "9/16, train_loss: 0.1320\n",
      "10/16, train_loss: 0.1373\n",
      "11/16, train_loss: 0.1302\n",
      "12/16, train_loss: 0.1330\n",
      "13/16, train_loss: 0.1561\n",
      "14/16, train_loss: 0.1391\n",
      "15/16, train_loss: 0.1781\n",
      "16/16, train_loss: 0.2263\n",
      "epoch 45 average loss: 0.1543\n"
     ]
    },
    {
     "name": "stderr",
     "output_type": "stream",
     "text": [
      "/Users/joshstein/Documents/thesis/code/.venv/lib/python3.11/site-packages/torch/_tensor.py:1295: UserWarning: TypedStorage is deprecated. It will be removed in the future and UntypedStorage will be the only storage class. This should only matter to you if you are using storages directly.  To access UntypedStorage directly, use tensor.untyped_storage() instead of tensor.storage()\n",
      "  ret = func(*args, **kwargs)\n",
      "/Users/joshstein/Documents/thesis/code/.venv/lib/python3.11/site-packages/monai/data/__init__.py:127: UserWarning: TypedStorage is deprecated. It will be removed in the future and UntypedStorage will be the only storage class. This should only matter to you if you are using storages directly.  To access UntypedStorage directly, use tensor.untyped_storage() instead of tensor.storage()\n",
      "  if storage.is_cuda:\n"
     ]
    },
    {
     "name": "stdout",
     "output_type": "stream",
     "text": [
      "New best metric found: 0.7159333825111389\n",
      "current epoch: 45 current mean dice: 0.7159\n",
      "best mean dice: 0.7159 at epoch: 45\n",
      "----------\n",
      "epoch 46/100\n"
     ]
    },
    {
     "name": "stderr",
     "output_type": "stream",
     "text": [
      "/Users/joshstein/Documents/thesis/code/.venv/lib/python3.11/site-packages/torch/_tensor.py:1295: UserWarning: TypedStorage is deprecated. It will be removed in the future and UntypedStorage will be the only storage class. This should only matter to you if you are using storages directly.  To access UntypedStorage directly, use tensor.untyped_storage() instead of tensor.storage()\n",
      "  ret = func(*args, **kwargs)\n",
      "/Users/joshstein/Documents/thesis/code/.venv/lib/python3.11/site-packages/monai/data/__init__.py:127: UserWarning: TypedStorage is deprecated. It will be removed in the future and UntypedStorage will be the only storage class. This should only matter to you if you are using storages directly.  To access UntypedStorage directly, use tensor.untyped_storage() instead of tensor.storage()\n",
      "  if storage.is_cuda:\n"
     ]
    },
    {
     "name": "stdout",
     "output_type": "stream",
     "text": [
      "1/16, train_loss: 0.1615\n",
      "2/16, train_loss: 0.1296\n",
      "3/16, train_loss: 0.2130\n",
      "4/16, train_loss: 0.1585\n",
      "5/16, train_loss: 0.1207\n",
      "6/16, train_loss: 0.1530\n",
      "7/16, train_loss: 0.1459\n",
      "8/16, train_loss: 0.1463\n",
      "9/16, train_loss: 0.1588\n",
      "10/16, train_loss: 0.1720\n",
      "11/16, train_loss: 0.1704\n",
      "12/16, train_loss: 0.1361\n",
      "13/16, train_loss: 0.1049\n",
      "14/16, train_loss: 0.1472\n",
      "15/16, train_loss: 0.1159\n",
      "16/16, train_loss: 0.1368\n",
      "epoch 46 average loss: 0.1482\n",
      "----------\n",
      "epoch 47/100\n"
     ]
    },
    {
     "name": "stderr",
     "output_type": "stream",
     "text": [
      "/Users/joshstein/Documents/thesis/code/.venv/lib/python3.11/site-packages/torch/_tensor.py:1295: UserWarning: TypedStorage is deprecated. It will be removed in the future and UntypedStorage will be the only storage class. This should only matter to you if you are using storages directly.  To access UntypedStorage directly, use tensor.untyped_storage() instead of tensor.storage()\n",
      "  ret = func(*args, **kwargs)\n",
      "/Users/joshstein/Documents/thesis/code/.venv/lib/python3.11/site-packages/monai/data/__init__.py:127: UserWarning: TypedStorage is deprecated. It will be removed in the future and UntypedStorage will be the only storage class. This should only matter to you if you are using storages directly.  To access UntypedStorage directly, use tensor.untyped_storage() instead of tensor.storage()\n",
      "  if storage.is_cuda:\n"
     ]
    },
    {
     "name": "stdout",
     "output_type": "stream",
     "text": [
      "1/16, train_loss: 0.1579\n",
      "2/16, train_loss: 0.1575\n",
      "3/16, train_loss: 0.2269\n",
      "4/16, train_loss: 0.1252\n",
      "5/16, train_loss: 0.1357\n",
      "6/16, train_loss: 0.1824\n",
      "7/16, train_loss: 0.1603\n",
      "8/16, train_loss: 0.1326\n",
      "9/16, train_loss: 0.1837\n",
      "10/16, train_loss: 0.1726\n",
      "11/16, train_loss: 0.1192\n",
      "12/16, train_loss: 0.1843\n",
      "13/16, train_loss: 0.1766\n",
      "14/16, train_loss: 0.1260\n",
      "15/16, train_loss: 0.1497\n",
      "16/16, train_loss: 0.1457\n",
      "epoch 47 average loss: 0.1585\n",
      "----------\n",
      "epoch 48/100\n"
     ]
    },
    {
     "name": "stderr",
     "output_type": "stream",
     "text": [
      "/Users/joshstein/Documents/thesis/code/.venv/lib/python3.11/site-packages/torch/_tensor.py:1295: UserWarning: TypedStorage is deprecated. It will be removed in the future and UntypedStorage will be the only storage class. This should only matter to you if you are using storages directly.  To access UntypedStorage directly, use tensor.untyped_storage() instead of tensor.storage()\n",
      "  ret = func(*args, **kwargs)\n",
      "/Users/joshstein/Documents/thesis/code/.venv/lib/python3.11/site-packages/monai/data/__init__.py:127: UserWarning: TypedStorage is deprecated. It will be removed in the future and UntypedStorage will be the only storage class. This should only matter to you if you are using storages directly.  To access UntypedStorage directly, use tensor.untyped_storage() instead of tensor.storage()\n",
      "  if storage.is_cuda:\n"
     ]
    },
    {
     "name": "stdout",
     "output_type": "stream",
     "text": [
      "1/16, train_loss: 0.1386\n",
      "2/16, train_loss: 0.1450\n",
      "3/16, train_loss: 0.1522\n",
      "4/16, train_loss: 0.1451\n",
      "5/16, train_loss: 0.1848\n",
      "6/16, train_loss: 0.1969\n",
      "7/16, train_loss: 0.1536\n",
      "8/16, train_loss: 0.1846\n",
      "9/16, train_loss: 0.1567\n",
      "10/16, train_loss: 0.2016\n",
      "11/16, train_loss: 0.1543\n",
      "12/16, train_loss: 0.1565\n",
      "13/16, train_loss: 0.1385\n",
      "14/16, train_loss: 0.1611\n",
      "15/16, train_loss: 0.2202\n",
      "16/16, train_loss: 0.1232\n",
      "epoch 48 average loss: 0.1633\n",
      "----------\n",
      "epoch 49/100\n"
     ]
    },
    {
     "name": "stderr",
     "output_type": "stream",
     "text": [
      "/Users/joshstein/Documents/thesis/code/.venv/lib/python3.11/site-packages/torch/_tensor.py:1295: UserWarning: TypedStorage is deprecated. It will be removed in the future and UntypedStorage will be the only storage class. This should only matter to you if you are using storages directly.  To access UntypedStorage directly, use tensor.untyped_storage() instead of tensor.storage()\n",
      "  ret = func(*args, **kwargs)\n",
      "/Users/joshstein/Documents/thesis/code/.venv/lib/python3.11/site-packages/monai/data/__init__.py:127: UserWarning: TypedStorage is deprecated. It will be removed in the future and UntypedStorage will be the only storage class. This should only matter to you if you are using storages directly.  To access UntypedStorage directly, use tensor.untyped_storage() instead of tensor.storage()\n",
      "  if storage.is_cuda:\n"
     ]
    },
    {
     "name": "stdout",
     "output_type": "stream",
     "text": [
      "1/16, train_loss: 0.1294\n",
      "2/16, train_loss: 0.1389\n",
      "3/16, train_loss: 0.1233\n",
      "4/16, train_loss: 0.1249\n",
      "5/16, train_loss: 0.1153\n",
      "6/16, train_loss: 0.1727\n",
      "7/16, train_loss: 0.2042\n",
      "8/16, train_loss: 0.1421\n",
      "9/16, train_loss: 0.1740\n",
      "10/16, train_loss: 0.1557\n",
      "11/16, train_loss: 0.1208\n",
      "12/16, train_loss: 0.1699\n",
      "13/16, train_loss: 0.1433\n",
      "14/16, train_loss: 0.2538\n",
      "15/16, train_loss: 0.1482\n",
      "16/16, train_loss: 0.1666\n",
      "epoch 49 average loss: 0.1552\n",
      "----------\n",
      "epoch 50/100\n"
     ]
    },
    {
     "name": "stderr",
     "output_type": "stream",
     "text": [
      "/Users/joshstein/Documents/thesis/code/.venv/lib/python3.11/site-packages/torch/_tensor.py:1295: UserWarning: TypedStorage is deprecated. It will be removed in the future and UntypedStorage will be the only storage class. This should only matter to you if you are using storages directly.  To access UntypedStorage directly, use tensor.untyped_storage() instead of tensor.storage()\n",
      "  ret = func(*args, **kwargs)\n",
      "/Users/joshstein/Documents/thesis/code/.venv/lib/python3.11/site-packages/monai/data/__init__.py:127: UserWarning: TypedStorage is deprecated. It will be removed in the future and UntypedStorage will be the only storage class. This should only matter to you if you are using storages directly.  To access UntypedStorage directly, use tensor.untyped_storage() instead of tensor.storage()\n",
      "  if storage.is_cuda:\n"
     ]
    },
    {
     "name": "stdout",
     "output_type": "stream",
     "text": [
      "1/16, train_loss: 0.1455\n",
      "2/16, train_loss: 0.1118\n",
      "3/16, train_loss: 0.1701\n",
      "4/16, train_loss: 0.1203\n",
      "5/16, train_loss: 0.1622\n",
      "6/16, train_loss: 0.2290\n",
      "7/16, train_loss: 0.1377\n",
      "8/16, train_loss: 0.1486\n",
      "9/16, train_loss: 0.1211\n",
      "10/16, train_loss: 0.1198\n",
      "11/16, train_loss: 0.1147\n",
      "12/16, train_loss: 0.1552\n",
      "13/16, train_loss: 0.2328\n",
      "14/16, train_loss: 0.1234\n",
      "15/16, train_loss: 0.1762\n",
      "16/16, train_loss: 0.1375\n",
      "epoch 50 average loss: 0.1504\n"
     ]
    },
    {
     "name": "stderr",
     "output_type": "stream",
     "text": [
      "/Users/joshstein/Documents/thesis/code/.venv/lib/python3.11/site-packages/torch/_tensor.py:1295: UserWarning: TypedStorage is deprecated. It will be removed in the future and UntypedStorage will be the only storage class. This should only matter to you if you are using storages directly.  To access UntypedStorage directly, use tensor.untyped_storage() instead of tensor.storage()\n",
      "  ret = func(*args, **kwargs)\n",
      "/Users/joshstein/Documents/thesis/code/.venv/lib/python3.11/site-packages/monai/data/__init__.py:127: UserWarning: TypedStorage is deprecated. It will be removed in the future and UntypedStorage will be the only storage class. This should only matter to you if you are using storages directly.  To access UntypedStorage directly, use tensor.untyped_storage() instead of tensor.storage()\n",
      "  if storage.is_cuda:\n"
     ]
    },
    {
     "name": "stdout",
     "output_type": "stream",
     "text": [
      "current epoch: 50 current mean dice: 0.6245\n",
      "best mean dice: 0.7159 at epoch: 45\n",
      "----------\n",
      "epoch 51/100\n"
     ]
    },
    {
     "name": "stderr",
     "output_type": "stream",
     "text": [
      "/Users/joshstein/Documents/thesis/code/.venv/lib/python3.11/site-packages/torch/_tensor.py:1295: UserWarning: TypedStorage is deprecated. It will be removed in the future and UntypedStorage will be the only storage class. This should only matter to you if you are using storages directly.  To access UntypedStorage directly, use tensor.untyped_storage() instead of tensor.storage()\n",
      "  ret = func(*args, **kwargs)\n",
      "/Users/joshstein/Documents/thesis/code/.venv/lib/python3.11/site-packages/monai/data/__init__.py:127: UserWarning: TypedStorage is deprecated. It will be removed in the future and UntypedStorage will be the only storage class. This should only matter to you if you are using storages directly.  To access UntypedStorage directly, use tensor.untyped_storage() instead of tensor.storage()\n",
      "  if storage.is_cuda:\n"
     ]
    },
    {
     "name": "stdout",
     "output_type": "stream",
     "text": [
      "1/16, train_loss: 0.1582\n",
      "2/16, train_loss: 0.1280\n",
      "3/16, train_loss: 0.1110\n",
      "4/16, train_loss: 0.1312\n",
      "5/16, train_loss: 0.1062\n",
      "6/16, train_loss: 0.1151\n",
      "7/16, train_loss: 0.1421\n",
      "8/16, train_loss: 0.1314\n",
      "9/16, train_loss: 0.1286\n",
      "10/16, train_loss: 0.1183\n",
      "11/16, train_loss: 0.1363\n",
      "12/16, train_loss: 0.1648\n",
      "13/16, train_loss: 0.2148\n",
      "14/16, train_loss: 0.1949\n",
      "15/16, train_loss: 0.1381\n",
      "16/16, train_loss: 0.1721\n",
      "epoch 51 average loss: 0.1432\n",
      "----------\n",
      "epoch 52/100\n"
     ]
    },
    {
     "name": "stderr",
     "output_type": "stream",
     "text": [
      "/Users/joshstein/Documents/thesis/code/.venv/lib/python3.11/site-packages/torch/_tensor.py:1295: UserWarning: TypedStorage is deprecated. It will be removed in the future and UntypedStorage will be the only storage class. This should only matter to you if you are using storages directly.  To access UntypedStorage directly, use tensor.untyped_storage() instead of tensor.storage()\n",
      "  ret = func(*args, **kwargs)\n",
      "/Users/joshstein/Documents/thesis/code/.venv/lib/python3.11/site-packages/monai/data/__init__.py:127: UserWarning: TypedStorage is deprecated. It will be removed in the future and UntypedStorage will be the only storage class. This should only matter to you if you are using storages directly.  To access UntypedStorage directly, use tensor.untyped_storage() instead of tensor.storage()\n",
      "  if storage.is_cuda:\n"
     ]
    },
    {
     "name": "stdout",
     "output_type": "stream",
     "text": [
      "1/16, train_loss: 0.1299\n",
      "2/16, train_loss: 0.1019\n",
      "3/16, train_loss: 0.1366\n",
      "4/16, train_loss: 0.1807\n",
      "5/16, train_loss: 0.1236\n",
      "6/16, train_loss: 0.1528\n",
      "7/16, train_loss: 0.1240\n",
      "8/16, train_loss: 0.1717\n",
      "9/16, train_loss: 0.1122\n",
      "10/16, train_loss: 0.1385\n",
      "11/16, train_loss: 0.1319\n",
      "12/16, train_loss: 0.2494\n",
      "13/16, train_loss: 0.1167\n",
      "14/16, train_loss: 0.1235\n",
      "15/16, train_loss: 0.1290\n",
      "16/16, train_loss: 0.2426\n",
      "epoch 52 average loss: 0.1478\n",
      "----------\n",
      "epoch 53/100\n"
     ]
    },
    {
     "name": "stderr",
     "output_type": "stream",
     "text": [
      "/Users/joshstein/Documents/thesis/code/.venv/lib/python3.11/site-packages/torch/_tensor.py:1295: UserWarning: TypedStorage is deprecated. It will be removed in the future and UntypedStorage will be the only storage class. This should only matter to you if you are using storages directly.  To access UntypedStorage directly, use tensor.untyped_storage() instead of tensor.storage()\n",
      "  ret = func(*args, **kwargs)\n",
      "/Users/joshstein/Documents/thesis/code/.venv/lib/python3.11/site-packages/monai/data/__init__.py:127: UserWarning: TypedStorage is deprecated. It will be removed in the future and UntypedStorage will be the only storage class. This should only matter to you if you are using storages directly.  To access UntypedStorage directly, use tensor.untyped_storage() instead of tensor.storage()\n",
      "  if storage.is_cuda:\n"
     ]
    },
    {
     "name": "stdout",
     "output_type": "stream",
     "text": [
      "1/16, train_loss: 0.1165\n",
      "2/16, train_loss: 0.1456\n",
      "3/16, train_loss: 0.1871\n",
      "4/16, train_loss: 0.1177\n",
      "5/16, train_loss: 0.1394\n",
      "6/16, train_loss: 0.1333\n",
      "7/16, train_loss: 0.1503\n",
      "8/16, train_loss: 0.1221\n",
      "9/16, train_loss: 0.2256\n",
      "10/16, train_loss: 0.1267\n",
      "11/16, train_loss: 0.1243\n",
      "12/16, train_loss: 0.1138\n",
      "13/16, train_loss: 0.1263\n",
      "14/16, train_loss: 0.1936\n",
      "15/16, train_loss: 0.1157\n",
      "16/16, train_loss: 0.1567\n",
      "epoch 53 average loss: 0.1434\n",
      "----------\n",
      "epoch 54/100\n"
     ]
    },
    {
     "name": "stderr",
     "output_type": "stream",
     "text": [
      "/Users/joshstein/Documents/thesis/code/.venv/lib/python3.11/site-packages/torch/_tensor.py:1295: UserWarning: TypedStorage is deprecated. It will be removed in the future and UntypedStorage will be the only storage class. This should only matter to you if you are using storages directly.  To access UntypedStorage directly, use tensor.untyped_storage() instead of tensor.storage()\n",
      "  ret = func(*args, **kwargs)\n",
      "/Users/joshstein/Documents/thesis/code/.venv/lib/python3.11/site-packages/monai/data/__init__.py:127: UserWarning: TypedStorage is deprecated. It will be removed in the future and UntypedStorage will be the only storage class. This should only matter to you if you are using storages directly.  To access UntypedStorage directly, use tensor.untyped_storage() instead of tensor.storage()\n",
      "  if storage.is_cuda:\n"
     ]
    },
    {
     "name": "stdout",
     "output_type": "stream",
     "text": [
      "1/16, train_loss: 0.2006\n",
      "2/16, train_loss: 0.1278\n",
      "3/16, train_loss: 0.2092\n",
      "4/16, train_loss: 0.1704\n",
      "5/16, train_loss: 0.2087\n",
      "6/16, train_loss: 0.1234\n",
      "7/16, train_loss: 0.1298\n",
      "8/16, train_loss: 0.1673\n",
      "9/16, train_loss: 0.1376\n",
      "10/16, train_loss: 0.1693\n",
      "11/16, train_loss: 0.1148\n",
      "12/16, train_loss: 0.1468\n",
      "13/16, train_loss: 0.1251\n",
      "14/16, train_loss: 0.1271\n",
      "15/16, train_loss: 0.1180\n",
      "16/16, train_loss: 0.1919\n",
      "epoch 54 average loss: 0.1542\n",
      "----------\n",
      "epoch 55/100\n"
     ]
    },
    {
     "name": "stderr",
     "output_type": "stream",
     "text": [
      "/Users/joshstein/Documents/thesis/code/.venv/lib/python3.11/site-packages/torch/_tensor.py:1295: UserWarning: TypedStorage is deprecated. It will be removed in the future and UntypedStorage will be the only storage class. This should only matter to you if you are using storages directly.  To access UntypedStorage directly, use tensor.untyped_storage() instead of tensor.storage()\n",
      "  ret = func(*args, **kwargs)\n",
      "/Users/joshstein/Documents/thesis/code/.venv/lib/python3.11/site-packages/monai/data/__init__.py:127: UserWarning: TypedStorage is deprecated. It will be removed in the future and UntypedStorage will be the only storage class. This should only matter to you if you are using storages directly.  To access UntypedStorage directly, use tensor.untyped_storage() instead of tensor.storage()\n",
      "  if storage.is_cuda:\n"
     ]
    },
    {
     "name": "stdout",
     "output_type": "stream",
     "text": [
      "1/16, train_loss: 0.1854\n",
      "2/16, train_loss: 0.1227\n",
      "3/16, train_loss: 0.1285\n",
      "4/16, train_loss: 0.1285\n",
      "5/16, train_loss: 0.1272\n",
      "6/16, train_loss: 0.1308\n",
      "7/16, train_loss: 0.1372\n",
      "8/16, train_loss: 0.1178\n",
      "9/16, train_loss: 0.1506\n",
      "10/16, train_loss: 0.1530\n",
      "11/16, train_loss: 0.1168\n",
      "12/16, train_loss: 0.1823\n",
      "13/16, train_loss: 0.1251\n",
      "14/16, train_loss: 0.2083\n",
      "15/16, train_loss: 0.1362\n",
      "16/16, train_loss: 0.1663\n",
      "epoch 55 average loss: 0.1448\n"
     ]
    },
    {
     "name": "stderr",
     "output_type": "stream",
     "text": [
      "/Users/joshstein/Documents/thesis/code/.venv/lib/python3.11/site-packages/torch/_tensor.py:1295: UserWarning: TypedStorage is deprecated. It will be removed in the future and UntypedStorage will be the only storage class. This should only matter to you if you are using storages directly.  To access UntypedStorage directly, use tensor.untyped_storage() instead of tensor.storage()\n",
      "  ret = func(*args, **kwargs)\n",
      "/Users/joshstein/Documents/thesis/code/.venv/lib/python3.11/site-packages/monai/data/__init__.py:127: UserWarning: TypedStorage is deprecated. It will be removed in the future and UntypedStorage will be the only storage class. This should only matter to you if you are using storages directly.  To access UntypedStorage directly, use tensor.untyped_storage() instead of tensor.storage()\n",
      "  if storage.is_cuda:\n"
     ]
    },
    {
     "name": "stdout",
     "output_type": "stream",
     "text": [
      "current epoch: 55 current mean dice: 0.6910\n",
      "best mean dice: 0.7159 at epoch: 45\n",
      "----------\n",
      "epoch 56/100\n"
     ]
    },
    {
     "name": "stderr",
     "output_type": "stream",
     "text": [
      "/Users/joshstein/Documents/thesis/code/.venv/lib/python3.11/site-packages/torch/_tensor.py:1295: UserWarning: TypedStorage is deprecated. It will be removed in the future and UntypedStorage will be the only storage class. This should only matter to you if you are using storages directly.  To access UntypedStorage directly, use tensor.untyped_storage() instead of tensor.storage()\n",
      "  ret = func(*args, **kwargs)\n",
      "/Users/joshstein/Documents/thesis/code/.venv/lib/python3.11/site-packages/monai/data/__init__.py:127: UserWarning: TypedStorage is deprecated. It will be removed in the future and UntypedStorage will be the only storage class. This should only matter to you if you are using storages directly.  To access UntypedStorage directly, use tensor.untyped_storage() instead of tensor.storage()\n",
      "  if storage.is_cuda:\n"
     ]
    },
    {
     "name": "stdout",
     "output_type": "stream",
     "text": [
      "1/16, train_loss: 0.1400\n",
      "2/16, train_loss: 0.1612\n",
      "3/16, train_loss: 0.1224\n",
      "4/16, train_loss: 0.1310\n",
      "5/16, train_loss: 0.1268\n",
      "6/16, train_loss: 0.1188\n",
      "7/16, train_loss: 0.1147\n",
      "8/16, train_loss: 0.2039\n",
      "9/16, train_loss: 0.1377\n",
      "10/16, train_loss: 0.1188\n",
      "11/16, train_loss: 0.1459\n",
      "12/16, train_loss: 0.1823\n",
      "13/16, train_loss: 0.1113\n",
      "14/16, train_loss: 0.1240\n",
      "15/16, train_loss: 0.1170\n",
      "16/16, train_loss: 0.1281\n",
      "epoch 56 average loss: 0.1365\n",
      "----------\n",
      "epoch 57/100\n"
     ]
    },
    {
     "name": "stderr",
     "output_type": "stream",
     "text": [
      "/Users/joshstein/Documents/thesis/code/.venv/lib/python3.11/site-packages/torch/_tensor.py:1295: UserWarning: TypedStorage is deprecated. It will be removed in the future and UntypedStorage will be the only storage class. This should only matter to you if you are using storages directly.  To access UntypedStorage directly, use tensor.untyped_storage() instead of tensor.storage()\n",
      "  ret = func(*args, **kwargs)\n",
      "/Users/joshstein/Documents/thesis/code/.venv/lib/python3.11/site-packages/monai/data/__init__.py:127: UserWarning: TypedStorage is deprecated. It will be removed in the future and UntypedStorage will be the only storage class. This should only matter to you if you are using storages directly.  To access UntypedStorage directly, use tensor.untyped_storage() instead of tensor.storage()\n",
      "  if storage.is_cuda:\n"
     ]
    },
    {
     "name": "stdout",
     "output_type": "stream",
     "text": [
      "1/16, train_loss: 0.1389\n",
      "2/16, train_loss: 0.1556\n",
      "3/16, train_loss: 0.1526\n",
      "4/16, train_loss: 0.1340\n",
      "5/16, train_loss: 0.1205\n",
      "6/16, train_loss: 0.1141\n",
      "7/16, train_loss: 0.1167\n",
      "8/16, train_loss: 0.1955\n",
      "9/16, train_loss: 0.1253\n",
      "10/16, train_loss: 0.1350\n",
      "11/16, train_loss: 0.1346\n",
      "12/16, train_loss: 0.1235\n",
      "13/16, train_loss: 0.1814\n",
      "14/16, train_loss: 0.1079\n",
      "15/16, train_loss: 0.1195\n",
      "16/16, train_loss: 0.1745\n",
      "epoch 57 average loss: 0.1394\n",
      "----------\n",
      "epoch 58/100\n"
     ]
    },
    {
     "name": "stderr",
     "output_type": "stream",
     "text": [
      "/Users/joshstein/Documents/thesis/code/.venv/lib/python3.11/site-packages/torch/_tensor.py:1295: UserWarning: TypedStorage is deprecated. It will be removed in the future and UntypedStorage will be the only storage class. This should only matter to you if you are using storages directly.  To access UntypedStorage directly, use tensor.untyped_storage() instead of tensor.storage()\n",
      "  ret = func(*args, **kwargs)\n",
      "/Users/joshstein/Documents/thesis/code/.venv/lib/python3.11/site-packages/monai/data/__init__.py:127: UserWarning: TypedStorage is deprecated. It will be removed in the future and UntypedStorage will be the only storage class. This should only matter to you if you are using storages directly.  To access UntypedStorage directly, use tensor.untyped_storage() instead of tensor.storage()\n",
      "  if storage.is_cuda:\n"
     ]
    },
    {
     "name": "stdout",
     "output_type": "stream",
     "text": [
      "1/16, train_loss: 0.1308\n",
      "2/16, train_loss: 0.1487\n",
      "3/16, train_loss: 0.1530\n",
      "4/16, train_loss: 0.1310\n",
      "5/16, train_loss: 0.1328\n",
      "6/16, train_loss: 0.1778\n",
      "7/16, train_loss: 0.1398\n",
      "8/16, train_loss: 0.1260\n",
      "9/16, train_loss: 0.1655\n",
      "10/16, train_loss: 0.1573\n",
      "11/16, train_loss: 0.1433\n",
      "12/16, train_loss: 0.1621\n",
      "13/16, train_loss: 0.1255\n",
      "14/16, train_loss: 0.1085\n",
      "15/16, train_loss: 0.1256\n",
      "16/16, train_loss: 0.2316\n",
      "epoch 58 average loss: 0.1475\n",
      "----------\n",
      "epoch 59/100\n"
     ]
    },
    {
     "name": "stderr",
     "output_type": "stream",
     "text": [
      "/Users/joshstein/Documents/thesis/code/.venv/lib/python3.11/site-packages/torch/_tensor.py:1295: UserWarning: TypedStorage is deprecated. It will be removed in the future and UntypedStorage will be the only storage class. This should only matter to you if you are using storages directly.  To access UntypedStorage directly, use tensor.untyped_storage() instead of tensor.storage()\n",
      "  ret = func(*args, **kwargs)\n",
      "/Users/joshstein/Documents/thesis/code/.venv/lib/python3.11/site-packages/monai/data/__init__.py:127: UserWarning: TypedStorage is deprecated. It will be removed in the future and UntypedStorage will be the only storage class. This should only matter to you if you are using storages directly.  To access UntypedStorage directly, use tensor.untyped_storage() instead of tensor.storage()\n",
      "  if storage.is_cuda:\n"
     ]
    },
    {
     "name": "stdout",
     "output_type": "stream",
     "text": [
      "1/16, train_loss: 0.1286\n",
      "2/16, train_loss: 0.1688\n",
      "3/16, train_loss: 0.1714\n",
      "4/16, train_loss: 0.1162\n",
      "5/16, train_loss: 0.1530\n",
      "6/16, train_loss: 0.1467\n",
      "7/16, train_loss: 0.2089\n",
      "8/16, train_loss: 0.1213\n",
      "9/16, train_loss: 0.1659\n",
      "10/16, train_loss: 0.1390\n",
      "11/16, train_loss: 0.1251\n",
      "12/16, train_loss: 0.1255\n",
      "13/16, train_loss: 0.1410\n",
      "14/16, train_loss: 0.1371\n",
      "15/16, train_loss: 0.1038\n",
      "16/16, train_loss: 0.1580\n",
      "epoch 59 average loss: 0.1444\n",
      "----------\n",
      "epoch 60/100\n"
     ]
    },
    {
     "name": "stderr",
     "output_type": "stream",
     "text": [
      "/Users/joshstein/Documents/thesis/code/.venv/lib/python3.11/site-packages/torch/_tensor.py:1295: UserWarning: TypedStorage is deprecated. It will be removed in the future and UntypedStorage will be the only storage class. This should only matter to you if you are using storages directly.  To access UntypedStorage directly, use tensor.untyped_storage() instead of tensor.storage()\n",
      "  ret = func(*args, **kwargs)\n",
      "/Users/joshstein/Documents/thesis/code/.venv/lib/python3.11/site-packages/monai/data/__init__.py:127: UserWarning: TypedStorage is deprecated. It will be removed in the future and UntypedStorage will be the only storage class. This should only matter to you if you are using storages directly.  To access UntypedStorage directly, use tensor.untyped_storage() instead of tensor.storage()\n",
      "  if storage.is_cuda:\n"
     ]
    },
    {
     "name": "stdout",
     "output_type": "stream",
     "text": [
      "1/16, train_loss: 0.1441\n",
      "2/16, train_loss: 0.1298\n",
      "3/16, train_loss: 0.1126\n",
      "4/16, train_loss: 0.1920\n",
      "5/16, train_loss: 0.1221\n",
      "6/16, train_loss: 0.1192\n",
      "7/16, train_loss: 0.1154\n",
      "8/16, train_loss: 0.1462\n",
      "9/16, train_loss: 0.1127\n",
      "10/16, train_loss: 0.1349\n",
      "11/16, train_loss: 0.1296\n",
      "12/16, train_loss: 0.1803\n",
      "13/16, train_loss: 0.1118\n",
      "14/16, train_loss: 0.1230\n",
      "15/16, train_loss: 0.1399\n",
      "16/16, train_loss: 0.2075\n",
      "epoch 60 average loss: 0.1388\n"
     ]
    },
    {
     "name": "stderr",
     "output_type": "stream",
     "text": [
      "/Users/joshstein/Documents/thesis/code/.venv/lib/python3.11/site-packages/torch/_tensor.py:1295: UserWarning: TypedStorage is deprecated. It will be removed in the future and UntypedStorage will be the only storage class. This should only matter to you if you are using storages directly.  To access UntypedStorage directly, use tensor.untyped_storage() instead of tensor.storage()\n",
      "  ret = func(*args, **kwargs)\n",
      "/Users/joshstein/Documents/thesis/code/.venv/lib/python3.11/site-packages/monai/data/__init__.py:127: UserWarning: TypedStorage is deprecated. It will be removed in the future and UntypedStorage will be the only storage class. This should only matter to you if you are using storages directly.  To access UntypedStorage directly, use tensor.untyped_storage() instead of tensor.storage()\n",
      "  if storage.is_cuda:\n"
     ]
    },
    {
     "name": "stdout",
     "output_type": "stream",
     "text": [
      "current epoch: 60 current mean dice: 0.6356\n",
      "best mean dice: 0.7159 at epoch: 45\n",
      "----------\n",
      "epoch 61/100\n"
     ]
    },
    {
     "name": "stderr",
     "output_type": "stream",
     "text": [
      "/Users/joshstein/Documents/thesis/code/.venv/lib/python3.11/site-packages/torch/_tensor.py:1295: UserWarning: TypedStorage is deprecated. It will be removed in the future and UntypedStorage will be the only storage class. This should only matter to you if you are using storages directly.  To access UntypedStorage directly, use tensor.untyped_storage() instead of tensor.storage()\n",
      "  ret = func(*args, **kwargs)\n",
      "/Users/joshstein/Documents/thesis/code/.venv/lib/python3.11/site-packages/monai/data/__init__.py:127: UserWarning: TypedStorage is deprecated. It will be removed in the future and UntypedStorage will be the only storage class. This should only matter to you if you are using storages directly.  To access UntypedStorage directly, use tensor.untyped_storage() instead of tensor.storage()\n",
      "  if storage.is_cuda:\n"
     ]
    },
    {
     "name": "stdout",
     "output_type": "stream",
     "text": [
      "1/16, train_loss: 0.1506\n",
      "2/16, train_loss: 0.1074\n",
      "3/16, train_loss: 0.1804\n",
      "4/16, train_loss: 0.1246\n",
      "5/16, train_loss: 0.1264\n",
      "6/16, train_loss: 0.2648\n",
      "7/16, train_loss: 0.1210\n",
      "8/16, train_loss: 0.1298\n",
      "9/16, train_loss: 0.1611\n",
      "10/16, train_loss: 0.1181\n",
      "11/16, train_loss: 0.1210\n",
      "12/16, train_loss: 0.1717\n",
      "13/16, train_loss: 0.1142\n",
      "14/16, train_loss: 0.1306\n",
      "15/16, train_loss: 0.2206\n",
      "16/16, train_loss: 0.1120\n",
      "epoch 61 average loss: 0.1471\n",
      "----------\n",
      "epoch 62/100\n"
     ]
    },
    {
     "name": "stderr",
     "output_type": "stream",
     "text": [
      "/Users/joshstein/Documents/thesis/code/.venv/lib/python3.11/site-packages/torch/_tensor.py:1295: UserWarning: TypedStorage is deprecated. It will be removed in the future and UntypedStorage will be the only storage class. This should only matter to you if you are using storages directly.  To access UntypedStorage directly, use tensor.untyped_storage() instead of tensor.storage()\n",
      "  ret = func(*args, **kwargs)\n",
      "/Users/joshstein/Documents/thesis/code/.venv/lib/python3.11/site-packages/monai/data/__init__.py:127: UserWarning: TypedStorage is deprecated. It will be removed in the future and UntypedStorage will be the only storage class. This should only matter to you if you are using storages directly.  To access UntypedStorage directly, use tensor.untyped_storage() instead of tensor.storage()\n",
      "  if storage.is_cuda:\n"
     ]
    },
    {
     "name": "stdout",
     "output_type": "stream",
     "text": [
      "1/16, train_loss: 0.1264\n",
      "2/16, train_loss: 0.1625\n",
      "3/16, train_loss: 0.1106\n",
      "4/16, train_loss: 0.1249\n",
      "5/16, train_loss: 0.1090\n",
      "6/16, train_loss: 0.1180\n",
      "7/16, train_loss: 0.1689\n",
      "8/16, train_loss: 0.1369\n",
      "9/16, train_loss: 0.2094\n",
      "10/16, train_loss: 0.1066\n",
      "11/16, train_loss: 0.1077\n",
      "12/16, train_loss: 0.1231\n",
      "13/16, train_loss: 0.1661\n",
      "14/16, train_loss: 0.1664\n",
      "15/16, train_loss: 0.1776\n",
      "16/16, train_loss: 0.1261\n",
      "epoch 62 average loss: 0.1400\n",
      "----------\n",
      "epoch 63/100\n"
     ]
    },
    {
     "name": "stderr",
     "output_type": "stream",
     "text": [
      "/Users/joshstein/Documents/thesis/code/.venv/lib/python3.11/site-packages/torch/_tensor.py:1295: UserWarning: TypedStorage is deprecated. It will be removed in the future and UntypedStorage will be the only storage class. This should only matter to you if you are using storages directly.  To access UntypedStorage directly, use tensor.untyped_storage() instead of tensor.storage()\n",
      "  ret = func(*args, **kwargs)\n",
      "/Users/joshstein/Documents/thesis/code/.venv/lib/python3.11/site-packages/monai/data/__init__.py:127: UserWarning: TypedStorage is deprecated. It will be removed in the future and UntypedStorage will be the only storage class. This should only matter to you if you are using storages directly.  To access UntypedStorage directly, use tensor.untyped_storage() instead of tensor.storage()\n",
      "  if storage.is_cuda:\n"
     ]
    },
    {
     "name": "stdout",
     "output_type": "stream",
     "text": [
      "1/16, train_loss: 0.1219\n",
      "2/16, train_loss: 0.1177\n",
      "3/16, train_loss: 0.1800\n",
      "4/16, train_loss: 0.1352\n",
      "5/16, train_loss: 0.1248\n",
      "6/16, train_loss: 0.1550\n",
      "7/16, train_loss: 0.1246\n",
      "8/16, train_loss: 0.2089\n",
      "9/16, train_loss: 0.1253\n",
      "10/16, train_loss: 0.1160\n",
      "11/16, train_loss: 0.1033\n",
      "12/16, train_loss: 0.1255\n",
      "13/16, train_loss: 0.1861\n",
      "14/16, train_loss: 0.1465\n",
      "15/16, train_loss: 0.1336\n",
      "16/16, train_loss: 0.2024\n",
      "epoch 63 average loss: 0.1442\n",
      "----------\n",
      "epoch 64/100\n"
     ]
    },
    {
     "name": "stderr",
     "output_type": "stream",
     "text": [
      "/Users/joshstein/Documents/thesis/code/.venv/lib/python3.11/site-packages/torch/_tensor.py:1295: UserWarning: TypedStorage is deprecated. It will be removed in the future and UntypedStorage will be the only storage class. This should only matter to you if you are using storages directly.  To access UntypedStorage directly, use tensor.untyped_storage() instead of tensor.storage()\n",
      "  ret = func(*args, **kwargs)\n",
      "/Users/joshstein/Documents/thesis/code/.venv/lib/python3.11/site-packages/monai/data/__init__.py:127: UserWarning: TypedStorage is deprecated. It will be removed in the future and UntypedStorage will be the only storage class. This should only matter to you if you are using storages directly.  To access UntypedStorage directly, use tensor.untyped_storage() instead of tensor.storage()\n",
      "  if storage.is_cuda:\n"
     ]
    },
    {
     "name": "stdout",
     "output_type": "stream",
     "text": [
      "1/16, train_loss: 0.0980\n",
      "2/16, train_loss: 0.1295\n",
      "3/16, train_loss: 0.1167\n",
      "4/16, train_loss: 0.1225\n",
      "5/16, train_loss: 0.1229\n",
      "6/16, train_loss: 0.1122\n",
      "7/16, train_loss: 0.1740\n",
      "8/16, train_loss: 0.2226\n",
      "9/16, train_loss: 0.1734\n",
      "10/16, train_loss: 0.1045\n",
      "11/16, train_loss: 0.1225\n",
      "12/16, train_loss: 0.1133\n",
      "13/16, train_loss: 0.2053\n",
      "14/16, train_loss: 0.1327\n",
      "15/16, train_loss: 0.1333\n",
      "16/16, train_loss: 0.1240\n",
      "epoch 64 average loss: 0.1380\n",
      "----------\n",
      "epoch 65/100\n"
     ]
    },
    {
     "name": "stderr",
     "output_type": "stream",
     "text": [
      "/Users/joshstein/Documents/thesis/code/.venv/lib/python3.11/site-packages/torch/_tensor.py:1295: UserWarning: TypedStorage is deprecated. It will be removed in the future and UntypedStorage will be the only storage class. This should only matter to you if you are using storages directly.  To access UntypedStorage directly, use tensor.untyped_storage() instead of tensor.storage()\n",
      "  ret = func(*args, **kwargs)\n",
      "/Users/joshstein/Documents/thesis/code/.venv/lib/python3.11/site-packages/monai/data/__init__.py:127: UserWarning: TypedStorage is deprecated. It will be removed in the future and UntypedStorage will be the only storage class. This should only matter to you if you are using storages directly.  To access UntypedStorage directly, use tensor.untyped_storage() instead of tensor.storage()\n",
      "  if storage.is_cuda:\n"
     ]
    },
    {
     "name": "stdout",
     "output_type": "stream",
     "text": [
      "1/16, train_loss: 0.1132\n",
      "2/16, train_loss: 0.1328\n",
      "3/16, train_loss: 0.1310\n",
      "4/16, train_loss: 0.1518\n",
      "5/16, train_loss: 0.1133\n",
      "6/16, train_loss: 0.1126\n",
      "7/16, train_loss: 0.1227\n",
      "8/16, train_loss: 0.1402\n",
      "9/16, train_loss: 0.1466\n",
      "10/16, train_loss: 0.1112\n",
      "11/16, train_loss: 0.1624\n",
      "12/16, train_loss: 0.1291\n",
      "13/16, train_loss: 0.1179\n",
      "14/16, train_loss: 0.2326\n",
      "15/16, train_loss: 0.1719\n",
      "16/16, train_loss: 0.1484\n",
      "epoch 65 average loss: 0.1399\n"
     ]
    },
    {
     "name": "stderr",
     "output_type": "stream",
     "text": [
      "/Users/joshstein/Documents/thesis/code/.venv/lib/python3.11/site-packages/torch/_tensor.py:1295: UserWarning: TypedStorage is deprecated. It will be removed in the future and UntypedStorage will be the only storage class. This should only matter to you if you are using storages directly.  To access UntypedStorage directly, use tensor.untyped_storage() instead of tensor.storage()\n",
      "  ret = func(*args, **kwargs)\n",
      "/Users/joshstein/Documents/thesis/code/.venv/lib/python3.11/site-packages/monai/data/__init__.py:127: UserWarning: TypedStorage is deprecated. It will be removed in the future and UntypedStorage will be the only storage class. This should only matter to you if you are using storages directly.  To access UntypedStorage directly, use tensor.untyped_storage() instead of tensor.storage()\n",
      "  if storage.is_cuda:\n"
     ]
    },
    {
     "name": "stdout",
     "output_type": "stream",
     "text": [
      "New best metric found: 0.7311919331550598\n",
      "current epoch: 65 current mean dice: 0.7312\n",
      "best mean dice: 0.7312 at epoch: 65\n",
      "----------\n",
      "epoch 66/100\n"
     ]
    },
    {
     "name": "stderr",
     "output_type": "stream",
     "text": [
      "/Users/joshstein/Documents/thesis/code/.venv/lib/python3.11/site-packages/torch/_tensor.py:1295: UserWarning: TypedStorage is deprecated. It will be removed in the future and UntypedStorage will be the only storage class. This should only matter to you if you are using storages directly.  To access UntypedStorage directly, use tensor.untyped_storage() instead of tensor.storage()\n",
      "  ret = func(*args, **kwargs)\n",
      "/Users/joshstein/Documents/thesis/code/.venv/lib/python3.11/site-packages/monai/data/__init__.py:127: UserWarning: TypedStorage is deprecated. It will be removed in the future and UntypedStorage will be the only storage class. This should only matter to you if you are using storages directly.  To access UntypedStorage directly, use tensor.untyped_storage() instead of tensor.storage()\n",
      "  if storage.is_cuda:\n"
     ]
    },
    {
     "name": "stdout",
     "output_type": "stream",
     "text": [
      "1/16, train_loss: 0.1265\n",
      "2/16, train_loss: 0.1579\n",
      "3/16, train_loss: 0.1046\n",
      "4/16, train_loss: 0.1228\n",
      "5/16, train_loss: 0.1258\n",
      "6/16, train_loss: 0.1064\n",
      "7/16, train_loss: 0.1428\n",
      "8/16, train_loss: 0.1219\n",
      "9/16, train_loss: 0.1039\n",
      "10/16, train_loss: 0.1705\n",
      "11/16, train_loss: 0.1475\n",
      "12/16, train_loss: 0.1327\n",
      "13/16, train_loss: 0.1085\n",
      "14/16, train_loss: 0.1182\n",
      "15/16, train_loss: 0.2886\n",
      "16/16, train_loss: 0.1873\n",
      "epoch 66 average loss: 0.1416\n",
      "----------\n",
      "epoch 67/100\n"
     ]
    },
    {
     "name": "stderr",
     "output_type": "stream",
     "text": [
      "/Users/joshstein/Documents/thesis/code/.venv/lib/python3.11/site-packages/torch/_tensor.py:1295: UserWarning: TypedStorage is deprecated. It will be removed in the future and UntypedStorage will be the only storage class. This should only matter to you if you are using storages directly.  To access UntypedStorage directly, use tensor.untyped_storage() instead of tensor.storage()\n",
      "  ret = func(*args, **kwargs)\n",
      "/Users/joshstein/Documents/thesis/code/.venv/lib/python3.11/site-packages/monai/data/__init__.py:127: UserWarning: TypedStorage is deprecated. It will be removed in the future and UntypedStorage will be the only storage class. This should only matter to you if you are using storages directly.  To access UntypedStorage directly, use tensor.untyped_storage() instead of tensor.storage()\n",
      "  if storage.is_cuda:\n"
     ]
    },
    {
     "name": "stdout",
     "output_type": "stream",
     "text": [
      "1/16, train_loss: 0.1374\n",
      "2/16, train_loss: 0.1672\n",
      "3/16, train_loss: 0.1182\n",
      "4/16, train_loss: 0.1549\n",
      "5/16, train_loss: 0.2097\n",
      "6/16, train_loss: 0.1137\n",
      "7/16, train_loss: 0.1840\n",
      "8/16, train_loss: 0.1314\n",
      "9/16, train_loss: 0.1305\n",
      "10/16, train_loss: 0.1261\n",
      "11/16, train_loss: 0.1911\n",
      "12/16, train_loss: 0.1593\n",
      "13/16, train_loss: 0.1203\n",
      "14/16, train_loss: 0.1208\n",
      "15/16, train_loss: 0.1398\n",
      "16/16, train_loss: 0.1730\n",
      "epoch 67 average loss: 0.1486\n",
      "----------\n",
      "epoch 68/100\n"
     ]
    },
    {
     "name": "stderr",
     "output_type": "stream",
     "text": [
      "/Users/joshstein/Documents/thesis/code/.venv/lib/python3.11/site-packages/torch/_tensor.py:1295: UserWarning: TypedStorage is deprecated. It will be removed in the future and UntypedStorage will be the only storage class. This should only matter to you if you are using storages directly.  To access UntypedStorage directly, use tensor.untyped_storage() instead of tensor.storage()\n",
      "  ret = func(*args, **kwargs)\n",
      "/Users/joshstein/Documents/thesis/code/.venv/lib/python3.11/site-packages/monai/data/__init__.py:127: UserWarning: TypedStorage is deprecated. It will be removed in the future and UntypedStorage will be the only storage class. This should only matter to you if you are using storages directly.  To access UntypedStorage directly, use tensor.untyped_storage() instead of tensor.storage()\n",
      "  if storage.is_cuda:\n"
     ]
    },
    {
     "name": "stdout",
     "output_type": "stream",
     "text": [
      "1/16, train_loss: 0.1368\n",
      "2/16, train_loss: 0.1476\n",
      "3/16, train_loss: 0.1407\n",
      "4/16, train_loss: 0.1580\n",
      "5/16, train_loss: 0.1368\n",
      "6/16, train_loss: 0.1183\n",
      "7/16, train_loss: 0.1798\n",
      "8/16, train_loss: 0.1222\n",
      "9/16, train_loss: 0.1169\n",
      "10/16, train_loss: 0.1070\n",
      "11/16, train_loss: 0.1206\n",
      "12/16, train_loss: 0.1865\n",
      "13/16, train_loss: 0.1086\n",
      "14/16, train_loss: 0.1653\n",
      "15/16, train_loss: 0.1138\n",
      "16/16, train_loss: 0.1315\n",
      "epoch 68 average loss: 0.1369\n",
      "----------\n",
      "epoch 69/100\n"
     ]
    },
    {
     "name": "stderr",
     "output_type": "stream",
     "text": [
      "/Users/joshstein/Documents/thesis/code/.venv/lib/python3.11/site-packages/torch/_tensor.py:1295: UserWarning: TypedStorage is deprecated. It will be removed in the future and UntypedStorage will be the only storage class. This should only matter to you if you are using storages directly.  To access UntypedStorage directly, use tensor.untyped_storage() instead of tensor.storage()\n",
      "  ret = func(*args, **kwargs)\n",
      "/Users/joshstein/Documents/thesis/code/.venv/lib/python3.11/site-packages/monai/data/__init__.py:127: UserWarning: TypedStorage is deprecated. It will be removed in the future and UntypedStorage will be the only storage class. This should only matter to you if you are using storages directly.  To access UntypedStorage directly, use tensor.untyped_storage() instead of tensor.storage()\n",
      "  if storage.is_cuda:\n"
     ]
    },
    {
     "name": "stdout",
     "output_type": "stream",
     "text": [
      "1/16, train_loss: 0.1437\n",
      "2/16, train_loss: 0.1270\n",
      "3/16, train_loss: 0.1259\n",
      "4/16, train_loss: 0.1334\n",
      "5/16, train_loss: 0.1011\n",
      "6/16, train_loss: 0.1230\n",
      "7/16, train_loss: 0.1650\n",
      "8/16, train_loss: 0.0978\n",
      "9/16, train_loss: 0.1712\n",
      "10/16, train_loss: 0.1262\n",
      "11/16, train_loss: 0.1203\n",
      "12/16, train_loss: 0.1446\n",
      "13/16, train_loss: 0.1247\n",
      "14/16, train_loss: 0.1885\n",
      "15/16, train_loss: 0.1043\n",
      "16/16, train_loss: 0.1302\n",
      "epoch 69 average loss: 0.1329\n",
      "----------\n",
      "epoch 70/100\n"
     ]
    },
    {
     "name": "stderr",
     "output_type": "stream",
     "text": [
      "/Users/joshstein/Documents/thesis/code/.venv/lib/python3.11/site-packages/torch/_tensor.py:1295: UserWarning: TypedStorage is deprecated. It will be removed in the future and UntypedStorage will be the only storage class. This should only matter to you if you are using storages directly.  To access UntypedStorage directly, use tensor.untyped_storage() instead of tensor.storage()\n",
      "  ret = func(*args, **kwargs)\n",
      "/Users/joshstein/Documents/thesis/code/.venv/lib/python3.11/site-packages/monai/data/__init__.py:127: UserWarning: TypedStorage is deprecated. It will be removed in the future and UntypedStorage will be the only storage class. This should only matter to you if you are using storages directly.  To access UntypedStorage directly, use tensor.untyped_storage() instead of tensor.storage()\n",
      "  if storage.is_cuda:\n"
     ]
    },
    {
     "name": "stdout",
     "output_type": "stream",
     "text": [
      "1/16, train_loss: 0.1376\n",
      "2/16, train_loss: 0.1703\n",
      "3/16, train_loss: 0.1367\n",
      "4/16, train_loss: 0.1368\n",
      "5/16, train_loss: 0.1089\n",
      "6/16, train_loss: 0.1048\n",
      "7/16, train_loss: 0.1864\n",
      "8/16, train_loss: 0.1526\n",
      "9/16, train_loss: 0.1310\n",
      "10/16, train_loss: 0.1340\n",
      "11/16, train_loss: 0.0954\n",
      "12/16, train_loss: 0.1091\n",
      "13/16, train_loss: 0.1350\n",
      "14/16, train_loss: 0.1037\n",
      "15/16, train_loss: 0.1250\n",
      "16/16, train_loss: 0.1690\n",
      "epoch 70 average loss: 0.1335\n"
     ]
    },
    {
     "name": "stderr",
     "output_type": "stream",
     "text": [
      "/Users/joshstein/Documents/thesis/code/.venv/lib/python3.11/site-packages/torch/_tensor.py:1295: UserWarning: TypedStorage is deprecated. It will be removed in the future and UntypedStorage will be the only storage class. This should only matter to you if you are using storages directly.  To access UntypedStorage directly, use tensor.untyped_storage() instead of tensor.storage()\n",
      "  ret = func(*args, **kwargs)\n",
      "/Users/joshstein/Documents/thesis/code/.venv/lib/python3.11/site-packages/monai/data/__init__.py:127: UserWarning: TypedStorage is deprecated. It will be removed in the future and UntypedStorage will be the only storage class. This should only matter to you if you are using storages directly.  To access UntypedStorage directly, use tensor.untyped_storage() instead of tensor.storage()\n",
      "  if storage.is_cuda:\n"
     ]
    },
    {
     "name": "stdout",
     "output_type": "stream",
     "text": [
      "current epoch: 70 current mean dice: 0.6595\n",
      "best mean dice: 0.7312 at epoch: 65\n",
      "----------\n",
      "epoch 71/100\n"
     ]
    },
    {
     "name": "stderr",
     "output_type": "stream",
     "text": [
      "/Users/joshstein/Documents/thesis/code/.venv/lib/python3.11/site-packages/torch/_tensor.py:1295: UserWarning: TypedStorage is deprecated. It will be removed in the future and UntypedStorage will be the only storage class. This should only matter to you if you are using storages directly.  To access UntypedStorage directly, use tensor.untyped_storage() instead of tensor.storage()\n",
      "  ret = func(*args, **kwargs)\n",
      "/Users/joshstein/Documents/thesis/code/.venv/lib/python3.11/site-packages/monai/data/__init__.py:127: UserWarning: TypedStorage is deprecated. It will be removed in the future and UntypedStorage will be the only storage class. This should only matter to you if you are using storages directly.  To access UntypedStorage directly, use tensor.untyped_storage() instead of tensor.storage()\n",
      "  if storage.is_cuda:\n"
     ]
    },
    {
     "name": "stdout",
     "output_type": "stream",
     "text": [
      "1/16, train_loss: 0.0991\n",
      "2/16, train_loss: 0.1280\n",
      "3/16, train_loss: 0.1059\n",
      "4/16, train_loss: 0.1023\n",
      "5/16, train_loss: 0.1468\n",
      "6/16, train_loss: 0.1249\n",
      "7/16, train_loss: 0.1369\n",
      "8/16, train_loss: 0.1042\n",
      "9/16, train_loss: 0.1968\n",
      "10/16, train_loss: 0.1619\n",
      "11/16, train_loss: 0.1167\n",
      "12/16, train_loss: 0.1222\n",
      "13/16, train_loss: 0.1057\n",
      "14/16, train_loss: 0.0939\n",
      "15/16, train_loss: 0.0998\n",
      "16/16, train_loss: 0.1708\n",
      "epoch 71 average loss: 0.1260\n",
      "----------\n",
      "epoch 72/100\n"
     ]
    },
    {
     "name": "stderr",
     "output_type": "stream",
     "text": [
      "/Users/joshstein/Documents/thesis/code/.venv/lib/python3.11/site-packages/torch/_tensor.py:1295: UserWarning: TypedStorage is deprecated. It will be removed in the future and UntypedStorage will be the only storage class. This should only matter to you if you are using storages directly.  To access UntypedStorage directly, use tensor.untyped_storage() instead of tensor.storage()\n",
      "  ret = func(*args, **kwargs)\n",
      "/Users/joshstein/Documents/thesis/code/.venv/lib/python3.11/site-packages/monai/data/__init__.py:127: UserWarning: TypedStorage is deprecated. It will be removed in the future and UntypedStorage will be the only storage class. This should only matter to you if you are using storages directly.  To access UntypedStorage directly, use tensor.untyped_storage() instead of tensor.storage()\n",
      "  if storage.is_cuda:\n"
     ]
    },
    {
     "name": "stdout",
     "output_type": "stream",
     "text": [
      "1/16, train_loss: 0.1025\n",
      "2/16, train_loss: 0.1451\n",
      "3/16, train_loss: 0.1235\n",
      "4/16, train_loss: 0.1733\n",
      "5/16, train_loss: 0.1041\n",
      "6/16, train_loss: 0.0957\n",
      "7/16, train_loss: 0.1290\n",
      "8/16, train_loss: 0.1046\n",
      "9/16, train_loss: 0.1222\n",
      "10/16, train_loss: 0.1192\n",
      "11/16, train_loss: 0.1081\n",
      "12/16, train_loss: 0.0999\n",
      "13/16, train_loss: 0.1902\n",
      "14/16, train_loss: 0.1306\n",
      "15/16, train_loss: 0.1441\n",
      "16/16, train_loss: 0.0859\n",
      "epoch 72 average loss: 0.1236\n",
      "----------\n",
      "epoch 73/100\n"
     ]
    },
    {
     "name": "stderr",
     "output_type": "stream",
     "text": [
      "/Users/joshstein/Documents/thesis/code/.venv/lib/python3.11/site-packages/torch/_tensor.py:1295: UserWarning: TypedStorage is deprecated. It will be removed in the future and UntypedStorage will be the only storage class. This should only matter to you if you are using storages directly.  To access UntypedStorage directly, use tensor.untyped_storage() instead of tensor.storage()\n",
      "  ret = func(*args, **kwargs)\n",
      "/Users/joshstein/Documents/thesis/code/.venv/lib/python3.11/site-packages/monai/data/__init__.py:127: UserWarning: TypedStorage is deprecated. It will be removed in the future and UntypedStorage will be the only storage class. This should only matter to you if you are using storages directly.  To access UntypedStorage directly, use tensor.untyped_storage() instead of tensor.storage()\n",
      "  if storage.is_cuda:\n"
     ]
    },
    {
     "name": "stdout",
     "output_type": "stream",
     "text": [
      "1/16, train_loss: 0.1785\n",
      "2/16, train_loss: 0.1263\n",
      "3/16, train_loss: 0.1900\n",
      "4/16, train_loss: 0.1278\n",
      "5/16, train_loss: 0.1061\n",
      "6/16, train_loss: 0.1075\n",
      "7/16, train_loss: 0.1444\n",
      "8/16, train_loss: 0.1369\n",
      "9/16, train_loss: 0.1350\n",
      "10/16, train_loss: 0.1159\n",
      "11/16, train_loss: 0.1244\n",
      "12/16, train_loss: 0.1538\n",
      "13/16, train_loss: 0.1279\n",
      "14/16, train_loss: 0.1130\n",
      "15/16, train_loss: 0.1133\n",
      "16/16, train_loss: 0.1323\n",
      "epoch 73 average loss: 0.1333\n",
      "----------\n",
      "epoch 74/100\n"
     ]
    },
    {
     "name": "stderr",
     "output_type": "stream",
     "text": [
      "/Users/joshstein/Documents/thesis/code/.venv/lib/python3.11/site-packages/torch/_tensor.py:1295: UserWarning: TypedStorage is deprecated. It will be removed in the future and UntypedStorage will be the only storage class. This should only matter to you if you are using storages directly.  To access UntypedStorage directly, use tensor.untyped_storage() instead of tensor.storage()\n",
      "  ret = func(*args, **kwargs)\n",
      "/Users/joshstein/Documents/thesis/code/.venv/lib/python3.11/site-packages/monai/data/__init__.py:127: UserWarning: TypedStorage is deprecated. It will be removed in the future and UntypedStorage will be the only storage class. This should only matter to you if you are using storages directly.  To access UntypedStorage directly, use tensor.untyped_storage() instead of tensor.storage()\n",
      "  if storage.is_cuda:\n"
     ]
    },
    {
     "name": "stdout",
     "output_type": "stream",
     "text": [
      "1/16, train_loss: 0.1134\n",
      "2/16, train_loss: 0.1200\n",
      "3/16, train_loss: 0.1093\n",
      "4/16, train_loss: 0.1178\n",
      "5/16, train_loss: 0.1078\n",
      "6/16, train_loss: 0.1589\n",
      "7/16, train_loss: 0.1294\n",
      "8/16, train_loss: 0.2081\n",
      "9/16, train_loss: 0.1155\n",
      "10/16, train_loss: 0.1052\n",
      "11/16, train_loss: 0.1071\n",
      "12/16, train_loss: 0.1181\n",
      "13/16, train_loss: 0.1411\n",
      "14/16, train_loss: 0.1536\n",
      "15/16, train_loss: 0.1121\n",
      "16/16, train_loss: 0.1532\n",
      "epoch 74 average loss: 0.1294\n",
      "----------\n",
      "epoch 75/100\n"
     ]
    },
    {
     "name": "stderr",
     "output_type": "stream",
     "text": [
      "/Users/joshstein/Documents/thesis/code/.venv/lib/python3.11/site-packages/torch/_tensor.py:1295: UserWarning: TypedStorage is deprecated. It will be removed in the future and UntypedStorage will be the only storage class. This should only matter to you if you are using storages directly.  To access UntypedStorage directly, use tensor.untyped_storage() instead of tensor.storage()\n",
      "  ret = func(*args, **kwargs)\n",
      "/Users/joshstein/Documents/thesis/code/.venv/lib/python3.11/site-packages/monai/data/__init__.py:127: UserWarning: TypedStorage is deprecated. It will be removed in the future and UntypedStorage will be the only storage class. This should only matter to you if you are using storages directly.  To access UntypedStorage directly, use tensor.untyped_storage() instead of tensor.storage()\n",
      "  if storage.is_cuda:\n"
     ]
    },
    {
     "name": "stdout",
     "output_type": "stream",
     "text": [
      "1/16, train_loss: 0.1517\n",
      "2/16, train_loss: 0.1038\n",
      "3/16, train_loss: 0.1067\n",
      "4/16, train_loss: 0.1147\n",
      "5/16, train_loss: 0.1244\n",
      "6/16, train_loss: 0.1360\n",
      "7/16, train_loss: 0.1128\n",
      "8/16, train_loss: 0.1076\n",
      "9/16, train_loss: 0.1300\n",
      "10/16, train_loss: 0.0900\n",
      "11/16, train_loss: 0.1477\n",
      "12/16, train_loss: 0.1933\n",
      "13/16, train_loss: 0.1800\n",
      "14/16, train_loss: 0.1230\n",
      "15/16, train_loss: 0.2168\n",
      "16/16, train_loss: 0.1751\n",
      "epoch 75 average loss: 0.1384\n"
     ]
    },
    {
     "name": "stderr",
     "output_type": "stream",
     "text": [
      "/Users/joshstein/Documents/thesis/code/.venv/lib/python3.11/site-packages/torch/_tensor.py:1295: UserWarning: TypedStorage is deprecated. It will be removed in the future and UntypedStorage will be the only storage class. This should only matter to you if you are using storages directly.  To access UntypedStorage directly, use tensor.untyped_storage() instead of tensor.storage()\n",
      "  ret = func(*args, **kwargs)\n",
      "/Users/joshstein/Documents/thesis/code/.venv/lib/python3.11/site-packages/monai/data/__init__.py:127: UserWarning: TypedStorage is deprecated. It will be removed in the future and UntypedStorage will be the only storage class. This should only matter to you if you are using storages directly.  To access UntypedStorage directly, use tensor.untyped_storage() instead of tensor.storage()\n",
      "  if storage.is_cuda:\n"
     ]
    },
    {
     "name": "stdout",
     "output_type": "stream",
     "text": [
      "current epoch: 75 current mean dice: 0.7179\n",
      "best mean dice: 0.7312 at epoch: 65\n",
      "----------\n",
      "epoch 76/100\n"
     ]
    },
    {
     "name": "stderr",
     "output_type": "stream",
     "text": [
      "/Users/joshstein/Documents/thesis/code/.venv/lib/python3.11/site-packages/torch/_tensor.py:1295: UserWarning: TypedStorage is deprecated. It will be removed in the future and UntypedStorage will be the only storage class. This should only matter to you if you are using storages directly.  To access UntypedStorage directly, use tensor.untyped_storage() instead of tensor.storage()\n",
      "  ret = func(*args, **kwargs)\n",
      "/Users/joshstein/Documents/thesis/code/.venv/lib/python3.11/site-packages/monai/data/__init__.py:127: UserWarning: TypedStorage is deprecated. It will be removed in the future and UntypedStorage will be the only storage class. This should only matter to you if you are using storages directly.  To access UntypedStorage directly, use tensor.untyped_storage() instead of tensor.storage()\n",
      "  if storage.is_cuda:\n"
     ]
    },
    {
     "name": "stdout",
     "output_type": "stream",
     "text": [
      "1/16, train_loss: 0.1306\n",
      "2/16, train_loss: 0.0963\n",
      "3/16, train_loss: 0.1194\n",
      "4/16, train_loss: 0.1760\n",
      "5/16, train_loss: 0.1600\n",
      "6/16, train_loss: 0.1331\n",
      "7/16, train_loss: 0.1155\n",
      "8/16, train_loss: 0.1293\n",
      "9/16, train_loss: 0.1173\n",
      "10/16, train_loss: 0.1377\n",
      "11/16, train_loss: 0.1073\n",
      "12/16, train_loss: 0.1996\n",
      "13/16, train_loss: 0.1281\n",
      "14/16, train_loss: 0.1108\n",
      "15/16, train_loss: 0.1475\n",
      "16/16, train_loss: 0.0978\n",
      "epoch 76 average loss: 0.1316\n",
      "----------\n",
      "epoch 77/100\n"
     ]
    },
    {
     "name": "stderr",
     "output_type": "stream",
     "text": [
      "/Users/joshstein/Documents/thesis/code/.venv/lib/python3.11/site-packages/torch/_tensor.py:1295: UserWarning: TypedStorage is deprecated. It will be removed in the future and UntypedStorage will be the only storage class. This should only matter to you if you are using storages directly.  To access UntypedStorage directly, use tensor.untyped_storage() instead of tensor.storage()\n",
      "  ret = func(*args, **kwargs)\n",
      "/Users/joshstein/Documents/thesis/code/.venv/lib/python3.11/site-packages/monai/data/__init__.py:127: UserWarning: TypedStorage is deprecated. It will be removed in the future and UntypedStorage will be the only storage class. This should only matter to you if you are using storages directly.  To access UntypedStorage directly, use tensor.untyped_storage() instead of tensor.storage()\n",
      "  if storage.is_cuda:\n"
     ]
    },
    {
     "name": "stdout",
     "output_type": "stream",
     "text": [
      "1/16, train_loss: 0.1458\n",
      "2/16, train_loss: 0.1383\n",
      "3/16, train_loss: 0.1165\n",
      "4/16, train_loss: 0.0975\n",
      "5/16, train_loss: 0.1102\n",
      "6/16, train_loss: 0.1398\n",
      "7/16, train_loss: 0.1090\n",
      "8/16, train_loss: 0.4562\n",
      "9/16, train_loss: 0.1979\n",
      "10/16, train_loss: 0.1173\n",
      "11/16, train_loss: 0.1193\n",
      "12/16, train_loss: 0.1618\n",
      "13/16, train_loss: 0.1357\n",
      "14/16, train_loss: 0.1215\n",
      "15/16, train_loss: 0.2398\n",
      "16/16, train_loss: 0.1140\n",
      "epoch 77 average loss: 0.1575\n",
      "----------\n",
      "epoch 78/100\n"
     ]
    },
    {
     "name": "stderr",
     "output_type": "stream",
     "text": [
      "/Users/joshstein/Documents/thesis/code/.venv/lib/python3.11/site-packages/torch/_tensor.py:1295: UserWarning: TypedStorage is deprecated. It will be removed in the future and UntypedStorage will be the only storage class. This should only matter to you if you are using storages directly.  To access UntypedStorage directly, use tensor.untyped_storage() instead of tensor.storage()\n",
      "  ret = func(*args, **kwargs)\n",
      "/Users/joshstein/Documents/thesis/code/.venv/lib/python3.11/site-packages/monai/data/__init__.py:127: UserWarning: TypedStorage is deprecated. It will be removed in the future and UntypedStorage will be the only storage class. This should only matter to you if you are using storages directly.  To access UntypedStorage directly, use tensor.untyped_storage() instead of tensor.storage()\n",
      "  if storage.is_cuda:\n"
     ]
    },
    {
     "name": "stdout",
     "output_type": "stream",
     "text": [
      "1/16, train_loss: 0.4156\n",
      "2/16, train_loss: 0.1387\n",
      "3/16, train_loss: 0.1215\n",
      "4/16, train_loss: 0.2604\n",
      "5/16, train_loss: 0.1587\n",
      "6/16, train_loss: 0.1543\n",
      "7/16, train_loss: 0.1976\n",
      "8/16, train_loss: 0.1865\n",
      "9/16, train_loss: 0.1889\n",
      "10/16, train_loss: 0.1751\n",
      "11/16, train_loss: 0.1595\n",
      "12/16, train_loss: 0.1142\n",
      "13/16, train_loss: 0.1365\n",
      "14/16, train_loss: 0.1711\n",
      "15/16, train_loss: 0.1288\n",
      "16/16, train_loss: 0.1308\n",
      "epoch 78 average loss: 0.1774\n",
      "----------\n",
      "epoch 79/100\n"
     ]
    },
    {
     "name": "stderr",
     "output_type": "stream",
     "text": [
      "/Users/joshstein/Documents/thesis/code/.venv/lib/python3.11/site-packages/torch/_tensor.py:1295: UserWarning: TypedStorage is deprecated. It will be removed in the future and UntypedStorage will be the only storage class. This should only matter to you if you are using storages directly.  To access UntypedStorage directly, use tensor.untyped_storage() instead of tensor.storage()\n",
      "  ret = func(*args, **kwargs)\n",
      "/Users/joshstein/Documents/thesis/code/.venv/lib/python3.11/site-packages/monai/data/__init__.py:127: UserWarning: TypedStorage is deprecated. It will be removed in the future and UntypedStorage will be the only storage class. This should only matter to you if you are using storages directly.  To access UntypedStorage directly, use tensor.untyped_storage() instead of tensor.storage()\n",
      "  if storage.is_cuda:\n"
     ]
    },
    {
     "name": "stdout",
     "output_type": "stream",
     "text": [
      "1/16, train_loss: 0.1492\n",
      "2/16, train_loss: 0.1745\n",
      "3/16, train_loss: 0.1215\n",
      "4/16, train_loss: 0.2266\n",
      "5/16, train_loss: 0.1151\n",
      "6/16, train_loss: 0.2403\n",
      "7/16, train_loss: 0.1533\n",
      "8/16, train_loss: 0.1149\n",
      "9/16, train_loss: 0.1126\n",
      "10/16, train_loss: 0.1531\n",
      "11/16, train_loss: 0.1598\n",
      "12/16, train_loss: 0.1286\n",
      "13/16, train_loss: 0.1597\n",
      "14/16, train_loss: 0.1486\n",
      "15/16, train_loss: 0.1202\n",
      "16/16, train_loss: 0.1332\n",
      "epoch 79 average loss: 0.1507\n",
      "----------\n",
      "epoch 80/100\n"
     ]
    },
    {
     "name": "stderr",
     "output_type": "stream",
     "text": [
      "/Users/joshstein/Documents/thesis/code/.venv/lib/python3.11/site-packages/torch/_tensor.py:1295: UserWarning: TypedStorage is deprecated. It will be removed in the future and UntypedStorage will be the only storage class. This should only matter to you if you are using storages directly.  To access UntypedStorage directly, use tensor.untyped_storage() instead of tensor.storage()\n",
      "  ret = func(*args, **kwargs)\n",
      "/Users/joshstein/Documents/thesis/code/.venv/lib/python3.11/site-packages/monai/data/__init__.py:127: UserWarning: TypedStorage is deprecated. It will be removed in the future and UntypedStorage will be the only storage class. This should only matter to you if you are using storages directly.  To access UntypedStorage directly, use tensor.untyped_storage() instead of tensor.storage()\n",
      "  if storage.is_cuda:\n"
     ]
    },
    {
     "name": "stdout",
     "output_type": "stream",
     "text": [
      "1/16, train_loss: 0.1216\n",
      "2/16, train_loss: 0.1461\n",
      "3/16, train_loss: 0.1569\n",
      "4/16, train_loss: 0.1547\n",
      "5/16, train_loss: 0.1186\n",
      "6/16, train_loss: 0.1408\n",
      "7/16, train_loss: 0.1195\n",
      "8/16, train_loss: 0.1167\n",
      "9/16, train_loss: 0.1285\n",
      "10/16, train_loss: 0.1017\n",
      "11/16, train_loss: 0.1122\n",
      "12/16, train_loss: 0.1473\n",
      "13/16, train_loss: 0.1195\n",
      "14/16, train_loss: 0.1099\n",
      "15/16, train_loss: 0.2131\n",
      "16/16, train_loss: 0.1780\n",
      "epoch 80 average loss: 0.1366\n"
     ]
    },
    {
     "name": "stderr",
     "output_type": "stream",
     "text": [
      "/Users/joshstein/Documents/thesis/code/.venv/lib/python3.11/site-packages/torch/_tensor.py:1295: UserWarning: TypedStorage is deprecated. It will be removed in the future and UntypedStorage will be the only storage class. This should only matter to you if you are using storages directly.  To access UntypedStorage directly, use tensor.untyped_storage() instead of tensor.storage()\n",
      "  ret = func(*args, **kwargs)\n",
      "/Users/joshstein/Documents/thesis/code/.venv/lib/python3.11/site-packages/monai/data/__init__.py:127: UserWarning: TypedStorage is deprecated. It will be removed in the future and UntypedStorage will be the only storage class. This should only matter to you if you are using storages directly.  To access UntypedStorage directly, use tensor.untyped_storage() instead of tensor.storage()\n",
      "  if storage.is_cuda:\n"
     ]
    },
    {
     "name": "stdout",
     "output_type": "stream",
     "text": [
      "current epoch: 80 current mean dice: 0.6066\n",
      "best mean dice: 0.7312 at epoch: 65\n",
      "----------\n",
      "epoch 81/100\n"
     ]
    },
    {
     "name": "stderr",
     "output_type": "stream",
     "text": [
      "/Users/joshstein/Documents/thesis/code/.venv/lib/python3.11/site-packages/torch/_tensor.py:1295: UserWarning: TypedStorage is deprecated. It will be removed in the future and UntypedStorage will be the only storage class. This should only matter to you if you are using storages directly.  To access UntypedStorage directly, use tensor.untyped_storage() instead of tensor.storage()\n",
      "  ret = func(*args, **kwargs)\n",
      "/Users/joshstein/Documents/thesis/code/.venv/lib/python3.11/site-packages/monai/data/__init__.py:127: UserWarning: TypedStorage is deprecated. It will be removed in the future and UntypedStorage will be the only storage class. This should only matter to you if you are using storages directly.  To access UntypedStorage directly, use tensor.untyped_storage() instead of tensor.storage()\n",
      "  if storage.is_cuda:\n"
     ]
    },
    {
     "name": "stdout",
     "output_type": "stream",
     "text": [
      "1/16, train_loss: 0.1703\n",
      "2/16, train_loss: 0.1315\n",
      "3/16, train_loss: 0.1409\n",
      "4/16, train_loss: 0.1525\n",
      "5/16, train_loss: 0.1138\n",
      "6/16, train_loss: 0.1034\n",
      "7/16, train_loss: 0.2278\n",
      "8/16, train_loss: 0.1308\n",
      "9/16, train_loss: 0.1085\n",
      "10/16, train_loss: 0.1650\n",
      "11/16, train_loss: 0.1014\n",
      "12/16, train_loss: 0.1132\n",
      "13/16, train_loss: 0.1622\n",
      "14/16, train_loss: 0.1613\n",
      "15/16, train_loss: 0.1158\n",
      "16/16, train_loss: 0.1362\n",
      "epoch 81 average loss: 0.1397\n",
      "----------\n",
      "epoch 82/100\n"
     ]
    },
    {
     "name": "stderr",
     "output_type": "stream",
     "text": [
      "/Users/joshstein/Documents/thesis/code/.venv/lib/python3.11/site-packages/torch/_tensor.py:1295: UserWarning: TypedStorage is deprecated. It will be removed in the future and UntypedStorage will be the only storage class. This should only matter to you if you are using storages directly.  To access UntypedStorage directly, use tensor.untyped_storage() instead of tensor.storage()\n",
      "  ret = func(*args, **kwargs)\n",
      "/Users/joshstein/Documents/thesis/code/.venv/lib/python3.11/site-packages/monai/data/__init__.py:127: UserWarning: TypedStorage is deprecated. It will be removed in the future and UntypedStorage will be the only storage class. This should only matter to you if you are using storages directly.  To access UntypedStorage directly, use tensor.untyped_storage() instead of tensor.storage()\n",
      "  if storage.is_cuda:\n"
     ]
    },
    {
     "name": "stdout",
     "output_type": "stream",
     "text": [
      "1/16, train_loss: 0.1066\n",
      "2/16, train_loss: 0.1060\n",
      "3/16, train_loss: 0.1413\n",
      "4/16, train_loss: 0.1315\n",
      "5/16, train_loss: 0.1638\n",
      "6/16, train_loss: 0.1304\n",
      "7/16, train_loss: 0.1330\n",
      "8/16, train_loss: 0.1581\n",
      "9/16, train_loss: 0.1083\n",
      "10/16, train_loss: 0.1811\n",
      "11/16, train_loss: 0.2146\n",
      "12/16, train_loss: 0.1066\n",
      "13/16, train_loss: 0.1364\n",
      "14/16, train_loss: 0.1567\n",
      "15/16, train_loss: 0.1463\n",
      "16/16, train_loss: 0.1255\n",
      "epoch 82 average loss: 0.1404\n",
      "----------\n",
      "epoch 83/100\n"
     ]
    },
    {
     "name": "stderr",
     "output_type": "stream",
     "text": [
      "/Users/joshstein/Documents/thesis/code/.venv/lib/python3.11/site-packages/torch/_tensor.py:1295: UserWarning: TypedStorage is deprecated. It will be removed in the future and UntypedStorage will be the only storage class. This should only matter to you if you are using storages directly.  To access UntypedStorage directly, use tensor.untyped_storage() instead of tensor.storage()\n",
      "  ret = func(*args, **kwargs)\n",
      "/Users/joshstein/Documents/thesis/code/.venv/lib/python3.11/site-packages/monai/data/__init__.py:127: UserWarning: TypedStorage is deprecated. It will be removed in the future and UntypedStorage will be the only storage class. This should only matter to you if you are using storages directly.  To access UntypedStorage directly, use tensor.untyped_storage() instead of tensor.storage()\n",
      "  if storage.is_cuda:\n"
     ]
    },
    {
     "name": "stdout",
     "output_type": "stream",
     "text": [
      "1/16, train_loss: 0.1275\n",
      "2/16, train_loss: 0.1097\n",
      "3/16, train_loss: 0.1577\n",
      "4/16, train_loss: 0.1950\n",
      "5/16, train_loss: 0.1267\n",
      "6/16, train_loss: 0.1806\n",
      "7/16, train_loss: 0.1443\n",
      "8/16, train_loss: 0.1108\n",
      "9/16, train_loss: 0.1058\n",
      "10/16, train_loss: 0.1341\n",
      "11/16, train_loss: 0.1031\n",
      "12/16, train_loss: 0.1951\n",
      "13/16, train_loss: 0.1266\n",
      "14/16, train_loss: 0.1318\n",
      "15/16, train_loss: 0.1071\n",
      "16/16, train_loss: 0.1373\n",
      "epoch 83 average loss: 0.1371\n",
      "----------\n",
      "epoch 84/100\n"
     ]
    },
    {
     "name": "stderr",
     "output_type": "stream",
     "text": [
      "/Users/joshstein/Documents/thesis/code/.venv/lib/python3.11/site-packages/torch/_tensor.py:1295: UserWarning: TypedStorage is deprecated. It will be removed in the future and UntypedStorage will be the only storage class. This should only matter to you if you are using storages directly.  To access UntypedStorage directly, use tensor.untyped_storage() instead of tensor.storage()\n",
      "  ret = func(*args, **kwargs)\n",
      "/Users/joshstein/Documents/thesis/code/.venv/lib/python3.11/site-packages/monai/data/__init__.py:127: UserWarning: TypedStorage is deprecated. It will be removed in the future and UntypedStorage will be the only storage class. This should only matter to you if you are using storages directly.  To access UntypedStorage directly, use tensor.untyped_storage() instead of tensor.storage()\n",
      "  if storage.is_cuda:\n"
     ]
    },
    {
     "name": "stdout",
     "output_type": "stream",
     "text": [
      "1/16, train_loss: 0.1355\n",
      "2/16, train_loss: 0.1172\n",
      "3/16, train_loss: 0.2163\n",
      "4/16, train_loss: 0.1523\n",
      "5/16, train_loss: 0.1613\n",
      "6/16, train_loss: 0.1398\n",
      "7/16, train_loss: 0.2073\n",
      "8/16, train_loss: 0.1164\n",
      "9/16, train_loss: 0.1661\n",
      "10/16, train_loss: 0.1063\n",
      "11/16, train_loss: 0.1157\n",
      "12/16, train_loss: 0.1272\n",
      "13/16, train_loss: 0.1941\n",
      "14/16, train_loss: 0.1043\n",
      "15/16, train_loss: 0.1998\n",
      "16/16, train_loss: 0.1089\n",
      "epoch 84 average loss: 0.1480\n",
      "----------\n",
      "epoch 85/100\n"
     ]
    },
    {
     "name": "stderr",
     "output_type": "stream",
     "text": [
      "/Users/joshstein/Documents/thesis/code/.venv/lib/python3.11/site-packages/torch/_tensor.py:1295: UserWarning: TypedStorage is deprecated. It will be removed in the future and UntypedStorage will be the only storage class. This should only matter to you if you are using storages directly.  To access UntypedStorage directly, use tensor.untyped_storage() instead of tensor.storage()\n",
      "  ret = func(*args, **kwargs)\n",
      "/Users/joshstein/Documents/thesis/code/.venv/lib/python3.11/site-packages/monai/data/__init__.py:127: UserWarning: TypedStorage is deprecated. It will be removed in the future and UntypedStorage will be the only storage class. This should only matter to you if you are using storages directly.  To access UntypedStorage directly, use tensor.untyped_storage() instead of tensor.storage()\n",
      "  if storage.is_cuda:\n"
     ]
    },
    {
     "name": "stdout",
     "output_type": "stream",
     "text": [
      "1/16, train_loss: 0.1096\n",
      "2/16, train_loss: 0.1483\n",
      "3/16, train_loss: 0.1260\n",
      "4/16, train_loss: 0.1035\n",
      "5/16, train_loss: 0.1571\n",
      "6/16, train_loss: 0.1162\n",
      "7/16, train_loss: 0.1661\n",
      "8/16, train_loss: 0.1994\n",
      "9/16, train_loss: 0.1062\n",
      "10/16, train_loss: 0.1234\n",
      "11/16, train_loss: 0.1131\n",
      "12/16, train_loss: 0.1608\n",
      "13/16, train_loss: 0.1509\n",
      "14/16, train_loss: 0.1401\n",
      "15/16, train_loss: 0.1084\n",
      "16/16, train_loss: 0.0988\n",
      "epoch 85 average loss: 0.1330\n"
     ]
    },
    {
     "name": "stderr",
     "output_type": "stream",
     "text": [
      "/Users/joshstein/Documents/thesis/code/.venv/lib/python3.11/site-packages/torch/_tensor.py:1295: UserWarning: TypedStorage is deprecated. It will be removed in the future and UntypedStorage will be the only storage class. This should only matter to you if you are using storages directly.  To access UntypedStorage directly, use tensor.untyped_storage() instead of tensor.storage()\n",
      "  ret = func(*args, **kwargs)\n",
      "/Users/joshstein/Documents/thesis/code/.venv/lib/python3.11/site-packages/monai/data/__init__.py:127: UserWarning: TypedStorage is deprecated. It will be removed in the future and UntypedStorage will be the only storage class. This should only matter to you if you are using storages directly.  To access UntypedStorage directly, use tensor.untyped_storage() instead of tensor.storage()\n",
      "  if storage.is_cuda:\n"
     ]
    },
    {
     "name": "stdout",
     "output_type": "stream",
     "text": [
      "current epoch: 85 current mean dice: 0.7008\n",
      "best mean dice: 0.7312 at epoch: 65\n",
      "----------\n",
      "epoch 86/100\n"
     ]
    },
    {
     "name": "stderr",
     "output_type": "stream",
     "text": [
      "/Users/joshstein/Documents/thesis/code/.venv/lib/python3.11/site-packages/torch/_tensor.py:1295: UserWarning: TypedStorage is deprecated. It will be removed in the future and UntypedStorage will be the only storage class. This should only matter to you if you are using storages directly.  To access UntypedStorage directly, use tensor.untyped_storage() instead of tensor.storage()\n",
      "  ret = func(*args, **kwargs)\n",
      "/Users/joshstein/Documents/thesis/code/.venv/lib/python3.11/site-packages/monai/data/__init__.py:127: UserWarning: TypedStorage is deprecated. It will be removed in the future and UntypedStorage will be the only storage class. This should only matter to you if you are using storages directly.  To access UntypedStorage directly, use tensor.untyped_storage() instead of tensor.storage()\n",
      "  if storage.is_cuda:\n"
     ]
    },
    {
     "name": "stdout",
     "output_type": "stream",
     "text": [
      "1/16, train_loss: 0.0997\n",
      "2/16, train_loss: 0.1289\n",
      "3/16, train_loss: 0.1010\n",
      "4/16, train_loss: 0.1432\n",
      "5/16, train_loss: 0.1587\n",
      "6/16, train_loss: 0.1011\n",
      "7/16, train_loss: 0.1551\n",
      "8/16, train_loss: 0.1083\n",
      "9/16, train_loss: 0.1085\n",
      "10/16, train_loss: 0.1157\n",
      "11/16, train_loss: 0.1368\n",
      "12/16, train_loss: 0.1387\n",
      "13/16, train_loss: 0.1074\n",
      "14/16, train_loss: 0.1739\n",
      "15/16, train_loss: 0.1101\n",
      "16/16, train_loss: 0.1804\n",
      "epoch 86 average loss: 0.1292\n",
      "----------\n",
      "epoch 87/100\n"
     ]
    },
    {
     "name": "stderr",
     "output_type": "stream",
     "text": [
      "/Users/joshstein/Documents/thesis/code/.venv/lib/python3.11/site-packages/torch/_tensor.py:1295: UserWarning: TypedStorage is deprecated. It will be removed in the future and UntypedStorage will be the only storage class. This should only matter to you if you are using storages directly.  To access UntypedStorage directly, use tensor.untyped_storage() instead of tensor.storage()\n",
      "  ret = func(*args, **kwargs)\n",
      "/Users/joshstein/Documents/thesis/code/.venv/lib/python3.11/site-packages/monai/data/__init__.py:127: UserWarning: TypedStorage is deprecated. It will be removed in the future and UntypedStorage will be the only storage class. This should only matter to you if you are using storages directly.  To access UntypedStorage directly, use tensor.untyped_storage() instead of tensor.storage()\n",
      "  if storage.is_cuda:\n"
     ]
    },
    {
     "name": "stdout",
     "output_type": "stream",
     "text": [
      "1/16, train_loss: 0.1172\n",
      "2/16, train_loss: 0.1023\n",
      "3/16, train_loss: 0.1657\n",
      "4/16, train_loss: 0.1365\n",
      "5/16, train_loss: 0.1413\n",
      "6/16, train_loss: 0.1283\n",
      "7/16, train_loss: 0.1008\n",
      "8/16, train_loss: 0.1439\n",
      "9/16, train_loss: 0.0939\n",
      "10/16, train_loss: 0.1104\n",
      "11/16, train_loss: 0.1101\n",
      "12/16, train_loss: 0.1398\n",
      "13/16, train_loss: 0.1334\n",
      "14/16, train_loss: 0.1009\n",
      "15/16, train_loss: 0.0995\n",
      "16/16, train_loss: 0.1304\n",
      "epoch 87 average loss: 0.1221\n",
      "----------\n",
      "epoch 88/100\n"
     ]
    },
    {
     "name": "stderr",
     "output_type": "stream",
     "text": [
      "/Users/joshstein/Documents/thesis/code/.venv/lib/python3.11/site-packages/torch/_tensor.py:1295: UserWarning: TypedStorage is deprecated. It will be removed in the future and UntypedStorage will be the only storage class. This should only matter to you if you are using storages directly.  To access UntypedStorage directly, use tensor.untyped_storage() instead of tensor.storage()\n",
      "  ret = func(*args, **kwargs)\n",
      "/Users/joshstein/Documents/thesis/code/.venv/lib/python3.11/site-packages/monai/data/__init__.py:127: UserWarning: TypedStorage is deprecated. It will be removed in the future and UntypedStorage will be the only storage class. This should only matter to you if you are using storages directly.  To access UntypedStorage directly, use tensor.untyped_storage() instead of tensor.storage()\n",
      "  if storage.is_cuda:\n"
     ]
    },
    {
     "name": "stdout",
     "output_type": "stream",
     "text": [
      "1/16, train_loss: 0.0901\n",
      "2/16, train_loss: 0.1020\n",
      "3/16, train_loss: 0.1175\n",
      "4/16, train_loss: 0.1106\n",
      "5/16, train_loss: 0.1592\n",
      "6/16, train_loss: 0.1813\n",
      "7/16, train_loss: 0.0978\n",
      "8/16, train_loss: 0.1337\n",
      "9/16, train_loss: 0.1087\n",
      "10/16, train_loss: 0.1070\n",
      "11/16, train_loss: 0.1327\n",
      "12/16, train_loss: 0.1553\n",
      "13/16, train_loss: 0.1281\n",
      "14/16, train_loss: 0.1119\n",
      "15/16, train_loss: 0.0910\n",
      "16/16, train_loss: 0.1530\n",
      "epoch 88 average loss: 0.1238\n",
      "----------\n",
      "epoch 89/100\n"
     ]
    },
    {
     "name": "stderr",
     "output_type": "stream",
     "text": [
      "/Users/joshstein/Documents/thesis/code/.venv/lib/python3.11/site-packages/torch/_tensor.py:1295: UserWarning: TypedStorage is deprecated. It will be removed in the future and UntypedStorage will be the only storage class. This should only matter to you if you are using storages directly.  To access UntypedStorage directly, use tensor.untyped_storage() instead of tensor.storage()\n",
      "  ret = func(*args, **kwargs)\n",
      "/Users/joshstein/Documents/thesis/code/.venv/lib/python3.11/site-packages/monai/data/__init__.py:127: UserWarning: TypedStorage is deprecated. It will be removed in the future and UntypedStorage will be the only storage class. This should only matter to you if you are using storages directly.  To access UntypedStorage directly, use tensor.untyped_storage() instead of tensor.storage()\n",
      "  if storage.is_cuda:\n"
     ]
    },
    {
     "name": "stdout",
     "output_type": "stream",
     "text": [
      "1/16, train_loss: 0.0986\n",
      "2/16, train_loss: 0.0975\n",
      "3/16, train_loss: 0.1299\n",
      "4/16, train_loss: 0.1441\n",
      "5/16, train_loss: 0.1086\n",
      "6/16, train_loss: 0.1603\n",
      "7/16, train_loss: 0.1041\n",
      "8/16, train_loss: 0.1050\n",
      "9/16, train_loss: 0.1318\n",
      "10/16, train_loss: 0.0951\n",
      "11/16, train_loss: 0.1280\n",
      "12/16, train_loss: 0.1391\n",
      "13/16, train_loss: 0.1418\n",
      "14/16, train_loss: 0.1285\n",
      "15/16, train_loss: 0.1001\n",
      "16/16, train_loss: 0.1176\n",
      "epoch 89 average loss: 0.1206\n",
      "----------\n",
      "epoch 90/100\n"
     ]
    },
    {
     "name": "stderr",
     "output_type": "stream",
     "text": [
      "/Users/joshstein/Documents/thesis/code/.venv/lib/python3.11/site-packages/torch/_tensor.py:1295: UserWarning: TypedStorage is deprecated. It will be removed in the future and UntypedStorage will be the only storage class. This should only matter to you if you are using storages directly.  To access UntypedStorage directly, use tensor.untyped_storage() instead of tensor.storage()\n",
      "  ret = func(*args, **kwargs)\n",
      "/Users/joshstein/Documents/thesis/code/.venv/lib/python3.11/site-packages/monai/data/__init__.py:127: UserWarning: TypedStorage is deprecated. It will be removed in the future and UntypedStorage will be the only storage class. This should only matter to you if you are using storages directly.  To access UntypedStorage directly, use tensor.untyped_storage() instead of tensor.storage()\n",
      "  if storage.is_cuda:\n"
     ]
    },
    {
     "name": "stdout",
     "output_type": "stream",
     "text": [
      "1/16, train_loss: 0.1248\n",
      "2/16, train_loss: 0.0991\n",
      "3/16, train_loss: 0.1113\n",
      "4/16, train_loss: 0.1162\n",
      "5/16, train_loss: 0.1283\n",
      "6/16, train_loss: 0.2140\n",
      "7/16, train_loss: 0.1686\n",
      "8/16, train_loss: 0.1528\n",
      "9/16, train_loss: 0.1248\n",
      "10/16, train_loss: 0.1112\n",
      "11/16, train_loss: 0.1252\n",
      "12/16, train_loss: 0.1647\n",
      "13/16, train_loss: 0.1070\n",
      "14/16, train_loss: 0.1095\n",
      "15/16, train_loss: 0.1188\n",
      "16/16, train_loss: 0.1117\n",
      "epoch 90 average loss: 0.1305\n"
     ]
    },
    {
     "name": "stderr",
     "output_type": "stream",
     "text": [
      "/Users/joshstein/Documents/thesis/code/.venv/lib/python3.11/site-packages/torch/_tensor.py:1295: UserWarning: TypedStorage is deprecated. It will be removed in the future and UntypedStorage will be the only storage class. This should only matter to you if you are using storages directly.  To access UntypedStorage directly, use tensor.untyped_storage() instead of tensor.storage()\n",
      "  ret = func(*args, **kwargs)\n",
      "/Users/joshstein/Documents/thesis/code/.venv/lib/python3.11/site-packages/monai/data/__init__.py:127: UserWarning: TypedStorage is deprecated. It will be removed in the future and UntypedStorage will be the only storage class. This should only matter to you if you are using storages directly.  To access UntypedStorage directly, use tensor.untyped_storage() instead of tensor.storage()\n",
      "  if storage.is_cuda:\n"
     ]
    },
    {
     "name": "stdout",
     "output_type": "stream",
     "text": [
      "current epoch: 90 current mean dice: 0.6362\n",
      "best mean dice: 0.7312 at epoch: 65\n",
      "----------\n",
      "epoch 91/100\n"
     ]
    },
    {
     "name": "stderr",
     "output_type": "stream",
     "text": [
      "/Users/joshstein/Documents/thesis/code/.venv/lib/python3.11/site-packages/torch/_tensor.py:1295: UserWarning: TypedStorage is deprecated. It will be removed in the future and UntypedStorage will be the only storage class. This should only matter to you if you are using storages directly.  To access UntypedStorage directly, use tensor.untyped_storage() instead of tensor.storage()\n",
      "  ret = func(*args, **kwargs)\n",
      "/Users/joshstein/Documents/thesis/code/.venv/lib/python3.11/site-packages/monai/data/__init__.py:127: UserWarning: TypedStorage is deprecated. It will be removed in the future and UntypedStorage will be the only storage class. This should only matter to you if you are using storages directly.  To access UntypedStorage directly, use tensor.untyped_storage() instead of tensor.storage()\n",
      "  if storage.is_cuda:\n"
     ]
    },
    {
     "name": "stdout",
     "output_type": "stream",
     "text": [
      "1/16, train_loss: 0.1213\n",
      "2/16, train_loss: 0.0974\n",
      "3/16, train_loss: 0.1285\n",
      "4/16, train_loss: 0.1140\n",
      "5/16, train_loss: 0.1289\n",
      "6/16, train_loss: 0.1642\n",
      "7/16, train_loss: 0.1182\n",
      "8/16, train_loss: 0.1424\n",
      "9/16, train_loss: 0.1328\n",
      "10/16, train_loss: 0.1093\n",
      "11/16, train_loss: 0.1199\n",
      "12/16, train_loss: 0.0993\n",
      "13/16, train_loss: 0.1362\n",
      "14/16, train_loss: 0.1675\n",
      "15/16, train_loss: 0.1042\n",
      "16/16, train_loss: 0.1424\n",
      "epoch 91 average loss: 0.1267\n",
      "----------\n",
      "epoch 92/100\n"
     ]
    },
    {
     "name": "stderr",
     "output_type": "stream",
     "text": [
      "/Users/joshstein/Documents/thesis/code/.venv/lib/python3.11/site-packages/torch/_tensor.py:1295: UserWarning: TypedStorage is deprecated. It will be removed in the future and UntypedStorage will be the only storage class. This should only matter to you if you are using storages directly.  To access UntypedStorage directly, use tensor.untyped_storage() instead of tensor.storage()\n",
      "  ret = func(*args, **kwargs)\n",
      "/Users/joshstein/Documents/thesis/code/.venv/lib/python3.11/site-packages/monai/data/__init__.py:127: UserWarning: TypedStorage is deprecated. It will be removed in the future and UntypedStorage will be the only storage class. This should only matter to you if you are using storages directly.  To access UntypedStorage directly, use tensor.untyped_storage() instead of tensor.storage()\n",
      "  if storage.is_cuda:\n"
     ]
    },
    {
     "name": "stdout",
     "output_type": "stream",
     "text": [
      "1/16, train_loss: 0.1605\n",
      "2/16, train_loss: 0.1761\n",
      "3/16, train_loss: 0.1014\n",
      "4/16, train_loss: 0.1322\n",
      "5/16, train_loss: 0.1610\n",
      "6/16, train_loss: 0.1092\n",
      "7/16, train_loss: 0.1213\n",
      "8/16, train_loss: 0.0957\n",
      "9/16, train_loss: 0.1519\n",
      "10/16, train_loss: 0.1973\n",
      "11/16, train_loss: 0.1017\n",
      "12/16, train_loss: 0.1402\n",
      "13/16, train_loss: 0.1152\n",
      "14/16, train_loss: 0.1096\n",
      "15/16, train_loss: 0.0997\n",
      "16/16, train_loss: 0.1629\n",
      "epoch 92 average loss: 0.1335\n",
      "----------\n",
      "epoch 93/100\n"
     ]
    },
    {
     "name": "stderr",
     "output_type": "stream",
     "text": [
      "/Users/joshstein/Documents/thesis/code/.venv/lib/python3.11/site-packages/torch/_tensor.py:1295: UserWarning: TypedStorage is deprecated. It will be removed in the future and UntypedStorage will be the only storage class. This should only matter to you if you are using storages directly.  To access UntypedStorage directly, use tensor.untyped_storage() instead of tensor.storage()\n",
      "  ret = func(*args, **kwargs)\n",
      "/Users/joshstein/Documents/thesis/code/.venv/lib/python3.11/site-packages/monai/data/__init__.py:127: UserWarning: TypedStorage is deprecated. It will be removed in the future and UntypedStorage will be the only storage class. This should only matter to you if you are using storages directly.  To access UntypedStorage directly, use tensor.untyped_storage() instead of tensor.storage()\n",
      "  if storage.is_cuda:\n"
     ]
    },
    {
     "name": "stdout",
     "output_type": "stream",
     "text": [
      "1/16, train_loss: 0.1036\n",
      "2/16, train_loss: 0.1624\n",
      "3/16, train_loss: 0.1155\n",
      "4/16, train_loss: 0.1095\n",
      "5/16, train_loss: 0.2130\n",
      "6/16, train_loss: 0.1067\n",
      "7/16, train_loss: 0.1068\n",
      "8/16, train_loss: 0.1111\n",
      "9/16, train_loss: 0.1130\n",
      "10/16, train_loss: 0.1003\n",
      "11/16, train_loss: 0.0907\n",
      "12/16, train_loss: 0.1163\n",
      "13/16, train_loss: 0.1007\n",
      "14/16, train_loss: 0.1022\n",
      "15/16, train_loss: 0.1318\n",
      "16/16, train_loss: 0.1398\n",
      "epoch 93 average loss: 0.1202\n",
      "----------\n",
      "epoch 94/100\n"
     ]
    },
    {
     "name": "stderr",
     "output_type": "stream",
     "text": [
      "/Users/joshstein/Documents/thesis/code/.venv/lib/python3.11/site-packages/torch/_tensor.py:1295: UserWarning: TypedStorage is deprecated. It will be removed in the future and UntypedStorage will be the only storage class. This should only matter to you if you are using storages directly.  To access UntypedStorage directly, use tensor.untyped_storage() instead of tensor.storage()\n",
      "  ret = func(*args, **kwargs)\n",
      "/Users/joshstein/Documents/thesis/code/.venv/lib/python3.11/site-packages/monai/data/__init__.py:127: UserWarning: TypedStorage is deprecated. It will be removed in the future and UntypedStorage will be the only storage class. This should only matter to you if you are using storages directly.  To access UntypedStorage directly, use tensor.untyped_storage() instead of tensor.storage()\n",
      "  if storage.is_cuda:\n"
     ]
    },
    {
     "name": "stdout",
     "output_type": "stream",
     "text": [
      "1/16, train_loss: 0.0996\n",
      "2/16, train_loss: 0.1101\n",
      "3/16, train_loss: 0.1078\n",
      "4/16, train_loss: 0.1296\n",
      "5/16, train_loss: 0.1050\n",
      "6/16, train_loss: 0.1186\n",
      "7/16, train_loss: 0.1042\n",
      "8/16, train_loss: 0.1052\n",
      "9/16, train_loss: 0.1286\n",
      "10/16, train_loss: 0.1088\n",
      "11/16, train_loss: 0.1553\n",
      "12/16, train_loss: 0.0997\n",
      "13/16, train_loss: 0.1386\n",
      "14/16, train_loss: 0.0937\n",
      "15/16, train_loss: 0.1596\n",
      "16/16, train_loss: 0.1420\n",
      "epoch 94 average loss: 0.1192\n",
      "----------\n",
      "epoch 95/100\n"
     ]
    },
    {
     "name": "stderr",
     "output_type": "stream",
     "text": [
      "/Users/joshstein/Documents/thesis/code/.venv/lib/python3.11/site-packages/torch/_tensor.py:1295: UserWarning: TypedStorage is deprecated. It will be removed in the future and UntypedStorage will be the only storage class. This should only matter to you if you are using storages directly.  To access UntypedStorage directly, use tensor.untyped_storage() instead of tensor.storage()\n",
      "  ret = func(*args, **kwargs)\n",
      "/Users/joshstein/Documents/thesis/code/.venv/lib/python3.11/site-packages/monai/data/__init__.py:127: UserWarning: TypedStorage is deprecated. It will be removed in the future and UntypedStorage will be the only storage class. This should only matter to you if you are using storages directly.  To access UntypedStorage directly, use tensor.untyped_storage() instead of tensor.storage()\n",
      "  if storage.is_cuda:\n"
     ]
    },
    {
     "name": "stdout",
     "output_type": "stream",
     "text": [
      "1/16, train_loss: 0.0930\n",
      "2/16, train_loss: 0.1140\n",
      "3/16, train_loss: 0.0971\n",
      "4/16, train_loss: 0.1171\n",
      "5/16, train_loss: 0.1171\n",
      "6/16, train_loss: 0.1002\n",
      "7/16, train_loss: 0.1536\n",
      "8/16, train_loss: 0.1232\n",
      "9/16, train_loss: 0.1031\n",
      "10/16, train_loss: 0.0984\n",
      "11/16, train_loss: 0.1405\n",
      "12/16, train_loss: 0.1367\n",
      "13/16, train_loss: 0.0954\n",
      "14/16, train_loss: 0.0953\n",
      "15/16, train_loss: 0.1184\n",
      "16/16, train_loss: 0.0930\n",
      "epoch 95 average loss: 0.1122\n"
     ]
    },
    {
     "name": "stderr",
     "output_type": "stream",
     "text": [
      "/Users/joshstein/Documents/thesis/code/.venv/lib/python3.11/site-packages/torch/_tensor.py:1295: UserWarning: TypedStorage is deprecated. It will be removed in the future and UntypedStorage will be the only storage class. This should only matter to you if you are using storages directly.  To access UntypedStorage directly, use tensor.untyped_storage() instead of tensor.storage()\n",
      "  ret = func(*args, **kwargs)\n",
      "/Users/joshstein/Documents/thesis/code/.venv/lib/python3.11/site-packages/monai/data/__init__.py:127: UserWarning: TypedStorage is deprecated. It will be removed in the future and UntypedStorage will be the only storage class. This should only matter to you if you are using storages directly.  To access UntypedStorage directly, use tensor.untyped_storage() instead of tensor.storage()\n",
      "  if storage.is_cuda:\n"
     ]
    },
    {
     "name": "stdout",
     "output_type": "stream",
     "text": [
      "current epoch: 95 current mean dice: 0.7039\n",
      "best mean dice: 0.7312 at epoch: 65\n",
      "----------\n",
      "epoch 96/100\n"
     ]
    },
    {
     "name": "stderr",
     "output_type": "stream",
     "text": [
      "/Users/joshstein/Documents/thesis/code/.venv/lib/python3.11/site-packages/torch/_tensor.py:1295: UserWarning: TypedStorage is deprecated. It will be removed in the future and UntypedStorage will be the only storage class. This should only matter to you if you are using storages directly.  To access UntypedStorage directly, use tensor.untyped_storage() instead of tensor.storage()\n",
      "  ret = func(*args, **kwargs)\n",
      "/Users/joshstein/Documents/thesis/code/.venv/lib/python3.11/site-packages/monai/data/__init__.py:127: UserWarning: TypedStorage is deprecated. It will be removed in the future and UntypedStorage will be the only storage class. This should only matter to you if you are using storages directly.  To access UntypedStorage directly, use tensor.untyped_storage() instead of tensor.storage()\n",
      "  if storage.is_cuda:\n"
     ]
    },
    {
     "name": "stdout",
     "output_type": "stream",
     "text": [
      "1/16, train_loss: 0.1046\n",
      "2/16, train_loss: 0.0982\n",
      "3/16, train_loss: 0.0979\n",
      "4/16, train_loss: 0.1387\n",
      "5/16, train_loss: 0.0990\n",
      "6/16, train_loss: 0.0797\n",
      "7/16, train_loss: 0.1255\n",
      "8/16, train_loss: 0.1309\n",
      "9/16, train_loss: 0.1706\n",
      "10/16, train_loss: 0.1960\n",
      "11/16, train_loss: 0.1101\n",
      "12/16, train_loss: 0.0893\n",
      "13/16, train_loss: 0.1274\n",
      "14/16, train_loss: 0.1127\n",
      "15/16, train_loss: 0.0986\n",
      "16/16, train_loss: 0.1308\n",
      "epoch 96 average loss: 0.1194\n",
      "----------\n",
      "epoch 97/100\n"
     ]
    },
    {
     "name": "stderr",
     "output_type": "stream",
     "text": [
      "/Users/joshstein/Documents/thesis/code/.venv/lib/python3.11/site-packages/torch/_tensor.py:1295: UserWarning: TypedStorage is deprecated. It will be removed in the future and UntypedStorage will be the only storage class. This should only matter to you if you are using storages directly.  To access UntypedStorage directly, use tensor.untyped_storage() instead of tensor.storage()\n",
      "  ret = func(*args, **kwargs)\n",
      "/Users/joshstein/Documents/thesis/code/.venv/lib/python3.11/site-packages/monai/data/__init__.py:127: UserWarning: TypedStorage is deprecated. It will be removed in the future and UntypedStorage will be the only storage class. This should only matter to you if you are using storages directly.  To access UntypedStorage directly, use tensor.untyped_storage() instead of tensor.storage()\n",
      "  if storage.is_cuda:\n"
     ]
    },
    {
     "name": "stdout",
     "output_type": "stream",
     "text": [
      "1/16, train_loss: 0.0970\n",
      "2/16, train_loss: 0.0950\n",
      "3/16, train_loss: 0.1070\n",
      "4/16, train_loss: 0.0864\n",
      "5/16, train_loss: 0.1165\n",
      "6/16, train_loss: 0.1499\n",
      "7/16, train_loss: 0.0990\n",
      "8/16, train_loss: 0.1022\n",
      "9/16, train_loss: 0.1118\n",
      "10/16, train_loss: 0.1187\n",
      "11/16, train_loss: 0.1351\n",
      "12/16, train_loss: 0.1120\n",
      "13/16, train_loss: 0.1194\n",
      "14/16, train_loss: 0.1199\n",
      "15/16, train_loss: 0.1491\n",
      "16/16, train_loss: 0.1201\n",
      "epoch 97 average loss: 0.1149\n",
      "----------\n",
      "epoch 98/100\n"
     ]
    },
    {
     "name": "stderr",
     "output_type": "stream",
     "text": [
      "/Users/joshstein/Documents/thesis/code/.venv/lib/python3.11/site-packages/torch/_tensor.py:1295: UserWarning: TypedStorage is deprecated. It will be removed in the future and UntypedStorage will be the only storage class. This should only matter to you if you are using storages directly.  To access UntypedStorage directly, use tensor.untyped_storage() instead of tensor.storage()\n",
      "  ret = func(*args, **kwargs)\n",
      "/Users/joshstein/Documents/thesis/code/.venv/lib/python3.11/site-packages/monai/data/__init__.py:127: UserWarning: TypedStorage is deprecated. It will be removed in the future and UntypedStorage will be the only storage class. This should only matter to you if you are using storages directly.  To access UntypedStorage directly, use tensor.untyped_storage() instead of tensor.storage()\n",
      "  if storage.is_cuda:\n"
     ]
    },
    {
     "name": "stdout",
     "output_type": "stream",
     "text": [
      "1/16, train_loss: 0.1181\n",
      "2/16, train_loss: 0.1073\n",
      "3/16, train_loss: 0.1199\n",
      "4/16, train_loss: 0.1034\n",
      "5/16, train_loss: 0.1592\n",
      "6/16, train_loss: 0.1339\n",
      "7/16, train_loss: 0.1280\n",
      "8/16, train_loss: 0.1189\n",
      "9/16, train_loss: 0.0950\n",
      "10/16, train_loss: 0.0922\n",
      "11/16, train_loss: 0.0903\n",
      "12/16, train_loss: 0.0921\n",
      "13/16, train_loss: 0.1069\n",
      "14/16, train_loss: 0.0957\n",
      "15/16, train_loss: 0.1621\n",
      "16/16, train_loss: 0.1106\n",
      "epoch 98 average loss: 0.1146\n",
      "----------\n",
      "epoch 99/100\n"
     ]
    },
    {
     "name": "stderr",
     "output_type": "stream",
     "text": [
      "/Users/joshstein/Documents/thesis/code/.venv/lib/python3.11/site-packages/torch/_tensor.py:1295: UserWarning: TypedStorage is deprecated. It will be removed in the future and UntypedStorage will be the only storage class. This should only matter to you if you are using storages directly.  To access UntypedStorage directly, use tensor.untyped_storage() instead of tensor.storage()\n",
      "  ret = func(*args, **kwargs)\n",
      "/Users/joshstein/Documents/thesis/code/.venv/lib/python3.11/site-packages/monai/data/__init__.py:127: UserWarning: TypedStorage is deprecated. It will be removed in the future and UntypedStorage will be the only storage class. This should only matter to you if you are using storages directly.  To access UntypedStorage directly, use tensor.untyped_storage() instead of tensor.storage()\n",
      "  if storage.is_cuda:\n"
     ]
    },
    {
     "name": "stdout",
     "output_type": "stream",
     "text": [
      "1/16, train_loss: 0.1193\n",
      "2/16, train_loss: 0.0853\n",
      "3/16, train_loss: 0.1190\n",
      "4/16, train_loss: 0.1069\n",
      "5/16, train_loss: 0.1723\n",
      "6/16, train_loss: 0.1158\n",
      "7/16, train_loss: 0.0947\n",
      "8/16, train_loss: 0.1308\n",
      "9/16, train_loss: 0.1124\n",
      "10/16, train_loss: 0.0921\n",
      "11/16, train_loss: 0.0954\n",
      "12/16, train_loss: 0.1255\n",
      "13/16, train_loss: 0.1132\n",
      "14/16, train_loss: 0.1488\n",
      "15/16, train_loss: 0.1154\n",
      "16/16, train_loss: 0.1128\n",
      "epoch 99 average loss: 0.1162\n",
      "----------\n",
      "epoch 100/100\n"
     ]
    },
    {
     "name": "stderr",
     "output_type": "stream",
     "text": [
      "/Users/joshstein/Documents/thesis/code/.venv/lib/python3.11/site-packages/torch/_tensor.py:1295: UserWarning: TypedStorage is deprecated. It will be removed in the future and UntypedStorage will be the only storage class. This should only matter to you if you are using storages directly.  To access UntypedStorage directly, use tensor.untyped_storage() instead of tensor.storage()\n",
      "  ret = func(*args, **kwargs)\n",
      "/Users/joshstein/Documents/thesis/code/.venv/lib/python3.11/site-packages/monai/data/__init__.py:127: UserWarning: TypedStorage is deprecated. It will be removed in the future and UntypedStorage will be the only storage class. This should only matter to you if you are using storages directly.  To access UntypedStorage directly, use tensor.untyped_storage() instead of tensor.storage()\n",
      "  if storage.is_cuda:\n"
     ]
    },
    {
     "name": "stdout",
     "output_type": "stream",
     "text": [
      "1/16, train_loss: 0.1128\n",
      "2/16, train_loss: 0.1295\n",
      "3/16, train_loss: 0.1517\n",
      "4/16, train_loss: 0.0853\n",
      "5/16, train_loss: 0.0966\n",
      "6/16, train_loss: 0.1432\n",
      "7/16, train_loss: 0.1103\n",
      "8/16, train_loss: 0.0970\n",
      "9/16, train_loss: 0.1994\n",
      "10/16, train_loss: 0.0859\n",
      "11/16, train_loss: 0.1358\n",
      "12/16, train_loss: 0.1000\n",
      "13/16, train_loss: 0.1034\n",
      "14/16, train_loss: 0.1786\n",
      "15/16, train_loss: 0.1216\n",
      "16/16, train_loss: 0.0976\n",
      "epoch 100 average loss: 0.1218\n"
     ]
    },
    {
     "name": "stderr",
     "output_type": "stream",
     "text": [
      "/Users/joshstein/Documents/thesis/code/.venv/lib/python3.11/site-packages/torch/_tensor.py:1295: UserWarning: TypedStorage is deprecated. It will be removed in the future and UntypedStorage will be the only storage class. This should only matter to you if you are using storages directly.  To access UntypedStorage directly, use tensor.untyped_storage() instead of tensor.storage()\n",
      "  ret = func(*args, **kwargs)\n",
      "/Users/joshstein/Documents/thesis/code/.venv/lib/python3.11/site-packages/monai/data/__init__.py:127: UserWarning: TypedStorage is deprecated. It will be removed in the future and UntypedStorage will be the only storage class. This should only matter to you if you are using storages directly.  To access UntypedStorage directly, use tensor.untyped_storage() instead of tensor.storage()\n",
      "  if storage.is_cuda:\n"
     ]
    },
    {
     "name": "stdout",
     "output_type": "stream",
     "text": [
      "current epoch: 100 current mean dice: 0.7249\n",
      "best mean dice: 0.7312 at epoch: 65\n"
     ]
    },
    {
     "data": {
      "text/plain": "<IPython.core.display.HTML object>",
      "text/html": "Waiting for W&B process to finish... <strong style=\"color:green\">(success).</strong>"
     },
     "metadata": {},
     "output_type": "display_data"
    },
    {
     "data": {
      "text/plain": "VBox(children=(Label(value='0.001 MB of 0.001 MB uploaded (0.000 MB deduped)\\r'), FloatProgress(value=1.0, max…",
      "application/vnd.jupyter.widget-view+json": {
       "version_major": 2,
       "version_minor": 0,
       "model_id": "2c0cf502df3841a58b4d191085536e20"
      }
     },
     "metadata": {},
     "output_type": "display_data"
    }
   ],
   "source": [
    "val_interval = 5\n",
    "\n",
    "for percentage_data in [0.2, 0.4, 0.6, 0.8, 1.0]:\n",
    "    config[\"hyperparameters\"][\"percentage_data\"] = percentage_data\n",
    "\n",
    "    train_data = ACDCDataset(\n",
    "        data_dir=data_dir,\n",
    "        train=True,\n",
    "        transform=train_transforms,\n",
    "        percentage_data=percentage_data,\n",
    "    )\n",
    "    train_loader, val_loader = get_train_dataloaders(train_data)\n",
    "\n",
    "    wandb.init(\n",
    "        project=\"acdc-3D-UNet-baseline\", config=config[\"hyperparameters\"], tags=[\"limited_data\"], dir=log_dir,\n",
    "        reinit=True\n",
    "    )\n",
    "    wandb.config.dataset = \"ACDC\"\n",
    "    wandb.config.architecture = \"UNet\"\n",
    "\n",
    "    out_dir = root_out_dir / f\"percentage_data_{percentage_data}\"\n",
    "    os.makedirs(out_dir, exist_ok=True)\n",
    "\n",
    "    epoch_loss_values, metric_values = train(\n",
    "        model=model,\n",
    "        train_loader=train_loader,\n",
    "        val_loader=val_loader,\n",
    "        loss_function=loss_function,\n",
    "        optimizer=optimizer,\n",
    "        val_interval=val_interval,\n",
    "        epochs=epochs,\n",
    "        metrics=metrics,\n",
    "        device=device,\n",
    "        out_dir=out_dir,\n",
    "    )\n",
    "\n",
    "    wandb.finish()\n",
    "\n",
    "    # visualize_loss_curves(epoch_loss_values, metric_values, val_interval, out_dir)"
   ],
   "metadata": {
    "collapsed": false,
    "pycharm": {
     "is_executing": true
    }
   }
  },
  {
   "cell_type": "code",
   "execution_count": null,
   "metadata": {
    "collapsed": false
   },
   "outputs": [],
   "source": [
    "visualize_loss_curves(epoch_loss_values, metric_values, val_interval, out_dir)\n",
    "for slice_no in [0, 2, 4]:\n",
    "    visualize_predictions(\n",
    "        model=model,\n",
    "        model_file=os.path.join(out_dir, \"best_metric_model.pth\"),\n",
    "        val_loader=val_loader,\n",
    "        device=device,\n",
    "        image_key=\"end_diastole\",\n",
    "        label_key=\"end_diastole_label\",\n",
    "        slice_no=slice_no,\n",
    "    )"
   ]
  }
 ],
 "metadata": {
  "kernelspec": {
   "display_name": "Python 3",
   "language": "python",
   "name": "python3"
  },
  "language_info": {
   "codemirror_mode": {
    "name": "ipython",
    "version": 3
   },
   "file_extension": ".py",
   "mimetype": "text/x-python",
   "name": "python",
   "nbconvert_exporter": "python",
   "pygments_lexer": "ipython3",
   "version": "3.11.1"
  },
  "vscode": {
   "interpreter": {
    "hash": "e67800382cf8ea177e3cd7b48d3838fe8a7d931f6b7c8c65c9beb8441d41a67f"
   }
  }
 },
 "nbformat": 4,
 "nbformat_minor": 0
}
