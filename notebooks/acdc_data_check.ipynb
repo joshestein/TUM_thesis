{
 "cells": [
  {
   "cell_type": "code",
   "execution_count": null,
   "outputs": [],
   "source": [
    "import os\n",
    "import sys\n",
    "import tomllib\n",
    "from pathlib import Path\n",
    "from pprint import pprint\n",
    "\n",
    "import nibabel as nib\n",
    "import numpy as np\n",
    "from matplotlib import pyplot as plt\n",
    "from monai.utils import set_determinism\n",
    "from torch.utils.data import DataLoader\n",
    "\n",
    "from src.utils import setup_dirs\n",
    "\n",
    "sys.path.insert(0, \"..\")"
   ],
   "metadata": {
    "collapsed": false
   }
  },
  {
   "cell_type": "code",
   "execution_count": null,
   "outputs": [],
   "source": [
    "root_dir = Path(os.getcwd()).parent\n",
    "data_dir, log_dir, out_dir = setup_dirs(root_dir)\n",
    "data_dir = data_dir / \"ACDC\" / \"database\"\n",
    "\n",
    "with open(root_dir / \"config.toml\", \"rb\") as file:\n",
    "    config = tomllib.load(file)\n",
    "\n",
    "pprint(config)\n",
    "set_determinism(seed=config[\"hyperparameters\"][\"seed\"])\n",
    "spatial_dims = config[\"hyperparameters\"][\"spatial_dimensions\"]\n",
    "spatial_dims = \"3\""
   ],
   "metadata": {
    "collapsed": false
   }
  },
  {
   "cell_type": "code",
   "execution_count": null,
   "outputs": [],
   "source": [
    "\n",
    "\n",
    "# importlib.reload(sys.modules[\"src.transforms\"])\n",
    "# importlib.reload(sys.modules[\"src.datasets.acdc_dataset\"])\n",
    "from src.transforms.transforms import get_transforms\n",
    "from src.datasets.acdc_dataset import ACDCDataset\n",
    "\n",
    "train_transforms, val_transforms = get_transforms(spatial_dims=spatial_dims)\n",
    "train_transform_no_aug, _ = get_transforms(spatial_dims=spatial_dims, augment=False)\n",
    "train_data = ACDCDataset(data_dir=data_dir / \"training\", transform=train_transforms)\n",
    "train_data_no_aug = ACDCDataset(data_dir=data_dir / \"training\", transform=train_transform_no_aug)\n",
    "\n",
    "check_dataloader = DataLoader(train_data, batch_size=1, shuffle=False)\n",
    "check_dataloader_no_aug = DataLoader(train_data_no_aug, batch_size=8, shuffle=False)\n",
    "\n",
    "print(len(check_dataloader.dataset))"
   ],
   "metadata": {
    "collapsed": false
   }
  },
  {
   "cell_type": "code",
   "execution_count": null,
   "outputs": [],
   "source": [
    "# for data in check_dataloader:\n",
    "#     ed = data['end_diastole']\n",
    "#     print(ed.shape)\n",
    "\n",
    "data = next(iter(check_dataloader))\n",
    "# for key, image in data.items():\n",
    "#     data[key] = image.permute(0, 1, 3, 4, 2)\n",
    "image, label = data[\"image\"], data[\"label\"]\n",
    "print(image.shape)\n",
    "# image = image.permute(0, 1, 3, 4, 2)\n",
    "# print(image.shape)"
   ],
   "metadata": {
    "collapsed": false
   }
  },
  {
   "cell_type": "code",
   "execution_count": null,
   "outputs": [],
   "source": [
    "to_be_skipped = []\n",
    "for batch in check_dataloader:\n",
    "    patient = batch[\"patient\"]\n",
    "    labels = batch[\"label\"][0]\n",
    "    # Four classes\n",
    "    labels_per_class = [np.array((labels == class_index)).astype(int) for class_index in range(4)]\n",
    "    if any(np.count_nonzero(label) == 0 for label in labels_per_class):\n",
    "        to_be_skipped.append(patient)\n",
    "        print(f\"Skipping: {patient}\")\n",
    "\n",
    "print(len(to_be_skipped))"
   ],
   "metadata": {
    "collapsed": false
   }
  },
  {
   "cell_type": "code",
   "execution_count": null,
   "outputs": [],
   "source": [
    "from mpl_toolkits.axes_grid1 import ImageGrid\n",
    "\n",
    "check_data = next(iter(check_dataloader))\n",
    "check_data_no_aug = next(iter(check_dataloader_no_aug))\n",
    "\n",
    "image, label = check_data[\"image\"][0][0], check_data[\"label\"][0][0]\n",
    "image_no_aug, label_no_aug = (\n",
    "    check_data_no_aug[\"image\"][0][0],\n",
    "    check_data_no_aug[\"label\"][0][0],\n",
    ")\n",
    "\n",
    "total_slices = image.shape[0]\n",
    "slices = total_slices\n",
    "fig = plt.figure(figsize=(20, 20))\n",
    "grid = ImageGrid(fig, 111, nrows_ncols=(slices + 1, 2), axes_pad=0.1)\n",
    "\n",
    "images = []\n",
    "total_images = 0\n",
    "for i in range(total_slices):\n",
    "    if np.count_nonzero(image_no_aug[i, ...]) > 0:\n",
    "        images.append(image_no_aug[i, ...])\n",
    "        images.append(label_no_aug[i, ...])\n",
    "        total_images += 1\n",
    "\n",
    "# while total_images < slices or i < total_slices:\n",
    "#     # images.append(image_no_aug[i, ...])\n",
    "#     # images.append(label_no_aug[i, ...])\n",
    "#     # images.append(image[(10 + i) % total_slices, ...])\n",
    "#     # images.append(label[(10 + i) % total_slices, ...])\n",
    "#     if np.count_nonzero(image[i, ...]) > 0:\n",
    "#         images.append(image[i, ...])\n",
    "#         images.append(label[i, ...])\n",
    "#         print(total_images)\n",
    "#         total_images += 1\n",
    "#     i += 1\n",
    "#\n",
    "grid = ImageGrid(fig, 111, nrows_ncols=(total_images + 1, 2), axes_pad=0.1)\n",
    "for ax, image in zip(grid, images):\n",
    "    ax.imshow(image, origin=\"lower\")\n",
    "\n",
    "print(\"done\")\n",
    "\n",
    "# plt.show()\n",
    "plt.savefig(\"slices.png\", bbox_inches=\"tight\")"
   ],
   "metadata": {
    "collapsed": false
   }
  },
  {
   "cell_type": "code",
   "execution_count": null,
   "outputs": [],
   "source": [
    "data = next(iter(check_dataloader))\n",
    "image, label = data[\"end_diastole\"], data[\"end_diastole_label\"]\n",
    "print(image.shape, label.shape)"
   ],
   "metadata": {
    "collapsed": false
   }
  },
  {
   "cell_type": "code",
   "execution_count": null,
   "outputs": [],
   "source": [
    "patient = \"patient001\"\n",
    "patient_dir = data_dir / \"training\" / patient\n",
    "\n",
    "full_image = nib.load(patient_dir / f\"{patient}_4d.nii.gz\")\n",
    "print(full_image)"
   ],
   "metadata": {
    "collapsed": false
   }
  },
  {
   "cell_type": "code",
   "execution_count": null,
   "outputs": [],
   "source": [
    "print(full_image.header.get_zooms())\n",
    "print(full_image.header.get_xyzt_units())"
   ],
   "metadata": {
    "collapsed": false
   }
  },
  {
   "cell_type": "code",
   "execution_count": null,
   "outputs": [],
   "source": [
    "end_diastole = nib.load(patient_dir / f\"{patient}_frame01.nii.gz\")\n",
    "end_diastole = end_diastole.get_fdata(dtype=np.float32)\n",
    "\n",
    "print(end_diastole.shape)\n",
    "print(end_diastole[0].shape)\n",
    "print(end_diastole[:, :, 0].shape)"
   ],
   "metadata": {
    "collapsed": false
   }
  },
  {
   "cell_type": "code",
   "execution_count": null,
   "outputs": [],
   "source": [
    "width = end_diastole.shape[0]\n",
    "height = end_diastole.shape[1]\n",
    "slices = end_diastole.shape[2]\n",
    "\n",
    "fig, axs = plt.subplots(3, 4, figsize=[10, 10])\n",
    "for idx in range(slices):\n",
    "    axs.flat[idx].imshow(end_diastole[:, :, idx], cmap=\"gray\")\n",
    "    axs.flat[idx].axis(\"off\")\n",
    "\n",
    "plt.tight_layout()\n",
    "plt.show()"
   ],
   "metadata": {
    "collapsed": false
   }
  },
  {
   "cell_type": "code",
   "execution_count": null,
   "outputs": [],
   "source": [
    "# I want to check that the frames that are separately being loaded are the same as within the 4D image\n",
    "full_4d_volume = full_image.get_fdata(dtype=np.float32)\n",
    "first_frame = full_4d_volume[:, :, :, 0]\n",
    "assert np.allclose(first_frame, end_diastole)\n",
    "\n",
    "# Note that despite being named frame01 it is actually frame00 - the literal first time frame, zero indexed"
   ],
   "metadata": {
    "collapsed": false
   }
  },
  {
   "cell_type": "code",
   "execution_count": null,
   "outputs": [],
   "source": [],
   "metadata": {
    "collapsed": false
   }
  }
 ],
 "metadata": {
  "kernelspec": {
   "display_name": "Python 3",
   "language": "python",
   "name": "python3"
  },
  "language_info": {
   "codemirror_mode": {
    "name": "ipython",
    "version": 2
   },
   "file_extension": ".py",
   "mimetype": "text/x-python",
   "name": "python",
   "nbconvert_exporter": "python",
   "pygments_lexer": "ipython2",
   "version": "2.7.6"
  }
 },
 "nbformat": 4,
 "nbformat_minor": 0
}
