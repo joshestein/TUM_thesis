{
 "cells": [
  {
   "cell_type": "code",
   "execution_count": null,
   "outputs": [],
   "source": [
    "import os\n",
    "import sys\n",
    "from pathlib import Path\n",
    "\n",
    "import nibabel as nib\n",
    "import numpy as np\n",
    "from matplotlib import pyplot as plt\n",
    "\n",
    "from src.utils import setup_dirs\n",
    "\n",
    "sys.path.insert(0, \"..\")"
   ],
   "metadata": {
    "collapsed": false
   }
  },
  {
   "cell_type": "code",
   "execution_count": null,
   "metadata": {
    "collapsed": true
   },
   "outputs": [],
   "source": [
    "root_dir = Path(os.getcwd()).parent\n",
    "data_dir, log_dir, root_out_dir = setup_dirs(root_dir)\n",
    "data_dir = data_dir / \"EMIDEC\" / \"emidec-dataset-1.0.1\"\n",
    "\n",
    "patients = sorted([Path(d) for d in data_dir.iterdir() if d.is_dir()])"
   ]
  },
  {
   "cell_type": "code",
   "execution_count": null,
   "outputs": [],
   "source": [
    "patient = patients[0]\n",
    "image = nib.load(patient / \"Images\" / f\"{patient.name}.nii.gz\")\n",
    "label = nib.load(patient / \"Contours\" / f\"{patient.name}.nii.gz\")\n",
    "\n",
    "image = image.get_fdata(dtype=np.float32)\n",
    "label = label.get_fdata(dtype=np.float32)\n",
    "\n",
    "print(image.shape, label.shape)\n",
    "_, _, slices = image.shape\n",
    "for i in range(slices):\n",
    "    plt.figure()\n",
    "    plt.subplot(1, 7, 1)\n",
    "    plt.imshow(image[..., i])\n",
    "    plt.subplot(1, 7, 2)\n",
    "    plt.imshow(label[..., i])\n",
    "    plt.subplot(1, 7, 3)\n",
    "    plt.imshow(label[..., i] == 0)\n",
    "    plt.subplot(1, 7, 4)\n",
    "    plt.imshow(label[..., i] == 1)\n",
    "    plt.subplot(1, 7, 5)\n",
    "    plt.imshow(label[..., i] == 2)\n",
    "    plt.subplot(1, 7, 6)\n",
    "    plt.imshow(label[..., i] == 3)\n",
    "    plt.subplot(1, 7, 7)\n",
    "    plt.imshow(label[..., i] == 4)\n",
    "\n",
    "plt.show()\n",
    "\n"
   ],
   "metadata": {
    "collapsed": false
   }
  },
  {
   "cell_type": "code",
   "execution_count": null,
   "outputs": [],
   "source": [
    "unique_labels = set()\n",
    "num_4 = 0\n",
    "for patient in patients:\n",
    "    label = nib.load(patient / \"Contours\" / f\"{patient.name}.nii.gz\")\n",
    "    label = label.get_fdata(dtype=np.float32)\n",
    "    if 4.0 in np.unique(label):\n",
    "        num_4 += 1\n",
    "\n",
    "    unique_labels.update(np.unique(label))\n",
    "\n",
    "# background (0), cavity(1), normal myocardium (2), myocardial infarction (3) and no-reflow (4)\n",
    "print(unique_labels)\n",
    "print(num_4)"
   ],
   "metadata": {
    "collapsed": false
   }
  },
  {
   "cell_type": "code",
   "execution_count": null,
   "outputs": [],
   "source": [
    "print(patient.name)\n",
    "np.count_nonzero(label[..., 3] == 3)\n",
    "plt.subplot(1, 5, 1)\n",
    "plt.imshow(label[..., 3])\n",
    "plt.subplot(1, 5, 2)\n",
    "plt.imshow(label[..., 3] == 0)\n",
    "plt.subplot(1, 5, 3)\n",
    "plt.imshow(label[..., 3] == 1)\n",
    "plt.subplot(1, 5, 4)\n",
    "plt.imshow(label[..., 3] == 2)\n",
    "plt.subplot(1, 5, 5)\n",
    "plt.imshow(label[..., 3] == 3)\n",
    "\n"
   ],
   "metadata": {
    "collapsed": false
   }
  },
  {
   "cell_type": "code",
   "execution_count": null,
   "outputs": [],
   "source": [],
   "metadata": {
    "collapsed": false
   }
  }
 ],
 "metadata": {
  "kernelspec": {
   "display_name": "Python 3",
   "language": "python",
   "name": "python3"
  },
  "language_info": {
   "codemirror_mode": {
    "name": "ipython",
    "version": 2
   },
   "file_extension": ".py",
   "mimetype": "text/x-python",
   "name": "python",
   "nbconvert_exporter": "python",
   "pygments_lexer": "ipython2",
   "version": "2.7.6"
  }
 },
 "nbformat": 4,
 "nbformat_minor": 0
}
