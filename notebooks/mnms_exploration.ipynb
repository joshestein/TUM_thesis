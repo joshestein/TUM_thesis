{
 "cells": [
  {
   "cell_type": "code",
   "execution_count": null,
   "outputs": [],
   "source": [
    "import csv\n",
    "import os\n",
    "import sys\n",
    "import tomllib\n",
    "from pathlib import Path\n",
    "from pprint import pprint\n",
    "\n",
    "import matplotlib.pyplot as plt\n",
    "import nibabel as nib\n",
    "import numpy as np\n",
    "import torch\n",
    "from monai.losses import DiceLoss\n",
    "from monai.networks.layers import Norm\n",
    "from monai.networks.nets import UNet\n",
    "from monai.utils import set_determinism\n",
    "\n",
    "from src.utils import setup_dirs\n",
    "\n",
    "sys.path.insert(0, \"..\")"
   ],
   "metadata": {
    "collapsed": false
   }
  },
  {
   "cell_type": "code",
   "execution_count": null,
   "outputs": [],
   "source": [
    "root_dir = Path(os.getcwd()).parent\n",
    "data_dir, log_dir, root_out_dir = setup_dirs(root_dir)\n",
    "data_dir = data_dir / \"MNMS\"\n",
    "\n",
    "with open(root_dir / \"config.toml\", \"rb\") as file:\n",
    "    config = tomllib.load(file)\n",
    "\n",
    "pprint(config)\n",
    "batch_size = config[\"hyperparameters\"].get(\"batch_size\", 4)\n",
    "epochs = config[\"hyperparameters\"].get(\"epochs\", 100)\n",
    "learning_rate = config[\"hyperparameters\"].get(\"learning_rate\", 1e-5)\n",
    "percentage_data = config[\"hyperparameters\"].get(\"percentage_data\", 1.0)\n",
    "validation_split = config[\"hyperparameters\"].get(\"validation_split\", 0.8)\n",
    "\n",
    "set_determinism(seed=config[\"hyperparameters\"][\"seed\"])"
   ],
   "metadata": {
    "collapsed": false
   }
  },
  {
   "cell_type": "code",
   "execution_count": null,
   "outputs": [],
   "source": [
    "training_dir = data_dir / \"Training\"\n",
    "labeled = training_dir / \"Labeled\"\n",
    "\n",
    "# Although there are '_gt.nii.gz' files in this 'unlabeled' folder, the segmentations are empty.\n",
    "unlabeled = training_dir / \"Unlabeled\"\n",
    "\n",
    "# Again, although there are '_gt.nii.gz' they are unlabeled?\n",
    "validation_dir = data_dir / \"Validation\"\n",
    "train_patients = [f.name for f in os.scandir(labeled) if f.is_dir()]\n",
    "val_patients = [f.name for f in os.scandir(data_dir / \"Validation\") if f.is_dir()]\n",
    "test_patients = [f.name for f in os.scandir(data_dir / \"Testing\") if f.is_dir()]\n",
    "\n",
    "print(\"Num train\", len(train_patients))\n",
    "print(\"Num val\", len(val_patients))\n",
    "print(\"Num test\", len(test_patients))"
   ],
   "metadata": {
    "collapsed": false
   }
  },
  {
   "cell_type": "code",
   "execution_count": null,
   "outputs": [],
   "source": [
    "cardiac_phase_indexes = {}\n",
    "\n",
    "num_train = 0\n",
    "num_val = 0\n",
    "num_test = 0\n",
    "num_unknown = 0\n",
    "\n",
    "with open(data_dir / \"211230_M&Ms_Dataset_information_diagnosis_opendataset.csv\") as csvfile:\n",
    "    reader = csv.reader(csvfile)\n",
    "    headers = next(reader)\n",
    "    patient_index = headers.index(\"External code\")\n",
    "    ed_index = headers.index(\"ED\")\n",
    "    es_index = headers.index(\"ES\")\n",
    "    for row in reader:\n",
    "        # cardiac_phase_indexes[row[patient_index]] = [row[ed_index], row[es_index]]\n",
    "        patient_label = row[patient_index]\n",
    "        cardiac_phase_indexes[patient_label] = {\n",
    "            \"end_diastole\": int(row[ed_index]),\n",
    "            \"end_systole\": int(row[es_index]),\n",
    "        }\n",
    "\n",
    "        if patient_label in train_patients:\n",
    "            num_train += 1\n",
    "        elif patient_label in val_patients:\n",
    "            num_val += 1\n",
    "        elif patient_label in test_patients:\n",
    "            num_test += 1\n",
    "        else:\n",
    "            num_unknown += 1\n",
    "\n",
    "print(f\"Train: {num_train}\\nVal: {num_val}\\nTest: {num_test}\\nUnknown: {num_unknown}\")\n",
    "print(f\"Total: {num_train + num_val + num_test + num_unknown}\")"
   ],
   "metadata": {
    "collapsed": false
   }
  },
  {
   "cell_type": "code",
   "execution_count": null,
   "outputs": [],
   "source": [
    "print(train_patients)"
   ],
   "metadata": {
    "collapsed": false
   }
  },
  {
   "cell_type": "code",
   "execution_count": null,
   "outputs": [],
   "source": [
    "patient = training_dir / \"Labeled\" / train_patients[0]\n",
    "image = nib.load(patient / f\"{patient.name}_sa.nii.gz\")\n",
    "label = nib.load(patient / f\"{patient.name}_sa_gt.nii.gz\")\n",
    "\n",
    "image = image.get_fdata(dtype=np.float32)\n",
    "label = label.get_fdata(dtype=np.float32)\n",
    "\n",
    "_, _, slices, times = image.shape\n",
    "slices = 2\n",
    "for i in range(slices):\n",
    "    plt.figure()\n",
    "    plt.subplot(1, 2, 1)\n",
    "    plt.imshow(image[..., i, cardiac_phase_indexes[patient.name][\"end_diastole\"]])\n",
    "    plt.subplot(1, 2, 2)\n",
    "    ones = label[..., i, cardiac_phase_indexes[patient.name][\"end_diastole\"]] == 1\n",
    "    threes = label[..., i, cardiac_phase_indexes[patient.name][\"end_diastole\"]] == 3\n",
    "    label[..., i, cardiac_phase_indexes[patient.name]['end_diastole']][ones] = 3\n",
    "    label[..., i, cardiac_phase_indexes[patient.name]['end_diastole']][threes] = 1\n",
    "\n",
    "    plt.imshow(label[..., i, cardiac_phase_indexes[patient.name][\"end_diastole\"]])\n",
    "\n",
    "plt.show()"
   ],
   "metadata": {
    "collapsed": false
   }
  },
  {
   "cell_type": "code",
   "execution_count": null,
   "outputs": [],
   "source": [
    "from src.transforms.transforms import get_transforms\n",
    "\n",
    "train_transforms, val_transforms = get_transforms()"
   ],
   "metadata": {
    "collapsed": false
   }
  },
  {
   "cell_type": "code",
   "execution_count": null,
   "outputs": [],
   "source": [
    "device = torch.device(\"cuda\") if torch.cuda.is_available() else torch.device(\"cpu\")\n",
    "model = UNet(\n",
    "    spatial_dims=3,\n",
    "    in_channels=1,\n",
    "    out_channels=4,\n",
    "    # channels=(26, 52, 104, 208, 416),\n",
    "    channels=(16, 32, 64, 128, 256),\n",
    "    strides=(2, 2, 2, 2),\n",
    "    norm=Norm.BATCH,\n",
    "    # num_res_units=4,\n",
    "    # dropout=0.5,\n",
    ").to(device)\n",
    "\n",
    "loss_function = DiceLoss(to_onehot_y=True, softmax=True)\n",
    "# TODO: weight decay check\n",
    "optimizer = torch.optim.Adam(model.parameters())"
   ],
   "metadata": {
    "collapsed": false
   }
  }
 ],
 "metadata": {
  "kernelspec": {
   "display_name": "Python 3",
   "language": "python",
   "name": "python3"
  },
  "language_info": {
   "codemirror_mode": {
    "name": "ipython",
    "version": 2
   },
   "file_extension": ".py",
   "mimetype": "text/x-python",
   "name": "python",
   "nbconvert_exporter": "python",
   "pygments_lexer": "ipython2",
   "version": "2.7.6"
  }
 },
 "nbformat": 4,
 "nbformat_minor": 0
}
