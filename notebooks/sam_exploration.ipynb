{
 "cells": [
  {
   "cell_type": "code",
   "execution_count": null,
   "metadata": {
    "ExecuteTime": {
     "start_time": "2023-08-05T17:02:12.152926Z",
     "end_time": "2023-08-05T17:02:12.157094Z"
    },
    "collapsed": false
   },
   "outputs": [],
   "source": [
    "import os\n",
    "import sys\n",
    "from pathlib import Path\n",
    "\n",
    "import numpy as np\n",
    "import torch\n",
    "from monai.utils import set_determinism\n",
    "from torch.utils.data import DataLoader\n",
    "\n",
    "sys.path.insert(0, \"..\")"
   ]
  },
  {
   "cell_type": "code",
   "execution_count": null,
   "metadata": {
    "ExecuteTime": {
     "start_time": "2023-08-05T17:02:12.156974Z",
     "end_time": "2023-08-05T17:02:12.165363Z"
    },
    "collapsed": false
   },
   "outputs": [],
   "source": [
    "from src.utils import setup_dirs\n",
    "\n",
    "root_dir = Path(os.getcwd()).parent\n",
    "data_dir, log_dir, out_dir = setup_dirs(root_dir)\n",
    "data_dir = data_dir / \"ACDC\" / \"database\"\n",
    "\n",
    "set_determinism(seed=42)\n",
    "\n",
    "device = torch.device(\"cuda\") if torch.cuda.is_available() else torch.device(\"cpu\")"
   ]
  },
  {
   "cell_type": "code",
   "execution_count": null,
   "metadata": {
    "ExecuteTime": {
     "start_time": "2023-08-05T17:02:12.167795Z",
     "end_time": "2023-08-05T17:02:12.171548Z"
    },
    "collapsed": false
   },
   "outputs": [],
   "source": [
    "from src.transforms.transforms import get_transforms\n",
    "from src.datasets.acdc_dataset import ACDCDataset\n",
    "\n",
    "augment = True\n",
    "train_transforms, val_transforms = get_transforms(spatial_dims=2, augment=augment)\n",
    "train_data = ACDCDataset(data_dir=data_dir / \"training\", transform=train_transforms)\n",
    "test_data = ACDCDataset(\n",
    "    data_dir=data_dir / \"testing\", transform=val_transforms\n",
    ")  # TODO: do we need separate test transforms?\n",
    "\n",
    "train_loader = DataLoader(train_data, batch_size=4, shuffle=True, num_workers=0)\n",
    "test_loader = DataLoader(test_data, batch_size=4, shuffle=True, num_workers=0)"
   ]
  },
  {
   "cell_type": "code",
   "execution_count": null,
   "metadata": {
    "ExecuteTime": {
     "start_time": "2023-08-05T17:02:12.172700Z",
     "end_time": "2023-08-05T17:02:17.498134Z"
    },
    "collapsed": true
   },
   "outputs": [],
   "source": [
    "from segment_anything import SamPredictor, sam_model_registry\n",
    "\n",
    "model_type = \"vit_h\"\n",
    "checkpoint = root_dir / \"models\" / \"sam_vit_h_4b8939.pth\"\n",
    "sam = sam_model_registry[model_type](checkpoint=checkpoint)\n",
    "sam = sam.to(device)\n",
    "predictor = SamPredictor(sam)"
   ]
  },
  {
   "cell_type": "code",
   "execution_count": null,
   "metadata": {
    "collapsed": false,
    "ExecuteTime": {
     "start_time": "2023-08-05T17:02:17.499531Z",
     "end_time": "2023-08-05T17:02:17.501376Z"
    }
   },
   "outputs": [],
   "source": [
    "def get_bounding_box(ground_truth_map):\n",
    "    # get bounding box from mask\n",
    "    y_indices, x_indices = np.where(ground_truth_map > 0)\n",
    "    x_min, x_max = np.min(x_indices), np.max(x_indices)\n",
    "    y_min, y_max = np.min(y_indices), np.max(y_indices)\n",
    "    # add perturbation to bounding box coordinates\n",
    "    H, W = ground_truth_map.shape\n",
    "    x_min = max(0, x_min - np.random.randint(0, 20))\n",
    "    x_max = min(W, x_max + np.random.randint(0, 20))\n",
    "    y_min = max(0, y_min - np.random.randint(0, 20))\n",
    "    y_max = min(H, y_max + np.random.randint(0, 20))\n",
    "    bbox = [x_min, y_min, x_max, y_max]\n",
    "\n",
    "    return bbox\n",
    "\n",
    "\n",
    "def show_mask(mask, ax, random_color=False):\n",
    "    if random_color:\n",
    "        color = np.concatenate([np.random.random(3), np.array([0.6])], axis=0)\n",
    "    else:\n",
    "        color = np.array([30 / 255, 144 / 255, 255 / 255, 0.6])\n",
    "    h, w = mask.shape[-2:]\n",
    "    mask_image = mask.reshape(h, w, 1) * color.reshape(1, 1, -1)\n",
    "    ax.imshow(mask_image)\n",
    "\n",
    "\n",
    "def show_points(coords, labels, ax, marker_size=375):\n",
    "    pos_points = coords[labels == 1]\n",
    "    neg_points = coords[labels == 0]\n",
    "    ax.scatter(\n",
    "        pos_points[:, 0], pos_points[:, 1], color=\"green\", marker=\"*\", s=marker_size, edgecolor=\"white\", linewidth=1.25\n",
    "    )\n",
    "    ax.scatter(\n",
    "        neg_points[:, 0], neg_points[:, 1], color=\"red\", marker=\"*\", s=marker_size, edgecolor=\"white\", linewidth=1.25\n",
    "    )\n",
    "\n",
    "\n",
    "def show_box(box, ax):\n",
    "    x0, y0 = box[0], box[1]\n",
    "    w, h = box[2] - box[0], box[3] - box[1]\n",
    "    ax.add_patch(plt.Rectangle((x0, y0), w, h, edgecolor=\"green\", facecolor=(0, 0, 0, 0), lw=2))  # %%\n"
   ]
  },
  {
   "cell_type": "code",
   "execution_count": null,
   "metadata": {
    "collapsed": false,
    "ExecuteTime": {
     "start_time": "2023-08-05T17:02:17.502208Z",
     "end_time": "2023-08-05T17:02:17.503359Z"
    }
   },
   "outputs": [],
   "source": [
    "# TODO: base model inference on ACDC\n",
    "# TODO: base model inference on MNMs\n",
    "# TODO: fine-tune on ACDC, inference on ACDC, MNMs\n",
    "# TODO: fine-tune on MNMs, inference on ACDC, MNMs"
   ]
  },
  {
   "cell_type": "code",
   "execution_count": null,
   "metadata": {
    "collapsed": false,
    "ExecuteTime": {
     "start_time": "2023-08-05T17:02:17.506138Z",
     "end_time": "2023-08-05T17:02:32.130278Z"
    }
   },
   "outputs": [],
   "source": [
    "\n",
    "import cv2\n",
    "import matplotlib.pyplot as plt\n",
    "\n",
    "batch = next(iter(test_loader))\n",
    "inputs, labels = batch[\"image\"][0].to(device), batch[\"label\"][0].to(device, dtype=torch.uint8)\n",
    "\n",
    "# The input to the SAM predictor needs to be HWC, where C = 3 in either RGB or BGR format\n",
    "inputs = cv2.cvtColor(inputs.permute(2, 1, 0).numpy(), cv2.COLOR_GRAY2RGB)\n",
    "# Scale to 0-255, convert to uint8\n",
    "inputs = ((inputs - inputs.min()) * (1 / (inputs.max() - inputs.min()) * 255)).astype(\"uint8\")\n",
    "predictor.set_image(inputs)\n",
    "\n",
    "bboxes = []\n",
    "labels = labels[0].permute(1, 0)  # Swap W, H\n",
    "num_classes = np.max(labels) + 1\n",
    "\n",
    "# Get bounding box for each class of one-hot encoded mask\n",
    "for class_index in range(num_classes):\n",
    "    onehot = np.array((labels == class_index)).astype(int)\n",
    "    bboxes.append(np.array(get_bounding_box(onehot)))\n",
    "\n",
    "masks = []\n",
    "for bbox in bboxes:\n",
    "    mask, _, _ = predictor.predict(box=bbox, multimask_output=False)\n",
    "    masks.append(mask)\n"
   ]
  },
  {
   "cell_type": "code",
   "execution_count": null,
   "metadata": {
    "collapsed": false,
    "ExecuteTime": {
     "start_time": "2023-08-05T17:02:32.131268Z",
     "end_time": "2023-08-05T17:02:32.362827Z"
    }
   },
   "outputs": [],
   "source": [
    "plt.figure(figsize=(10, 10))\n",
    "for i in range(num_classes):\n",
    "    print(i)\n",
    "    plt.subplot(num_classes, 3, i * 3 + 1)\n",
    "    plt.imshow(inputs)\n",
    "    show_box(bboxes[i], plt.gca())\n",
    "    plt.axis(\"off\")\n",
    "    plt.subplot(num_classes, 3, i * 3 + 2)\n",
    "    plt.imshow((labels == i))\n",
    "    plt.axis(\"off\")\n",
    "    plt.subplot(num_classes, 3, i * 3 + 3)\n",
    "    show_mask(masks[i], plt.gca())\n",
    "    plt.axis(\"off\")\n",
    "\n",
    "plt.show()\n",
    "\n"
   ]
  },
  {
   "cell_type": "code",
   "execution_count": null,
   "outputs": [],
   "source": [
    "eps = 1e-6\n",
    "dice_scores = []\n",
    "for class_index in range(num_classes):\n",
    "    # Ignore background class\n",
    "    if class_index == 0: continue\n",
    "\n",
    "    ground_truth = (labels == class_index).astype(int)\n",
    "\n",
    "    tp = masks[class_index] * ground_truth\n",
    "    fp = masks[class_index] * (1 - ground_truth)\n",
    "    fn = (1 - masks[class_index]) * ground_truth\n",
    "    tn = (1 - masks[class_index]) * (1 - ground_truth)\n",
    "\n",
    "    dice = (2 * tp.sum() + eps) / (2 * tp.sum() + fp.sum() + fn.sum() + eps)\n",
    "    print(f\"Class {class_index} dice: {dice:.3f}\")\n",
    "    dice_scores.append(dice)\n",
    "\n",
    "print(f\"Average dice: {np.mean(dice_scores):.3f}\")\n",
    "\n"
   ],
   "metadata": {
    "collapsed": false,
    "ExecuteTime": {
     "start_time": "2023-08-05T17:02:32.363960Z",
     "end_time": "2023-08-05T17:02:32.366806Z"
    }
   }
  },
  {
   "cell_type": "code",
   "execution_count": null,
   "outputs": [],
   "source": [
    "from segment_anything.utils.transforms import ResizeLongestSide\n",
    "\n",
    "resize_transform = ResizeLongestSide(sam.image_encoder.img_size)\n",
    "\n",
    "\n",
    "def prepare_image(image, transform, device):\n",
    "    image = cv2.cvtColor(image.permute(2, 1, 0).numpy(), cv2.COLOR_GRAY2RGB)\n",
    "    image = ((image - image.min()) * (1 / (image.max() - image.min()) * 255)).astype(\"uint8\")\n",
    "    image = transform.apply_image(image)\n",
    "    image = torch.as_tensor(image, device=device)\n",
    "    return image.permute(2, 0, 1).contiguous()"
   ],
   "metadata": {
    "collapsed": false,
    "ExecuteTime": {
     "start_time": "2023-08-05T17:02:32.368752Z",
     "end_time": "2023-08-05T17:02:32.370135Z"
    }
   }
  },
  {
   "cell_type": "code",
   "execution_count": null,
   "outputs": [],
   "source": [
    "eps = 1e-6\n",
    "\n",
    "\n",
    "def calculate_dice_per_class(masks, labels, ignore_background=True):\n",
    "    dice_scores = []\n",
    "    for class_index, mask in enumerate(masks):\n",
    "        if ignore_background and class_index == 0: continue\n",
    "\n",
    "        ground_truth = (labels == class_index).astype(int)\n",
    "\n",
    "        tp = mask * ground_truth\n",
    "        fp = mask * (1 - ground_truth)\n",
    "        fn = (1 - mask) * ground_truth\n",
    "        # tn = (1 - mask) * (1 - ground_truth)\n",
    "\n",
    "        dice = (2 * tp.sum() + eps) / (2 * tp.sum() + fp.sum() + fn.sum() + eps)\n",
    "        # print(f\"Class {class_index} dice: {dice:.3f}\")\n",
    "        dice_scores.append(dice)\n",
    "\n",
    "    return dice_scores\n"
   ],
   "metadata": {
    "collapsed": false,
    "ExecuteTime": {
     "start_time": "2023-08-05T17:21:53.107187Z",
     "end_time": "2023-08-05T17:21:53.109045Z"
    }
   }
  },
  {
   "cell_type": "code",
   "execution_count": null,
   "outputs": [],
   "source": [
    "dice_for_batch = []\n",
    "\n",
    "for batch in test_loader:\n",
    "    inputs, labels = batch[\"image\"].to(device), batch[\"label\"].to(device, dtype=torch.uint8)\n",
    "    # batched_input = []\n",
    "    for index, image in enumerate(inputs):\n",
    "        bboxes = []\n",
    "        ground_truth = labels[index][0].permute(1, 0)  # Swap W, H\n",
    "        num_classes = np.max(ground_truth) + 1\n",
    "        # Get bounding box for each class of one-hot encoded mask\n",
    "        for class_index in range(num_classes):\n",
    "            onehot = np.array((ground_truth == class_index)).astype(int)\n",
    "            if np.count_nonzero(onehot) == 0:\n",
    "                bboxes.append(None)\n",
    "            else:\n",
    "                bboxes.append(np.array(get_bounding_box(onehot)))\n",
    "\n",
    "        masks = []\n",
    "        for bbox in bboxes:\n",
    "            # prepared_image = prepare_image(image, resize_transform, device)\n",
    "            # batched_input.append({\"image\": prepared_image, \"box\": bbox, \"original_size\": image.shape[1:]})\n",
    "            mask, _, _ = predictor.predict(box=bbox, multimask_output=False)\n",
    "            masks.append(mask)\n",
    "\n",
    "        dice_scores = calculate_dice_per_class(masks, labels)\n",
    "        dice_for_batch.append(dice_scores)\n",
    "\n",
    "    # batched_output = sam(batched_input, multimask_output=False)\n",
    "    # print(batched_output)\n",
    "\n"
   ],
   "metadata": {
    "collapsed": false,
    "ExecuteTime": {
     "start_time": "2023-08-05T17:22:31.920731Z",
     "end_time": "2023-08-05T17:22:39.444833Z"
    }
   }
  },
  {
   "cell_type": "code",
   "execution_count": null,
   "outputs": [],
   "source": [
    "dice_for_batch"
   ],
   "metadata": {
    "collapsed": false,
    "ExecuteTime": {
     "start_time": "2023-08-05T17:22:47.978423Z",
     "end_time": "2023-08-05T17:22:47.980981Z"
    }
   }
  },
  {
   "cell_type": "code",
   "execution_count": null,
   "outputs": [],
   "source": [],
   "metadata": {
    "collapsed": false
   }
  }
 ],
 "metadata": {
  "kernelspec": {
   "display_name": "Python 3",
   "language": "python",
   "name": "python3"
  },
  "language_info": {
   "codemirror_mode": {
    "name": "ipython",
    "version": 3
   },
   "file_extension": ".py",
   "mimetype": "text/x-python",
   "name": "python",
   "nbconvert_exporter": "python",
   "pygments_lexer": "ipython3",
   "version": "3.11.1"
  }
 },
 "nbformat": 4,
 "nbformat_minor": 0
}
